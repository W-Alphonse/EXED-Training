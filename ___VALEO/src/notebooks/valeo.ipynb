{
 "cells": [
  {
   "cell_type": "code",
   "execution_count": 1,
   "metadata": {},
   "outputs": [],
   "source": [
    "\n",
    "import os\n",
    "import logging\n",
    "import numpy as np\n",
    "import pandas as pd\n",
    "import matplotlib.pyplot as plt\n",
    "import sys\n",
    "%matplotlib inline\n",
    "\n",
    "# sys.path.append(\"../valeo\")\n",
    "sys.path.append(\"..\")\n",
    "\n",
    "from valeo.infrastructure.LogManager import LogManager as lm\n",
    "from valeo.infrastructure import Const\n",
    "from valeo.infrastructure.generic.DfUtil import DfUtil\n",
    "from valeo.infrastructure.generic.ImgUtil import ImgUtil\n",
    "import valeo.infrastructure.Transformer as transf\n",
    "\n",
    "%load_ext autoreload\n",
    "%reload_ext autoreload\n",
    "# %aimport valeo\n",
    "\n",
    "# %reload_ext autoreload\n",
    "# %autoreload \n",
    "\n",
    "%aimport valeo.infrastructure.Transformer \n",
    "%aimport valeo.infrastructure.LogManager\n",
    "\n",
    "%aimport valeo.infrastructure.Const\n",
    "%aimport valeo.infrastructure.generic.DfUtil\n",
    "%aimport valeo.infrastructure.generic.ImgUtil\n",
    "\n"
   ]
  },
  {
   "cell_type": "code",
   "execution_count": 2,
   "metadata": {
    "pycharm": {
     "is_executing": false
    },
    "scrolled": true
   },
   "outputs": [
    {
     "name": "stderr",
     "output_type": "stream",
     "text": [
      "INFO:valeo.infrastructure.generic.YamlLoader:Loading file \"C:\\EXED\\Training\\___VALEO\\src\\valeo\\infrastructure\\..\\..\\..\\src\\valeo\\resources\\logging.yaml\":\n",
      "\t{'version': 1, 'formatters': {'standard': {'format': '%(asctime)s - %(levelname)s - %(name)s - %(message)s'}, 'verbose': {'format': '%(asctime)s - %(levelname)s <PID %(process)d:%(processName)s> %(module)s.%(funcName)s(): %(message)s'}}, 'handlers': {'console': {'class': 'logging.StreamHandler', 'level': 'DEBUG', 'formatter': 'standard', 'stream': 'ext://sys.stdout'}}, 'root': {'level': 'DEBUG', 'handlers': ['console'], 'formatter': 'standard'}}\n"
     ]
    },
    {
     "name": "stdout",
     "output_type": "stream",
     "text": [
      "<class 'pandas.core.frame.DataFrame'>\n",
      "RangeIndex: 34515 entries, 0 to 34514\n",
      "Data columns (total 14 columns):\n",
      " #   Column                           Non-Null Count  Dtype  \n",
      "---  ------                           --------------  -----  \n",
      " 0   PROC_TRACEINFO                   34515 non-null  object \n",
      " 1   OP070_V_1_angle_value            34515 non-null  float64\n",
      " 2   OP090_SnapRingPeakForce_value    34515 non-null  float64\n",
      " 3   OP070_V_2_angle_value            34515 non-null  float64\n",
      " 4   OP120_Rodage_I_mesure_value      34515 non-null  float64\n",
      " 5   OP090_SnapRingFinalStroke_value  34515 non-null  float64\n",
      " 6   OP110_Vissage_M8_torque_value    34515 non-null  float64\n",
      " 7   OP100_Capuchon_insertion_mesure  15888 non-null  float64\n",
      " 8   OP120_Rodage_U_mesure_value      34515 non-null  float64\n",
      " 9   OP070_V_1_torque_value           34515 non-null  float64\n",
      " 10  OP090_StartLinePeakForce_value   34515 non-null  float64\n",
      " 11  OP110_Vissage_M8_angle_value     34515 non-null  float64\n",
      " 12  OP090_SnapRingMidPointForce_val  34515 non-null  float64\n",
      " 13  OP070_V_2_torque_value           34515 non-null  float64\n",
      "dtypes: float64(13), object(1)\n",
      "memory usage: 3.7+ MB\n"
     ]
    }
   ],
   "source": [
    "logger = lm().logger(__name__)\n",
    "\n",
    "data = DfUtil.loadCsvData([Const.rootData() , \"train\", \"traininginputs.csv\"])\n",
    "if data is not None:\n",
    "    data.info()\n",
    "\n",
    "# l = [\"data\", \"train\", \"traininginputs.csv\"]\n",
    "# print(*l[1:])"
   ]
  },
  {
   "cell_type": "code",
   "execution_count": 4,
   "metadata": {
    "pycharm": {
     "is_executing": false
    },
    "scrolled": true
   },
   "outputs": [
    {
     "data": {
      "text/html": [
       "<div>\n",
       "<style scoped>\n",
       "    .dataframe tbody tr th:only-of-type {\n",
       "        vertical-align: middle;\n",
       "    }\n",
       "\n",
       "    .dataframe tbody tr th {\n",
       "        vertical-align: top;\n",
       "    }\n",
       "\n",
       "    .dataframe thead th {\n",
       "        text-align: right;\n",
       "    }\n",
       "</style>\n",
       "<table border=\"1\" class=\"dataframe\">\n",
       "  <thead>\n",
       "    <tr style=\"text-align: right;\">\n",
       "      <th></th>\n",
       "      <th>PROC_TRACEINFO</th>\n",
       "      <th>OP070_V_1_angle_value</th>\n",
       "      <th>OP090_SnapRingPeakForce_value</th>\n",
       "      <th>OP070_V_2_angle_value</th>\n",
       "      <th>OP120_Rodage_I_mesure_value</th>\n",
       "      <th>OP090_SnapRingFinalStroke_value</th>\n",
       "      <th>OP110_Vissage_M8_torque_value</th>\n",
       "      <th>OP100_Capuchon_insertion_mesure</th>\n",
       "      <th>OP120_Rodage_U_mesure_value</th>\n",
       "      <th>OP070_V_1_torque_value</th>\n",
       "      <th>OP090_StartLinePeakForce_value</th>\n",
       "      <th>OP110_Vissage_M8_angle_value</th>\n",
       "      <th>OP090_SnapRingMidPointForce_val</th>\n",
       "      <th>OP070_V_2_torque_value</th>\n",
       "    </tr>\n",
       "  </thead>\n",
       "  <tbody>\n",
       "    <tr>\n",
       "      <th>0</th>\n",
       "      <td>I-B-XA1207672-190429-00688</td>\n",
       "      <td>180.4</td>\n",
       "      <td>190.51</td>\n",
       "      <td>173.1</td>\n",
       "      <td>113.64</td>\n",
       "      <td>12.04</td>\n",
       "      <td>12.16</td>\n",
       "      <td>NaN</td>\n",
       "      <td>11.97</td>\n",
       "      <td>6.62</td>\n",
       "      <td>26.37</td>\n",
       "      <td>18.8</td>\n",
       "      <td>109.62</td>\n",
       "      <td>6.60</td>\n",
       "    </tr>\n",
       "    <tr>\n",
       "      <th>1</th>\n",
       "      <td>I-B-XA1207672-190828-00973</td>\n",
       "      <td>138.7</td>\n",
       "      <td>147.70</td>\n",
       "      <td>163.5</td>\n",
       "      <td>109.77</td>\n",
       "      <td>12.12</td>\n",
       "      <td>12.19</td>\n",
       "      <td>0.39</td>\n",
       "      <td>11.97</td>\n",
       "      <td>6.41</td>\n",
       "      <td>21.03</td>\n",
       "      <td>18.5</td>\n",
       "      <td>105.48</td>\n",
       "      <td>6.40</td>\n",
       "    </tr>\n",
       "    <tr>\n",
       "      <th>2</th>\n",
       "      <td>I-B-XA1207672-190712-03462</td>\n",
       "      <td>180.9</td>\n",
       "      <td>150.87</td>\n",
       "      <td>181.2</td>\n",
       "      <td>109.79</td>\n",
       "      <td>11.86</td>\n",
       "      <td>12.24</td>\n",
       "      <td>NaN</td>\n",
       "      <td>11.97</td>\n",
       "      <td>6.62</td>\n",
       "      <td>25.81</td>\n",
       "      <td>17.5</td>\n",
       "      <td>100.03</td>\n",
       "      <td>6.61</td>\n",
       "    </tr>\n",
       "    <tr>\n",
       "      <th>3</th>\n",
       "      <td>I-B-XA1207672-190803-00051</td>\n",
       "      <td>173.5</td>\n",
       "      <td>159.56</td>\n",
       "      <td>151.8</td>\n",
       "      <td>113.25</td>\n",
       "      <td>11.82</td>\n",
       "      <td>12.35</td>\n",
       "      <td>0.39</td>\n",
       "      <td>11.97</td>\n",
       "      <td>6.62</td>\n",
       "      <td>24.62</td>\n",
       "      <td>15.6</td>\n",
       "      <td>104.94</td>\n",
       "      <td>6.61</td>\n",
       "    </tr>\n",
       "    <tr>\n",
       "      <th>4</th>\n",
       "      <td>I-B-XA1207672-190508-03248</td>\n",
       "      <td>174.5</td>\n",
       "      <td>172.29</td>\n",
       "      <td>177.5</td>\n",
       "      <td>112.88</td>\n",
       "      <td>12.07</td>\n",
       "      <td>12.19</td>\n",
       "      <td>NaN</td>\n",
       "      <td>11.97</td>\n",
       "      <td>6.62</td>\n",
       "      <td>29.22</td>\n",
       "      <td>33.6</td>\n",
       "      <td>99.19</td>\n",
       "      <td>6.61</td>\n",
       "    </tr>\n",
       "  </tbody>\n",
       "</table>\n",
       "</div>"
      ],
      "text/plain": [
       "               PROC_TRACEINFO  OP070_V_1_angle_value  \\\n",
       "0  I-B-XA1207672-190429-00688                  180.4   \n",
       "1  I-B-XA1207672-190828-00973                  138.7   \n",
       "2  I-B-XA1207672-190712-03462                  180.9   \n",
       "3  I-B-XA1207672-190803-00051                  173.5   \n",
       "4  I-B-XA1207672-190508-03248                  174.5   \n",
       "\n",
       "   OP090_SnapRingPeakForce_value  OP070_V_2_angle_value  \\\n",
       "0                         190.51                  173.1   \n",
       "1                         147.70                  163.5   \n",
       "2                         150.87                  181.2   \n",
       "3                         159.56                  151.8   \n",
       "4                         172.29                  177.5   \n",
       "\n",
       "   OP120_Rodage_I_mesure_value  OP090_SnapRingFinalStroke_value  \\\n",
       "0                       113.64                            12.04   \n",
       "1                       109.77                            12.12   \n",
       "2                       109.79                            11.86   \n",
       "3                       113.25                            11.82   \n",
       "4                       112.88                            12.07   \n",
       "\n",
       "   OP110_Vissage_M8_torque_value  OP100_Capuchon_insertion_mesure  \\\n",
       "0                          12.16                              NaN   \n",
       "1                          12.19                             0.39   \n",
       "2                          12.24                              NaN   \n",
       "3                          12.35                             0.39   \n",
       "4                          12.19                              NaN   \n",
       "\n",
       "   OP120_Rodage_U_mesure_value  OP070_V_1_torque_value  \\\n",
       "0                        11.97                    6.62   \n",
       "1                        11.97                    6.41   \n",
       "2                        11.97                    6.62   \n",
       "3                        11.97                    6.62   \n",
       "4                        11.97                    6.62   \n",
       "\n",
       "   OP090_StartLinePeakForce_value  OP110_Vissage_M8_angle_value  \\\n",
       "0                           26.37                          18.8   \n",
       "1                           21.03                          18.5   \n",
       "2                           25.81                          17.5   \n",
       "3                           24.62                          15.6   \n",
       "4                           29.22                          33.6   \n",
       "\n",
       "   OP090_SnapRingMidPointForce_val  OP070_V_2_torque_value  \n",
       "0                           109.62                    6.60  \n",
       "1                           105.48                    6.40  \n",
       "2                           100.03                    6.61  \n",
       "3                           104.94                    6.61  \n",
       "4                            99.19                    6.61  "
      ]
     },
     "execution_count": 4,
     "metadata": {},
     "output_type": "execute_result"
    }
   ],
   "source": [
    "data.head()"
   ]
  },
  {
   "cell_type": "code",
   "execution_count": 5,
   "metadata": {
    "pycharm": {
     "is_executing": false
    }
   },
   "outputs": [
    {
     "data": {
      "text/plain": [
       "PROC_TRACEINFO                         0\n",
       "OP070_V_1_angle_value                  0\n",
       "OP090_SnapRingPeakForce_value          0\n",
       "OP070_V_2_angle_value                  0\n",
       "OP120_Rodage_I_mesure_value            0\n",
       "OP090_SnapRingFinalStroke_value        0\n",
       "OP110_Vissage_M8_torque_value          0\n",
       "OP100_Capuchon_insertion_mesure    18627\n",
       "OP120_Rodage_U_mesure_value            0\n",
       "OP070_V_1_torque_value                 0\n",
       "OP090_StartLinePeakForce_value         0\n",
       "OP110_Vissage_M8_angle_value           0\n",
       "OP090_SnapRingMidPointForce_val        0\n",
       "OP070_V_2_torque_value                 0\n",
       "dtype: int64"
      ]
     },
     "execution_count": 5,
     "metadata": {},
     "output_type": "execute_result"
    }
   ],
   "source": [
    "# Highlight missing data\n",
    "data.isna().sum()"
   ]
  },
  {
   "cell_type": "code",
   "execution_count": 6,
   "metadata": {
    "pycharm": {
     "is_executing": false
    }
   },
   "outputs": [
    {
     "name": "stdout",
     "output_type": "stream",
     "text": [
      "<class 'pandas.core.frame.DataFrame'>\n",
      "RangeIndex: 34515 entries, 0 to 34514\n",
      "Data columns (total 14 columns):\n",
      " #   Column                           Non-Null Count  Dtype  \n",
      "---  ------                           --------------  -----  \n",
      " 0   PROC_TRACEINFO                   34515 non-null  object \n",
      " 1   OP070_V_1_angle_value            34515 non-null  float64\n",
      " 2   OP090_SnapRingPeakForce_value    34515 non-null  float64\n",
      " 3   OP070_V_2_angle_value            34515 non-null  float64\n",
      " 4   OP120_Rodage_I_mesure_value      34515 non-null  float64\n",
      " 5   OP090_SnapRingFinalStroke_value  34515 non-null  float64\n",
      " 6   OP110_Vissage_M8_torque_value    34515 non-null  float64\n",
      " 7   OP100_Capuchon_insertion_mesure  15888 non-null  float64\n",
      " 8   OP120_Rodage_U_mesure_value      34515 non-null  float64\n",
      " 9   OP070_V_1_torque_value           34515 non-null  float64\n",
      " 10  OP090_StartLinePeakForce_value   34515 non-null  float64\n",
      " 11  OP110_Vissage_M8_angle_value     34515 non-null  float64\n",
      " 12  OP090_SnapRingMidPointForce_val  34515 non-null  float64\n",
      " 13  OP070_V_2_torque_value           34515 non-null  float64\n",
      "dtypes: float64(13), object(1)\n",
      "memory usage: 3.7+ MB\n"
     ]
    }
   ],
   "source": [
    "data.info()\n",
    "# 1 - On constate que plus de la moitié des valeurs de la feature 7 sont manquants\n",
    "#     7   OP100_Capuchon_insertion_mesure  15888 non-null  float64\n",
    "# 2 - Toutes les feature sont numériques, pas de features catégoriques\n",
    "# 3 - "
   ]
  },
  {
   "cell_type": "code",
   "execution_count": 7,
   "metadata": {
    "pycharm": {
     "is_executing": false
    }
   },
   "outputs": [
    {
     "data": {
      "text/html": [
       "<div>\n",
       "<style scoped>\n",
       "    .dataframe tbody tr th:only-of-type {\n",
       "        vertical-align: middle;\n",
       "    }\n",
       "\n",
       "    .dataframe tbody tr th {\n",
       "        vertical-align: top;\n",
       "    }\n",
       "\n",
       "    .dataframe thead th {\n",
       "        text-align: right;\n",
       "    }\n",
       "</style>\n",
       "<table border=\"1\" class=\"dataframe\">\n",
       "  <thead>\n",
       "    <tr style=\"text-align: right;\">\n",
       "      <th></th>\n",
       "      <th>OP070_V_1_angle_value</th>\n",
       "      <th>OP090_SnapRingPeakForce_value</th>\n",
       "      <th>OP070_V_2_angle_value</th>\n",
       "      <th>OP120_Rodage_I_mesure_value</th>\n",
       "      <th>OP090_SnapRingFinalStroke_value</th>\n",
       "      <th>OP110_Vissage_M8_torque_value</th>\n",
       "      <th>OP100_Capuchon_insertion_mesure</th>\n",
       "      <th>OP120_Rodage_U_mesure_value</th>\n",
       "      <th>OP070_V_1_torque_value</th>\n",
       "      <th>OP090_StartLinePeakForce_value</th>\n",
       "      <th>OP110_Vissage_M8_angle_value</th>\n",
       "      <th>OP090_SnapRingMidPointForce_val</th>\n",
       "      <th>OP070_V_2_torque_value</th>\n",
       "    </tr>\n",
       "  </thead>\n",
       "  <tbody>\n",
       "    <tr>\n",
       "      <th>0</th>\n",
       "      <td>180.4</td>\n",
       "      <td>190.51</td>\n",
       "      <td>173.1</td>\n",
       "      <td>113.64</td>\n",
       "      <td>12.04</td>\n",
       "      <td>12.16</td>\n",
       "      <td>NaN</td>\n",
       "      <td>11.97</td>\n",
       "      <td>6.62</td>\n",
       "      <td>26.37</td>\n",
       "      <td>18.8</td>\n",
       "      <td>109.62</td>\n",
       "      <td>6.60</td>\n",
       "    </tr>\n",
       "    <tr>\n",
       "      <th>1</th>\n",
       "      <td>138.7</td>\n",
       "      <td>147.70</td>\n",
       "      <td>163.5</td>\n",
       "      <td>109.77</td>\n",
       "      <td>12.12</td>\n",
       "      <td>12.19</td>\n",
       "      <td>0.39</td>\n",
       "      <td>11.97</td>\n",
       "      <td>6.41</td>\n",
       "      <td>21.03</td>\n",
       "      <td>18.5</td>\n",
       "      <td>105.48</td>\n",
       "      <td>6.40</td>\n",
       "    </tr>\n",
       "    <tr>\n",
       "      <th>2</th>\n",
       "      <td>180.9</td>\n",
       "      <td>150.87</td>\n",
       "      <td>181.2</td>\n",
       "      <td>109.79</td>\n",
       "      <td>11.86</td>\n",
       "      <td>12.24</td>\n",
       "      <td>NaN</td>\n",
       "      <td>11.97</td>\n",
       "      <td>6.62</td>\n",
       "      <td>25.81</td>\n",
       "      <td>17.5</td>\n",
       "      <td>100.03</td>\n",
       "      <td>6.61</td>\n",
       "    </tr>\n",
       "    <tr>\n",
       "      <th>3</th>\n",
       "      <td>173.5</td>\n",
       "      <td>159.56</td>\n",
       "      <td>151.8</td>\n",
       "      <td>113.25</td>\n",
       "      <td>11.82</td>\n",
       "      <td>12.35</td>\n",
       "      <td>0.39</td>\n",
       "      <td>11.97</td>\n",
       "      <td>6.62</td>\n",
       "      <td>24.62</td>\n",
       "      <td>15.6</td>\n",
       "      <td>104.94</td>\n",
       "      <td>6.61</td>\n",
       "    </tr>\n",
       "    <tr>\n",
       "      <th>4</th>\n",
       "      <td>174.5</td>\n",
       "      <td>172.29</td>\n",
       "      <td>177.5</td>\n",
       "      <td>112.88</td>\n",
       "      <td>12.07</td>\n",
       "      <td>12.19</td>\n",
       "      <td>NaN</td>\n",
       "      <td>11.97</td>\n",
       "      <td>6.62</td>\n",
       "      <td>29.22</td>\n",
       "      <td>33.6</td>\n",
       "      <td>99.19</td>\n",
       "      <td>6.61</td>\n",
       "    </tr>\n",
       "    <tr>\n",
       "      <th>5</th>\n",
       "      <td>158.7</td>\n",
       "      <td>165.79</td>\n",
       "      <td>178.4</td>\n",
       "      <td>112.09</td>\n",
       "      <td>11.88</td>\n",
       "      <td>12.15</td>\n",
       "      <td>NaN</td>\n",
       "      <td>11.97</td>\n",
       "      <td>6.62</td>\n",
       "      <td>25.99</td>\n",
       "      <td>22.3</td>\n",
       "      <td>97.13</td>\n",
       "      <td>6.63</td>\n",
       "    </tr>\n",
       "    <tr>\n",
       "      <th>6</th>\n",
       "      <td>158.8</td>\n",
       "      <td>153.91</td>\n",
       "      <td>152.5</td>\n",
       "      <td>111.25</td>\n",
       "      <td>12.11</td>\n",
       "      <td>12.19</td>\n",
       "      <td>0.38</td>\n",
       "      <td>11.97</td>\n",
       "      <td>6.41</td>\n",
       "      <td>18.79</td>\n",
       "      <td>17.7</td>\n",
       "      <td>81.56</td>\n",
       "      <td>6.40</td>\n",
       "    </tr>\n",
       "    <tr>\n",
       "      <th>7</th>\n",
       "      <td>181.0</td>\n",
       "      <td>164.02</td>\n",
       "      <td>175.8</td>\n",
       "      <td>117.50</td>\n",
       "      <td>11.75</td>\n",
       "      <td>12.14</td>\n",
       "      <td>NaN</td>\n",
       "      <td>11.97</td>\n",
       "      <td>6.61</td>\n",
       "      <td>24.33</td>\n",
       "      <td>36.0</td>\n",
       "      <td>95.12</td>\n",
       "      <td>6.62</td>\n",
       "    </tr>\n",
       "    <tr>\n",
       "      <th>8</th>\n",
       "      <td>156.1</td>\n",
       "      <td>159.50</td>\n",
       "      <td>151.8</td>\n",
       "      <td>111.75</td>\n",
       "      <td>12.09</td>\n",
       "      <td>12.21</td>\n",
       "      <td>NaN</td>\n",
       "      <td>11.97</td>\n",
       "      <td>6.61</td>\n",
       "      <td>26.07</td>\n",
       "      <td>16.6</td>\n",
       "      <td>101.57</td>\n",
       "      <td>6.61</td>\n",
       "    </tr>\n",
       "    <tr>\n",
       "      <th>9</th>\n",
       "      <td>159.4</td>\n",
       "      <td>162.99</td>\n",
       "      <td>128.3</td>\n",
       "      <td>107.68</td>\n",
       "      <td>11.88</td>\n",
       "      <td>12.35</td>\n",
       "      <td>NaN</td>\n",
       "      <td>11.98</td>\n",
       "      <td>6.62</td>\n",
       "      <td>24.05</td>\n",
       "      <td>17.9</td>\n",
       "      <td>99.20</td>\n",
       "      <td>6.60</td>\n",
       "    </tr>\n",
       "  </tbody>\n",
       "</table>\n",
       "</div>"
      ],
      "text/plain": [
       "   OP070_V_1_angle_value  OP090_SnapRingPeakForce_value  \\\n",
       "0                  180.4                         190.51   \n",
       "1                  138.7                         147.70   \n",
       "2                  180.9                         150.87   \n",
       "3                  173.5                         159.56   \n",
       "4                  174.5                         172.29   \n",
       "5                  158.7                         165.79   \n",
       "6                  158.8                         153.91   \n",
       "7                  181.0                         164.02   \n",
       "8                  156.1                         159.50   \n",
       "9                  159.4                         162.99   \n",
       "\n",
       "   OP070_V_2_angle_value  OP120_Rodage_I_mesure_value  \\\n",
       "0                  173.1                       113.64   \n",
       "1                  163.5                       109.77   \n",
       "2                  181.2                       109.79   \n",
       "3                  151.8                       113.25   \n",
       "4                  177.5                       112.88   \n",
       "5                  178.4                       112.09   \n",
       "6                  152.5                       111.25   \n",
       "7                  175.8                       117.50   \n",
       "8                  151.8                       111.75   \n",
       "9                  128.3                       107.68   \n",
       "\n",
       "   OP090_SnapRingFinalStroke_value  OP110_Vissage_M8_torque_value  \\\n",
       "0                            12.04                          12.16   \n",
       "1                            12.12                          12.19   \n",
       "2                            11.86                          12.24   \n",
       "3                            11.82                          12.35   \n",
       "4                            12.07                          12.19   \n",
       "5                            11.88                          12.15   \n",
       "6                            12.11                          12.19   \n",
       "7                            11.75                          12.14   \n",
       "8                            12.09                          12.21   \n",
       "9                            11.88                          12.35   \n",
       "\n",
       "   OP100_Capuchon_insertion_mesure  OP120_Rodage_U_mesure_value  \\\n",
       "0                              NaN                        11.97   \n",
       "1                             0.39                        11.97   \n",
       "2                              NaN                        11.97   \n",
       "3                             0.39                        11.97   \n",
       "4                              NaN                        11.97   \n",
       "5                              NaN                        11.97   \n",
       "6                             0.38                        11.97   \n",
       "7                              NaN                        11.97   \n",
       "8                              NaN                        11.97   \n",
       "9                              NaN                        11.98   \n",
       "\n",
       "   OP070_V_1_torque_value  OP090_StartLinePeakForce_value  \\\n",
       "0                    6.62                           26.37   \n",
       "1                    6.41                           21.03   \n",
       "2                    6.62                           25.81   \n",
       "3                    6.62                           24.62   \n",
       "4                    6.62                           29.22   \n",
       "5                    6.62                           25.99   \n",
       "6                    6.41                           18.79   \n",
       "7                    6.61                           24.33   \n",
       "8                    6.61                           26.07   \n",
       "9                    6.62                           24.05   \n",
       "\n",
       "   OP110_Vissage_M8_angle_value  OP090_SnapRingMidPointForce_val  \\\n",
       "0                          18.8                           109.62   \n",
       "1                          18.5                           105.48   \n",
       "2                          17.5                           100.03   \n",
       "3                          15.6                           104.94   \n",
       "4                          33.6                            99.19   \n",
       "5                          22.3                            97.13   \n",
       "6                          17.7                            81.56   \n",
       "7                          36.0                            95.12   \n",
       "8                          16.6                           101.57   \n",
       "9                          17.9                            99.20   \n",
       "\n",
       "   OP070_V_2_torque_value  \n",
       "0                    6.60  \n",
       "1                    6.40  \n",
       "2                    6.61  \n",
       "3                    6.61  \n",
       "4                    6.61  \n",
       "5                    6.63  \n",
       "6                    6.40  \n",
       "7                    6.62  \n",
       "8                    6.61  \n",
       "9                    6.60  "
      ]
     },
     "execution_count": 7,
     "metadata": {},
     "output_type": "execute_result"
    }
   ],
   "source": [
    "# Remove Identifier from features\n",
    "X_data = data.drop(columns = \"PROC_TRACEINFO\")\n",
    "X_data.head(10)"
   ]
  },
  {
   "cell_type": "code",
   "execution_count": 8,
   "metadata": {
    "pycharm": {
     "is_executing": false
    }
   },
   "outputs": [],
   "source": [
    "# https://support.minitab.com/en-us/minitab-express/1/help-and-how-to/modeling-statistics/regression/supporting-topics/basics/a-comparison-of-the-pearson-and-spearman-correlation-methods/\n",
    "# https://support.minitab.com/en-us/minitab-express/1/help-and-how-to/modeling-statistics/regression/supporting-topics/basics/linear-nonlinear-and-monotonic-relationships/    \n",
    "    "
   ]
  },
  {
   "cell_type": "code",
   "execution_count": 9,
   "metadata": {
    "pycharm": {
     "is_executing": false
    }
   },
   "outputs": [
    {
     "data": {
      "text/html": [
       "<div>\n",
       "<style scoped>\n",
       "    .dataframe tbody tr th:only-of-type {\n",
       "        vertical-align: middle;\n",
       "    }\n",
       "\n",
       "    .dataframe tbody tr th {\n",
       "        vertical-align: top;\n",
       "    }\n",
       "\n",
       "    .dataframe thead th {\n",
       "        text-align: right;\n",
       "    }\n",
       "</style>\n",
       "<table border=\"1\" class=\"dataframe\">\n",
       "  <thead>\n",
       "    <tr style=\"text-align: right;\">\n",
       "      <th></th>\n",
       "      <th>OP070_V_1_angle_value</th>\n",
       "      <th>OP070_V_1_torque_value</th>\n",
       "      <th>OP070_V_2_angle_value</th>\n",
       "      <th>OP070_V_2_torque_value</th>\n",
       "      <th>OP110_Vissage_M8_angle_value</th>\n",
       "      <th>OP110_Vissage_M8_torque_value</th>\n",
       "    </tr>\n",
       "  </thead>\n",
       "  <tbody>\n",
       "    <tr>\n",
       "      <th>count</th>\n",
       "      <td>34515.000000</td>\n",
       "      <td>34515.000000</td>\n",
       "      <td>34515.000000</td>\n",
       "      <td>34515.000000</td>\n",
       "      <td>34515.000000</td>\n",
       "      <td>34515.000000</td>\n",
       "    </tr>\n",
       "    <tr>\n",
       "      <th>mean</th>\n",
       "      <td>159.906922</td>\n",
       "      <td>6.548403</td>\n",
       "      <td>159.618236</td>\n",
       "      <td>6.550867</td>\n",
       "      <td>17.878398</td>\n",
       "      <td>12.256785</td>\n",
       "    </tr>\n",
       "    <tr>\n",
       "      <th>std</th>\n",
       "      <td>15.662650</td>\n",
       "      <td>0.097602</td>\n",
       "      <td>15.091490</td>\n",
       "      <td>0.094814</td>\n",
       "      <td>6.785079</td>\n",
       "      <td>0.065319</td>\n",
       "    </tr>\n",
       "    <tr>\n",
       "      <th>min</th>\n",
       "      <td>101.800000</td>\n",
       "      <td>5.670000</td>\n",
       "      <td>82.000000</td>\n",
       "      <td>5.740000</td>\n",
       "      <td>6.300000</td>\n",
       "      <td>12.030000</td>\n",
       "    </tr>\n",
       "    <tr>\n",
       "      <th>25%</th>\n",
       "      <td>148.700000</td>\n",
       "      <td>6.410000</td>\n",
       "      <td>149.400000</td>\n",
       "      <td>6.420000</td>\n",
       "      <td>13.500000</td>\n",
       "      <td>12.210000</td>\n",
       "    </tr>\n",
       "    <tr>\n",
       "      <th>50%</th>\n",
       "      <td>158.000000</td>\n",
       "      <td>6.610000</td>\n",
       "      <td>158.700000</td>\n",
       "      <td>6.610000</td>\n",
       "      <td>16.400000</td>\n",
       "      <td>12.260000</td>\n",
       "    </tr>\n",
       "    <tr>\n",
       "      <th>75%</th>\n",
       "      <td>169.300000</td>\n",
       "      <td>6.620000</td>\n",
       "      <td>168.900000</td>\n",
       "      <td>6.610000</td>\n",
       "      <td>20.200000</td>\n",
       "      <td>12.300000</td>\n",
       "    </tr>\n",
       "    <tr>\n",
       "      <th>max</th>\n",
       "      <td>198.300000</td>\n",
       "      <td>6.670000</td>\n",
       "      <td>198.100000</td>\n",
       "      <td>6.670000</td>\n",
       "      <td>84.600000</td>\n",
       "      <td>12.500000</td>\n",
       "    </tr>\n",
       "  </tbody>\n",
       "</table>\n",
       "</div>"
      ],
      "text/plain": [
       "       OP070_V_1_angle_value  OP070_V_1_torque_value  OP070_V_2_angle_value  \\\n",
       "count           34515.000000            34515.000000           34515.000000   \n",
       "mean              159.906922                6.548403             159.618236   \n",
       "std                15.662650                0.097602              15.091490   \n",
       "min               101.800000                5.670000              82.000000   \n",
       "25%               148.700000                6.410000             149.400000   \n",
       "50%               158.000000                6.610000             158.700000   \n",
       "75%               169.300000                6.620000             168.900000   \n",
       "max               198.300000                6.670000             198.100000   \n",
       "\n",
       "       OP070_V_2_torque_value  OP110_Vissage_M8_angle_value  \\\n",
       "count            34515.000000                  34515.000000   \n",
       "mean                 6.550867                     17.878398   \n",
       "std                  0.094814                      6.785079   \n",
       "min                  5.740000                      6.300000   \n",
       "25%                  6.420000                     13.500000   \n",
       "50%                  6.610000                     16.400000   \n",
       "75%                  6.610000                     20.200000   \n",
       "max                  6.670000                     84.600000   \n",
       "\n",
       "       OP110_Vissage_M8_torque_value  \n",
       "count                   34515.000000  \n",
       "mean                       12.256785  \n",
       "std                         0.065319  \n",
       "min                        12.030000  \n",
       "25%                        12.210000  \n",
       "50%                        12.260000  \n",
       "75%                        12.300000  \n",
       "max                        12.500000  "
      ]
     },
     "execution_count": 9,
     "metadata": {},
     "output_type": "execute_result"
    }
   ],
   "source": [
    "data[[\"OP070_V_1_angle_value\",\"OP070_V_1_torque_value\",\"OP070_V_2_angle_value\",\"OP070_V_2_torque_value\",\"OP110_Vissage_M8_angle_value\",\"OP110_Vissage_M8_torque_value\"]].describe()\n",
    "# OP070_V_1_angle_value, OP070_V_2_angle_value: Std à 10% de la moyenne. Pas important\n",
    "# ==============\n",
    "# 1 - Aucun Min égal à 0\n",
    "# 2 - OP070_V_2_angle_value : Outlier côté Min\n",
    "# 3 - OP110_Vissage_M8_angle_value : Outlier côté Max\n",
    "# 4 - OP110_Vissage_M8_torque_value : Presque Constant"
   ]
  },
  {
   "cell_type": "code",
   "execution_count": 10,
   "metadata": {
    "pycharm": {
     "is_executing": false
    }
   },
   "outputs": [
    {
     "data": {
      "text/html": [
       "<div>\n",
       "<style scoped>\n",
       "    .dataframe tbody tr th:only-of-type {\n",
       "        vertical-align: middle;\n",
       "    }\n",
       "\n",
       "    .dataframe tbody tr th {\n",
       "        vertical-align: top;\n",
       "    }\n",
       "\n",
       "    .dataframe thead th {\n",
       "        text-align: right;\n",
       "    }\n",
       "</style>\n",
       "<table border=\"1\" class=\"dataframe\">\n",
       "  <thead>\n",
       "    <tr style=\"text-align: right;\">\n",
       "      <th></th>\n",
       "      <th>OP090_StartLinePeakForce_value</th>\n",
       "      <th>OP090_SnapRingMidPointForce_val</th>\n",
       "      <th>OP090_SnapRingPeakForce_value</th>\n",
       "      <th>OP090_SnapRingFinalStroke_value</th>\n",
       "    </tr>\n",
       "  </thead>\n",
       "  <tbody>\n",
       "    <tr>\n",
       "      <th>count</th>\n",
       "      <td>34515.000000</td>\n",
       "      <td>34515.000000</td>\n",
       "      <td>34515.000000</td>\n",
       "      <td>34515.000000</td>\n",
       "    </tr>\n",
       "    <tr>\n",
       "      <th>mean</th>\n",
       "      <td>23.630152</td>\n",
       "      <td>97.700978</td>\n",
       "      <td>156.915055</td>\n",
       "      <td>11.970190</td>\n",
       "    </tr>\n",
       "    <tr>\n",
       "      <th>std</th>\n",
       "      <td>2.546341</td>\n",
       "      <td>6.837714</td>\n",
       "      <td>11.271492</td>\n",
       "      <td>0.169873</td>\n",
       "    </tr>\n",
       "    <tr>\n",
       "      <th>min</th>\n",
       "      <td>0.000000</td>\n",
       "      <td>0.000000</td>\n",
       "      <td>0.000000</td>\n",
       "      <td>0.000000</td>\n",
       "    </tr>\n",
       "    <tr>\n",
       "      <th>25%</th>\n",
       "      <td>22.280000</td>\n",
       "      <td>94.310000</td>\n",
       "      <td>149.210000</td>\n",
       "      <td>11.850000</td>\n",
       "    </tr>\n",
       "    <tr>\n",
       "      <th>50%</th>\n",
       "      <td>23.880000</td>\n",
       "      <td>98.500000</td>\n",
       "      <td>156.180000</td>\n",
       "      <td>12.040000</td>\n",
       "    </tr>\n",
       "    <tr>\n",
       "      <th>75%</th>\n",
       "      <td>25.290000</td>\n",
       "      <td>102.230000</td>\n",
       "      <td>164.380000</td>\n",
       "      <td>12.080000</td>\n",
       "    </tr>\n",
       "    <tr>\n",
       "      <th>max</th>\n",
       "      <td>43.410000</td>\n",
       "      <td>127.300000</td>\n",
       "      <td>196.920000</td>\n",
       "      <td>12.190000</td>\n",
       "    </tr>\n",
       "  </tbody>\n",
       "</table>\n",
       "</div>"
      ],
      "text/plain": [
       "       OP090_StartLinePeakForce_value  OP090_SnapRingMidPointForce_val  \\\n",
       "count                    34515.000000                     34515.000000   \n",
       "mean                        23.630152                        97.700978   \n",
       "std                          2.546341                         6.837714   \n",
       "min                          0.000000                         0.000000   \n",
       "25%                         22.280000                        94.310000   \n",
       "50%                         23.880000                        98.500000   \n",
       "75%                         25.290000                       102.230000   \n",
       "max                         43.410000                       127.300000   \n",
       "\n",
       "       OP090_SnapRingPeakForce_value  OP090_SnapRingFinalStroke_value  \n",
       "count                   34515.000000                     34515.000000  \n",
       "mean                      156.915055                        11.970190  \n",
       "std                        11.271492                         0.169873  \n",
       "min                         0.000000                         0.000000  \n",
       "25%                       149.210000                        11.850000  \n",
       "50%                       156.180000                        12.040000  \n",
       "75%                       164.380000                        12.080000  \n",
       "max                       196.920000                        12.190000  "
      ]
     },
     "execution_count": 10,
     "metadata": {},
     "output_type": "execute_result"
    }
   ],
   "source": [
    "data[[\"OP090_StartLinePeakForce_value\",\"OP090_SnapRingMidPointForce_val\",\"OP090_SnapRingPeakForce_value\",\"OP090_SnapRingFinalStroke_value\"]].describe()\n",
    "# OP090_StartLinePeakForce_value\n",
    "# OP090_SnapRingMidPointForce_val\n",
    "# OP090_SnapRingPeakForce_value\n",
    "# OP090_SnapRingFinalStroke_value:\n",
    "# ==============\n",
    "# 1 - Min equal à 0 pour tout les features \n",
    "#     => Probablement mauvaise valeurs (noise) => Utiliser Imputer pour leur attribuer une valeur \n",
    "# 2 - OP090_StartLinePeakForce_value : Max est un Outlier\n",
    "\n",
    "# TODO: Calculer le nombre de ligne whose Min(x) is equal à 0"
   ]
  },
  {
   "cell_type": "code",
   "execution_count": 11,
   "metadata": {
    "pycharm": {
     "is_executing": false
    }
   },
   "outputs": [
    {
     "data": {
      "text/html": [
       "<div>\n",
       "<style scoped>\n",
       "    .dataframe tbody tr th:only-of-type {\n",
       "        vertical-align: middle;\n",
       "    }\n",
       "\n",
       "    .dataframe tbody tr th {\n",
       "        vertical-align: top;\n",
       "    }\n",
       "\n",
       "    .dataframe thead th {\n",
       "        text-align: right;\n",
       "    }\n",
       "</style>\n",
       "<table border=\"1\" class=\"dataframe\">\n",
       "  <thead>\n",
       "    <tr style=\"text-align: right;\">\n",
       "      <th></th>\n",
       "      <th>PROC_TRACEINFO</th>\n",
       "      <th>OP070_V_1_angle_value</th>\n",
       "      <th>OP090_SnapRingPeakForce_value</th>\n",
       "      <th>OP070_V_2_angle_value</th>\n",
       "      <th>OP120_Rodage_I_mesure_value</th>\n",
       "      <th>OP090_SnapRingFinalStroke_value</th>\n",
       "      <th>OP110_Vissage_M8_torque_value</th>\n",
       "      <th>OP100_Capuchon_insertion_mesure</th>\n",
       "      <th>OP120_Rodage_U_mesure_value</th>\n",
       "      <th>OP070_V_1_torque_value</th>\n",
       "      <th>OP090_StartLinePeakForce_value</th>\n",
       "      <th>OP110_Vissage_M8_angle_value</th>\n",
       "      <th>OP090_SnapRingMidPointForce_val</th>\n",
       "      <th>OP070_V_2_torque_value</th>\n",
       "    </tr>\n",
       "  </thead>\n",
       "  <tbody>\n",
       "    <tr>\n",
       "      <th>549</th>\n",
       "      <td>I-B-XA1207672-190907-01953</td>\n",
       "      <td>137.4</td>\n",
       "      <td>0.0</td>\n",
       "      <td>166.7</td>\n",
       "      <td>105.51</td>\n",
       "      <td>0.0</td>\n",
       "      <td>12.22</td>\n",
       "      <td>0.41</td>\n",
       "      <td>11.97</td>\n",
       "      <td>6.43</td>\n",
       "      <td>0.0</td>\n",
       "      <td>20.6</td>\n",
       "      <td>0.0</td>\n",
       "      <td>6.40</td>\n",
       "    </tr>\n",
       "    <tr>\n",
       "      <th>1651</th>\n",
       "      <td>I-B-XA1207672-190821-01367</td>\n",
       "      <td>178.7</td>\n",
       "      <td>0.0</td>\n",
       "      <td>170.4</td>\n",
       "      <td>112.95</td>\n",
       "      <td>0.0</td>\n",
       "      <td>12.33</td>\n",
       "      <td>0.39</td>\n",
       "      <td>11.97</td>\n",
       "      <td>6.61</td>\n",
       "      <td>0.0</td>\n",
       "      <td>12.8</td>\n",
       "      <td>0.0</td>\n",
       "      <td>6.61</td>\n",
       "    </tr>\n",
       "    <tr>\n",
       "      <th>22483</th>\n",
       "      <td>I-B-XA1207672-190424-02168</td>\n",
       "      <td>166.4</td>\n",
       "      <td>0.0</td>\n",
       "      <td>171.5</td>\n",
       "      <td>117.26</td>\n",
       "      <td>0.0</td>\n",
       "      <td>12.16</td>\n",
       "      <td>NaN</td>\n",
       "      <td>11.97</td>\n",
       "      <td>6.62</td>\n",
       "      <td>0.0</td>\n",
       "      <td>13.3</td>\n",
       "      <td>0.0</td>\n",
       "      <td>6.61</td>\n",
       "    </tr>\n",
       "  </tbody>\n",
       "</table>\n",
       "</div>"
      ],
      "text/plain": [
       "                   PROC_TRACEINFO  OP070_V_1_angle_value  \\\n",
       "549    I-B-XA1207672-190907-01953                  137.4   \n",
       "1651   I-B-XA1207672-190821-01367                  178.7   \n",
       "22483  I-B-XA1207672-190424-02168                  166.4   \n",
       "\n",
       "       OP090_SnapRingPeakForce_value  OP070_V_2_angle_value  \\\n",
       "549                              0.0                  166.7   \n",
       "1651                             0.0                  170.4   \n",
       "22483                            0.0                  171.5   \n",
       "\n",
       "       OP120_Rodage_I_mesure_value  OP090_SnapRingFinalStroke_value  \\\n",
       "549                         105.51                              0.0   \n",
       "1651                        112.95                              0.0   \n",
       "22483                       117.26                              0.0   \n",
       "\n",
       "       OP110_Vissage_M8_torque_value  OP100_Capuchon_insertion_mesure  \\\n",
       "549                            12.22                             0.41   \n",
       "1651                           12.33                             0.39   \n",
       "22483                          12.16                              NaN   \n",
       "\n",
       "       OP120_Rodage_U_mesure_value  OP070_V_1_torque_value  \\\n",
       "549                          11.97                    6.43   \n",
       "1651                         11.97                    6.61   \n",
       "22483                        11.97                    6.62   \n",
       "\n",
       "       OP090_StartLinePeakForce_value  OP110_Vissage_M8_angle_value  \\\n",
       "549                               0.0                          20.6   \n",
       "1651                              0.0                          12.8   \n",
       "22483                             0.0                          13.3   \n",
       "\n",
       "       OP090_SnapRingMidPointForce_val  OP070_V_2_torque_value  \n",
       "549                                0.0                    6.40  \n",
       "1651                               0.0                    6.61  \n",
       "22483                              0.0                    6.61  "
      ]
     },
     "execution_count": 11,
     "metadata": {},
     "output_type": "execute_result"
    }
   ],
   "source": [
    "# data[\"OP090_StartLinePeakForce_value\"].min()\n",
    "# print(data[data[\"OP090_StartLinePeakForce_value\"] == 0].count())   # 3\n",
    "# print(data[data[\"OP090_SnapRingMidPointForce_val\"] == 0].count())\n",
    "# print(data[data[\"OP090_SnapRingPeakForce_value\"] == 0].count())\n",
    "# print(data[data[\"OP090_SnapRingFinalStroke_value\"] == 0].count())\n",
    "data[data[\"OP090_StartLinePeakForce_value\"] == 0]\n",
    "\n",
    "# 3 lignes dont les fetaures sont egales à 0 => Probablement mauvaise valeurs (noise) \n",
    "# => Utiliser Imputer pour leur attribuer une valeur \n"
   ]
  },
  {
   "cell_type": "code",
   "execution_count": 12,
   "metadata": {
    "pycharm": {
     "is_executing": false
    }
   },
   "outputs": [
    {
     "data": {
      "text/html": [
       "<div>\n",
       "<style scoped>\n",
       "    .dataframe tbody tr th:only-of-type {\n",
       "        vertical-align: middle;\n",
       "    }\n",
       "\n",
       "    .dataframe tbody tr th {\n",
       "        vertical-align: top;\n",
       "    }\n",
       "\n",
       "    .dataframe thead th {\n",
       "        text-align: right;\n",
       "    }\n",
       "</style>\n",
       "<table border=\"1\" class=\"dataframe\">\n",
       "  <thead>\n",
       "    <tr style=\"text-align: right;\">\n",
       "      <th></th>\n",
       "      <th>OP120_Rodage_I_mesure_value</th>\n",
       "      <th>OP120_Rodage_U_mesure_value</th>\n",
       "      <th>OP100_Capuchon_insertion_mesure</th>\n",
       "    </tr>\n",
       "  </thead>\n",
       "  <tbody>\n",
       "    <tr>\n",
       "      <th>count</th>\n",
       "      <td>34515.000000</td>\n",
       "      <td>34515.000000</td>\n",
       "      <td>15888.000000</td>\n",
       "    </tr>\n",
       "    <tr>\n",
       "      <th>mean</th>\n",
       "      <td>113.350222</td>\n",
       "      <td>11.971027</td>\n",
       "      <td>0.388173</td>\n",
       "    </tr>\n",
       "    <tr>\n",
       "      <th>std</th>\n",
       "      <td>3.528522</td>\n",
       "      <td>0.003050</td>\n",
       "      <td>0.024425</td>\n",
       "    </tr>\n",
       "    <tr>\n",
       "      <th>min</th>\n",
       "      <td>99.990000</td>\n",
       "      <td>11.970000</td>\n",
       "      <td>0.240000</td>\n",
       "    </tr>\n",
       "    <tr>\n",
       "      <th>25%</th>\n",
       "      <td>111.040000</td>\n",
       "      <td>11.970000</td>\n",
       "      <td>0.380000</td>\n",
       "    </tr>\n",
       "    <tr>\n",
       "      <th>50%</th>\n",
       "      <td>113.160000</td>\n",
       "      <td>11.970000</td>\n",
       "      <td>0.390000</td>\n",
       "    </tr>\n",
       "    <tr>\n",
       "      <th>75%</th>\n",
       "      <td>115.380000</td>\n",
       "      <td>11.970000</td>\n",
       "      <td>0.410000</td>\n",
       "    </tr>\n",
       "    <tr>\n",
       "      <th>max</th>\n",
       "      <td>177.950000</td>\n",
       "      <td>11.990000</td>\n",
       "      <td>0.420000</td>\n",
       "    </tr>\n",
       "  </tbody>\n",
       "</table>\n",
       "</div>"
      ],
      "text/plain": [
       "       OP120_Rodage_I_mesure_value  OP120_Rodage_U_mesure_value  \\\n",
       "count                 34515.000000                 34515.000000   \n",
       "mean                    113.350222                    11.971027   \n",
       "std                       3.528522                     0.003050   \n",
       "min                      99.990000                    11.970000   \n",
       "25%                     111.040000                    11.970000   \n",
       "50%                     113.160000                    11.970000   \n",
       "75%                     115.380000                    11.970000   \n",
       "max                     177.950000                    11.990000   \n",
       "\n",
       "       OP100_Capuchon_insertion_mesure  \n",
       "count                     15888.000000  \n",
       "mean                          0.388173  \n",
       "std                           0.024425  \n",
       "min                           0.240000  \n",
       "25%                           0.380000  \n",
       "50%                           0.390000  \n",
       "75%                           0.410000  \n",
       "max                           0.420000  "
      ]
     },
     "execution_count": 12,
     "metadata": {},
     "output_type": "execute_result"
    }
   ],
   "source": [
    "data[[\"OP120_Rodage_I_mesure_value\",\"OP120_Rodage_U_mesure_value\",\"OP100_Capuchon_insertion_mesure\"]].describe()\n",
    "# \n",
    "# OP120_Rodage_U_mesure_value + OP100_Capuchon_insertion_mesure : Très petite variance\n",
    "# OP120_Rodage_I_mesure_value: Outlier cote Max + petite variance"
   ]
  },
  {
   "cell_type": "code",
   "execution_count": 13,
   "metadata": {
    "pycharm": {
     "is_executing": false
    }
   },
   "outputs": [
    {
     "data": {
      "text/plain": [
       "PROC_TRACEINFO                     510\n",
       "OP070_V_1_angle_value              510\n",
       "OP090_SnapRingPeakForce_value      510\n",
       "OP070_V_2_angle_value              510\n",
       "OP120_Rodage_I_mesure_value        510\n",
       "OP090_SnapRingFinalStroke_value    510\n",
       "OP110_Vissage_M8_torque_value      510\n",
       "OP100_Capuchon_insertion_mesure    207\n",
       "OP120_Rodage_U_mesure_value        510\n",
       "OP070_V_1_torque_value             510\n",
       "OP090_StartLinePeakForce_value     510\n",
       "OP110_Vissage_M8_angle_value       510\n",
       "OP090_SnapRingMidPointForce_val    510\n",
       "OP070_V_2_torque_value             510\n",
       "dtype: int64"
      ]
     },
     "execution_count": 13,
     "metadata": {},
     "output_type": "execute_result"
    }
   ],
   "source": [
    "# Q3 + 1,5*IQR = 115.38 + 1,5 * 4,34 = 121,89\n",
    "filter_q3 = data[\"OP120_Rodage_I_mesure_value\"] > 121.89\n",
    "data[filter_q3].count()"
   ]
  },
  {
   "cell_type": "code",
   "execution_count": 14,
   "metadata": {
    "pycharm": {
     "is_executing": false
    }
   },
   "outputs": [
    {
     "data": {
      "image/png": "[encoded data removed]",
      "text/plain": [
       "<Figure size 720x576 with 1 Axes>"
      ]
     },
     "metadata": {
      "needs_background": "light"
     },
     "output_type": "display_data"
    }
   ],
   "source": [
    "data.loc[filter_q3, [\"OP120_Rodage_I_mesure_value\"]].hist(bins=10, figsize=(10,8))\n",
    "plt.show()"
   ]
  },
  {
   "cell_type": "code",
   "execution_count": 17,
   "metadata": {
    "pycharm": {
     "is_executing": false
    },
    "scrolled": false
   },
   "outputs": [],
   "source": [
    "#----------------------\n",
    "# DONT RETAIN THIS CODE\n",
    "#----------------------\n",
    "# explicitly require this experimental feature\n",
    "# from sklearn.experimental import enable_iterative_imputer\n",
    "# now you can import normally from sklearn.impute\n",
    "# from sklearn.impute import IterativeImputer\n",
    "# from sklearn.linear_model import BayesianRidge\n",
    "# \n",
    "# # print(X_data.columns)\n",
    "# cols = X_data.columns\n",
    "# # print (type(cols))\n",
    "# imputer = IterativeImputer(BayesianRidge())\n",
    "# X_data_transformed = pd.DataFrame(imputer.fit_transform(X_data))\n",
    "# X_data_transformed.columns = cols\n",
    "# X_data_transformed.head(10)\n",
    "\n",
    "# %load_ext autoreload\n",
    "# %reload_ext autoreload\n",
    "# %aimport valeo.infrastructure.Transformer \n",
    "# %aimport valeo.infrastructure.LogManager\n",
    "\n",
    "tsf = transf.Transformer()\n",
    "X_data_transformed = tsf.iterative_imputer_transform(X_data)\n",
    "print(X_data_transformed.head(10))"
   ]
  },
  {
   "cell_type": "code",
   "execution_count": 44,
   "metadata": {
    "pycharm": {
     "is_executing": false
    }
   },
   "outputs": [],
   "source": [
    "#-------------------------------------\n",
    "# DONT RETAIN THIS CODE : BUGGY CODE\n",
    "#-----------------------------------\n",
    "def dataFrameImputer(dfToImpute:pd.DataFrame, imputer):\n",
    "    '''This method encodes non-null data and replace it in the original data'''\n",
    "    # Retains only non-null values. dropna: Remove [rows(default) OR columns] when missing values\n",
    "    nonulls = np.array(dfToImpute.dropna()) \n",
    "    # Reshapes the data for encoding\n",
    "    impute_reshape = nonulls.reshape(-1,1)\n",
    "    #     #encode date\n",
    "    #     impute_ordinal = imputer.fit_transform(impute_reshape)\n",
    "    # Assign back encoded values to non-null values\n",
    "    dfToImpute.loc[dfToImpute.notnull()] = np.squeeze(imputer.fit_transform(impute_reshape))  # np.squeeze: Remove single-dimensional entries from the shape of an array.\n",
    "    return dfToImpute"
   ]
  },
  {
   "cell_type": "code",
   "execution_count": 15,
   "metadata": {
    "pycharm": {
     "is_executing": false
    }
   },
   "outputs": [],
   "source": [
    "# X_data_transformed_1 = dataFrameImputer(X_data, IterativeImputer(BayesianRidge()))\n",
    "# X_data_transformed_1.columns = cols\n",
    "# X_data_transformed_1.head(10)"
   ]
  },
  {
   "cell_type": "code",
   "execution_count": 16,
   "metadata": {
    "pycharm": {
     "is_executing": false
    }
   },
   "outputs": [],
   "source": [
    "    # def save_fig_(fig_id:str, tight_layout=True, fig_extension=\"png\", resolution=300):\n",
    "    #     path = os.path.join(Const.rootImages() , fig_id + \".\" + fig_extension)\n",
    "    #     print(f\"Saving figure '{fig_id}\")\n",
    "    #     if tight_layout:\n",
    "    #         plt.tight_layout()\n",
    "    #     plt.savefig(path, format=fig_extension, dpi=resolution)"
   ]
  },
  {
   "cell_type": "code",
   "execution_count": 19,
   "metadata": {
    "pycharm": {
     "is_executing": false
    }
   },
   "outputs": [
    {
     "data": {
      "image/png": "[encoded data removed]",
      "text/plain": [
       "<Figure size 1440x1080 with 16 Axes>"
      ]
     },
     "metadata": {
      "needs_background": "light"
     },
     "output_type": "display_data"
    }
   ],
   "source": [
    "%matplotlib inline\n",
    "import matplotlib.pyplot as plt\n",
    "\n",
    "X_data.hist(bins=50, figsize=(20,15))\n",
    "img = ImgUtil()\n",
    "img.save_fig(fig_id=\"attribute_histogram_plots\")\n",
    "plt.show()"
   ]
  },
  {
   "cell_type": "code",
   "execution_count": 18,
   "metadata": {
    "pycharm": {
     "is_executing": false
    }
   },
   "outputs": [
    {
     "ename": "NameError",
     "evalue": "name 'data_num_features' is not defined",
     "output_type": "error",
     "traceback": [
      "\u001b[1;31m---------------------------------------------------------------------------\u001b[0m",
      "\u001b[1;31mNameError\u001b[0m                                 Traceback (most recent call last)",
      "\u001b[1;32m<ipython-input-18-9a8eb8acdffe>\u001b[0m in \u001b[0;36m<module>\u001b[1;34m\u001b[0m\n\u001b[0;32m      5\u001b[0m \u001b[1;32mimport\u001b[0m \u001b[0mmatplotlib\u001b[0m\u001b[1;33m.\u001b[0m\u001b[0mpyplot\u001b[0m \u001b[1;32mas\u001b[0m \u001b[0mplt\u001b[0m\u001b[1;33m\u001b[0m\u001b[1;33m\u001b[0m\u001b[0m\n\u001b[0;32m      6\u001b[0m \u001b[1;33m\u001b[0m\u001b[0m\n\u001b[1;32m----> 7\u001b[1;33m \u001b[0mdata_num_features\u001b[0m \u001b[1;33m=\u001b[0m \u001b[0mdata_num_features\u001b[0m \u001b[1;33m+\u001b[0m \u001b[1;36m1\u001b[0m\u001b[1;33m\u001b[0m\u001b[1;33m\u001b[0m\u001b[0m\n\u001b[0m\u001b[0;32m      8\u001b[0m \u001b[0mdata_num_features_log10\u001b[0m \u001b[1;33m=\u001b[0m \u001b[0mdata_num_features\u001b[0m\u001b[1;33m.\u001b[0m\u001b[0mapplymap\u001b[0m\u001b[1;33m(\u001b[0m\u001b[0mnp\u001b[0m\u001b[1;33m.\u001b[0m\u001b[0mlog10\u001b[0m\u001b[1;33m)\u001b[0m\u001b[1;33m\u001b[0m\u001b[1;33m\u001b[0m\u001b[0m\n\u001b[0;32m      9\u001b[0m \u001b[0mdata_num_features_log10\u001b[0m\u001b[1;33m.\u001b[0m\u001b[0mhist\u001b[0m\u001b[1;33m(\u001b[0m\u001b[0mbins\u001b[0m\u001b[1;33m=\u001b[0m\u001b[1;36m50\u001b[0m\u001b[1;33m,\u001b[0m \u001b[0mfigsize\u001b[0m\u001b[1;33m=\u001b[0m\u001b[1;33m(\u001b[0m\u001b[1;36m20\u001b[0m\u001b[1;33m,\u001b[0m\u001b[1;36m15\u001b[0m\u001b[1;33m)\u001b[0m\u001b[1;33m)\u001b[0m\u001b[1;33m\u001b[0m\u001b[1;33m\u001b[0m\u001b[0m\n",
      "\u001b[1;31mNameError\u001b[0m: name 'data_num_features' is not defined"
     ]
    }
   ],
   "source": [
    "#----------------------\n",
    "# NOT RETAINED\n",
    "#----------------------\n",
    "%matplotlib inline\n",
    "import matplotlib.pyplot as plt\n",
    "\n",
    "data_num_features = data_num_features + 1\n",
    "data_num_features_log10 = data_num_features.applymap(np.log10)\n",
    "data_num_features_log10.hist(bins=50, figsize=(20,15))\n",
    "ImgUtil.save_fig(\"attribute_histogram_plots_log10\")\n",
    "plt.show()"
   ]
  },
  {
   "cell_type": "code",
   "execution_count": null,
   "metadata": {
    "pycharm": {
     "is_executing": false
    }
   },
   "outputs": [],
   "source": [
    "#----------------------\n",
    "# DONT RETAIN THIS CODE\n",
    "#----------------------\n",
    "# data.applymap(math.log10)\n",
    "# data.drop\n",
    "# import math\n",
    "data_num_features = data.drop(columns = \"PROC_TRACEINFO\")\n",
    "# dd = data_num_features.applymap(np.log10)\n",
    "data_num_features.applymap(np.log10).describe()\n",
    "# data_num_features.applymap(math.log10).hist(bins=50, figsize=(20,15))\n",
    "# ImgUtil.save_fig(\"attribute_histogram_plots_log10\")\n",
    "# plt.show()"
   ]
  },
  {
   "cell_type": "code",
   "execution_count": null,
   "metadata": {
    "pycharm": {
     "is_executing": false
    },
    "scrolled": true
   },
   "outputs": [],
   "source": [
    "#----------------------\n",
    "# DONT RETAIN THIS CODE\n",
    "#----------------------\n",
    "# from pandas.tools.plotting import scatter_matrix # For older versions of Pandas\n",
    "\n",
    "# from pandas.plotting import scatter_matrix\n",
    "\n",
    "# attributes = [\n",
    "# \"OP070_V_1_angle_value\",\"OP070_V_1_torque_value\",\"OP070_V_2_angle_value\",\"OP070_V_2_torque_value\",\"OP110_Vissage_M8_angle_value\",\"OP110_Vissage_M8_torque_value\",\n",
    "# \"OP090_StartLinePeakForce_value\",\"OP090_SnapRingMidPointForce_val\",\"OP090_SnapRingPeakForce_value\",\"OP090_SnapRingFinalStroke_value\",\n",
    "# \"OP120_Rodage_I_mesure_value\",\"OP120_Rodage_U_mesure_value\",\"OP100_Capuchon_insertion_mesure\"]\n",
    "# scatter_matrix(data[attributes], figsize=(20,15))\n",
    "# ImgUtil.save_fig(\"scatter_matrix_plot\")"
   ]
  },
  {
   "cell_type": "code",
   "execution_count": null,
   "metadata": {
    "pycharm": {
     "is_executing": false
    }
   },
   "outputs": [],
   "source": [
    "#----------------------\n",
    "# DONT RETAIN THIS CODE\n",
    "#----------------------\n",
    "\n",
    "# from pandas.plotting import scatter_matrix\n",
    "\n",
    "# attributes = [\n",
    "# \"OP070_V_1_angle_value\",\"OP070_V_1_torque_value\",\"OP070_V_2_angle_value\",\"OP070_V_2_torque_value\",\"OP110_Vissage_M8_angle_value\",\"OP110_Vissage_M8_torque_value\",\n",
    "# \"OP090_StartLinePeakForce_value\",\"OP090_SnapRingMidPointForce_val\",\"OP090_SnapRingPeakForce_value\",\"OP090_SnapRingFinalStroke_value\",\n",
    "# \"OP120_Rodage_I_mesure_value\",\"OP120_Rodage_U_mesure_value\",\"OP100_Capuchon_insertion_mesure\"]\n",
    "# scatter_matrix(data[attributes], figsize=(12, 8))\n",
    "# ImgUtil.save_fig(\"scatter_matrix_plot\")"
   ]
  },
  {
   "cell_type": "code",
   "execution_count": null,
   "metadata": {
    "pycharm": {
     "is_executing": false
    }
   },
   "outputs": [],
   "source": [
    "#----------------------\n",
    "# DONT RETAIN THIS CODE\n",
    "#----------------------\n",
    "# from pandas.plotting import scatter_matrix\n",
    "# attributes = [\n",
    "# \"OP070_V_1_angle_value\",\"OP070_V_1_torque_value\",\"OP070_V_2_angle_value\",\"OP070_V_2_torque_value\",\"OP110_Vissage_M8_angle_value\",\"OP110_Vissage_M8_torque_value\",\n",
    "# \"OP090_StartLinePeakForce_value\",\"OP090_SnapRingMidPointForce_val\",\"OP090_SnapRingPeakForce_value\",\"OP090_SnapRingFinalStroke_value\",\n",
    "# \"OP120_Rodage_I_mesure_value\",\"OP120_Rodage_U_mesure_value\",\"OP100_Capuchon_insertion_mesure\"]\n",
    "# scatter_matrix(data[attributes], figsize=(12, 8))\n",
    "# ImgUtil.save_fig(\"scatter_matrix_plot\")"
   ]
  },
  {
   "cell_type": "code",
   "execution_count": null,
   "metadata": {
    "pycharm": {
     "is_executing": false
    }
   },
   "outputs": [],
   "source": [
    "output = DfUtil.loadCsvData([Const.rootData(), \"train\", \"trainingoutput.csv\"])\n",
    "output.head()"
   ]
  },
  {
   "cell_type": "code",
   "execution_count": null,
   "metadata": {
    "pycharm": {
     "is_executing": false
    }
   },
   "outputs": [],
   "source": [
    "data.head()"
   ]
  },
  {
   "cell_type": "code",
   "execution_count": null,
   "metadata": {
    "pycharm": {
     "is_executing": false
    }
   },
   "outputs": [],
   "source": [
    "data_out = pd.merge(left=data, right=output, how='inner', left_on=\"PROC_TRACEINFO\", right_on=\"PROC_TRACEINFO\")\n",
    "data_out.head()"
   ]
  },
  {
   "cell_type": "code",
   "execution_count": null,
   "metadata": {
    "pycharm": {
     "is_executing": false
    }
   },
   "outputs": [],
   "source": [
    "# data_out.drop(columns = \"PROC_TRACEINFO\")\n",
    "data_out.info()"
   ]
  },
  {
   "cell_type": "code",
   "execution_count": null,
   "metadata": {
    "pycharm": {
     "is_executing": false
    }
   },
   "outputs": [],
   "source": [
    "corr_matrix = data_out.corr()\n",
    "corr_matrix[\"Binar OP130_Resultat_Global_v\"].sort_values(ascending=False)"
   ]
  },
  {
   "cell_type": "code",
   "execution_count": null,
   "metadata": {
    "pycharm": {
     "is_executing": false
    }
   },
   "outputs": [],
   "source": [
    "attributes = [\"Binar OP130_Resultat_Global_v\",\"OP070_V_2_torque_value\",\"OP070_V_1_torque_value\",\"OP070_V_1_angle_value\"]\n",
    "pd.plotting.scatter_matrix(data_out[attributes], figsize=(20,15))\n",
    "ImgUtil.save_fig(\"scatter_matrix_plot_corr_1\")"
   ]
  },
  {
   "cell_type": "code",
   "execution_count": null,
   "metadata": {
    "pycharm": {
     "is_executing": false
    }
   },
   "outputs": [],
   "source": [
    "attributes = [\"Binar OP130_Resultat_Global_v\",\"OP100_Capuchon_insertion_mesure\",\"OP090_SnapRingFinalStroke_value\",\"OP090_SnapRingMidPointForce_val\"]\n",
    "pd.plotting.scatter_matrix(data_out[attributes], figsize=(20,15))\n",
    "ImgUtil.save_fig(\"scatter_matrix_plot_corr_2\")"
   ]
  },
  {
   "cell_type": "code",
   "execution_count": null,
   "metadata": {
    "pycharm": {
     "is_executing": false
    }
   },
   "outputs": [],
   "source": [
    "data_out.info()"
   ]
  },
  {
   "cell_type": "code",
   "execution_count": null,
   "metadata": {
    "pycharm": {
     "is_executing": false
    }
   },
   "outputs": [],
   "source": [
    "data_out.plot(kind=\"scatter\", x=\"OP070_V_2_torque_value\", y = \"OP070_V_1_torque_value\", \n",
    "              c=\"Binar OP130_Resultat_Global_v\", cmap=plt.get_cmap(\"jet\"), colorbar = True,\n",
    "              figsize=(20,15),\n",
    "              alpha=0.3)  # jet : ranges from Blue(=0) to Red(=1)\n",
    "# plt.axis([0, 16, 0, 550000])\n",
    "# ImgUtil.save_fig(\"income_vs_house_value_scatterplot\")\n",
    "\n",
    "# No conclusion about this code ......"
   ]
  },
  {
   "cell_type": "code",
   "execution_count": null,
   "metadata": {
    "pycharm": {
     "is_executing": false
    }
   },
   "outputs": [],
   "source": [
    "#   data.drop(columns = \"PROC_TRACEINFO\")"
   ]
  },
  {
   "cell_type": "code",
   "execution_count": null,
   "metadata": {
    "pycharm": {
     "is_executing": false
    }
   },
   "outputs": [],
   "source": []
  },
  {
   "cell_type": "code",
   "execution_count": null,
   "metadata": {
    "pycharm": {
     "is_executing": false
    }
   },
   "outputs": [],
   "source": []
  }
 ],
 "metadata": {
  "kernelspec": {
   "display_name": "Python 3",
   "language": "python",
   "name": "python3"
  },
  "language_info": {
   "codemirror_mode": {
    "name": "ipython",
    "version": 3
   },
   "file_extension": ".py",
   "mimetype": "text/x-python",
   "name": "python",
   "nbconvert_exporter": "python",
   "pygments_lexer": "ipython3",
   "version": "3.7.4"
  },
  "pycharm": {
   "stem_cell": {
    "cell_type": "raw",
    "metadata": {
     "collapsed": false
    },
    "source": []
   }
  }
 },
 "nbformat": 4,
 "nbformat_minor": 1
}
