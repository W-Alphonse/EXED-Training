{
 "cells": [
  {
   "cell_type": "code",
   "execution_count": 1,
   "metadata": {},
   "outputs": [
    {
     "name": "stderr",
     "output_type": "stream",
     "text": [
      "Error while load data from ..//data/train/traininginputs.csv\n",
      "Traceback (most recent call last):\n",
      "  File \"<ipython-input-1-97b5abf80bde>\", line 13, in loadCsvData\n",
      "    return pd.read_csv(os.path.join(pathAsStrList[0], *pathAsStrList[1:]) )\n",
      "  File \"C:\\envdev\\Anaconda3\\lib\\site-packages\\pandas\\io\\parsers.py\", line 676, in parser_f\n",
      "    return _read(filepath_or_buffer, kwds)\n",
      "  File \"C:\\envdev\\Anaconda3\\lib\\site-packages\\pandas\\io\\parsers.py\", line 448, in _read\n",
      "    parser = TextFileReader(fp_or_buf, **kwds)\n",
      "  File \"C:\\envdev\\Anaconda3\\lib\\site-packages\\pandas\\io\\parsers.py\", line 880, in __init__\n",
      "    self._make_engine(self.engine)\n",
      "  File \"C:\\envdev\\Anaconda3\\lib\\site-packages\\pandas\\io\\parsers.py\", line 1114, in _make_engine\n",
      "    self._engine = CParserWrapper(self.f, **self.options)\n",
      "  File \"C:\\envdev\\Anaconda3\\lib\\site-packages\\pandas\\io\\parsers.py\", line 1891, in __init__\n",
      "    self._reader = parsers.TextReader(src, **kwds)\n",
      "  File \"pandas\\_libs\\parsers.pyx\", line 374, in pandas._libs.parsers.TextReader.__cinit__\n",
      "  File \"pandas\\_libs\\parsers.pyx\", line 673, in pandas._libs.parsers.TextReader._setup_parser_source\n",
      "FileNotFoundError: [Errno 2] File ..//data\\train\\traininginputs.csv does not exist: '..//data\\\\train\\\\traininginputs.csv'\n"
     ]
    }
   ],
   "source": [
    "\n",
    "import os\n",
    "import logging\n",
    "import numpy as np\n",
    "import pandas as pd\n",
    "import matplotlib.pyplot as plt\n",
    "\n",
    "# %matplotlib.pyplot inline\n",
    "\n",
    "logger = logging.getLogger('valeo.main')\n",
    "\n",
    "def loadCsvData(pathAsStrList):\n",
    "    try:\n",
    "        return pd.read_csv(os.path.join(pathAsStrList[0], *pathAsStrList[1:]) )\n",
    "        return None\n",
    "    except (Exception):\n",
    "        logger.exception(\"Error while load data from %s\", \"/\".join(pathAsStrList))\n",
    "\n",
    "data = loadCsvData([\"..//data\", \"train\", \"traininginputs.csv\"])\n",
    "if data is not None:\n",
    "    data.info()\n",
    "\n",
    "\n",
    "# l = [\"data\", \"train\", \"traininginputs.csv\"]\n",
    "# print(*l[1:])"
   ]
  },
  {
   "cell_type": "code",
   "execution_count": null,
   "metadata": {},
   "outputs": [],
   "source": [
    "# On constate que plus de la moitié des valeur de la feature 7 sont manquants\n",
    "# 7   OP100_Capuchon_insertion_mesure  15888 non-null  float64\n",
    "data.describe()"
   ]
  }
 ],
 "metadata": {
  "kernelspec": {
   "display_name": "Python 3",
   "language": "python",
   "name": "python3"
  },
  "language_info": {
   "codemirror_mode": {
    "name": "ipython",
    "version": 3
   },
   "file_extension": ".py",
   "mimetype": "text/x-python",
   "name": "python",
   "nbconvert_exporter": "python",
   "pygments_lexer": "ipython3",
   "version": "3.7.4"
  }
 },
 "nbformat": 4,
 "nbformat_minor": 1
}
