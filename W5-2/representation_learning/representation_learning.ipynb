{
 "cells": [
  {
   "cell_type": "markdown",
   "metadata": {},
   "source": [
    "# Representation Learning\n",
    "The success of machine learning algorithms depends a lot on data representation. Representation learning has recently emerged as an alternative approach to feature extraction. In representation learning, features are extracted from unlabeled data by training a neural network on a secondary, supervised learning task. In this lab, we will apply representation learning techniques to textual and graph-structured data. The code that you will write make use of the Gensim and NetworkX libraries of Python.\n",
    "\n",
    "## Part 1: Learning word representations\n",
    "In the first part of the lab, we will use the [Word2Vec](http://www.cs.columbia.edu/~blei/seminar/2016_discrete_data/readings/MikolovSutskeverChenCorradoDean2013.pdf) model to learn high-quality word representations that capture several syntactic and semantic word relationship.\n",
    "\n",
    "Throughout the entire session, we will be working with a subpart of the [OpinRank](http://kavita-ganesan.com/entity-ranking-data/) dataset. The OpinRank dataset contains reviews of cars and hotels. We will focus only on the hotel reviews. These reviews are stored in the `reviews_data.txt.gz` file. Each line in this file corresponds to a hotel review. Use the `load_data()` function defined below to read the data."
   ]
  },
  {
   "cell_type": "code",
   "execution_count": 6,
   "metadata": {},
   "outputs": [],
   "source": [
    "import gzip\n",
    "\n",
    "def load_data():\n",
    "    data = list()\n",
    "    with gzip.open ('data/reviews_data.txt.gz', 'rb') as f:\n",
    "        for line in f:\n",
    "            data.append(line.decode('utf-8', 'backslashreplace'))\n",
    "    return data\n",
    "\n",
    "#your code here\n",
    "data = load_data()"
   ]
  },
  {
   "cell_type": "markdown",
   "metadata": {},
   "source": [
    "The `load_data()` function returns a list that contains all the hotel reviews. Print the second review of the dataset."
   ]
  },
  {
   "cell_type": "code",
   "execution_count": 7,
   "metadata": {},
   "outputs": [
    {
     "name": "stdout",
     "output_type": "stream",
     "text": [
      "2nd review : Sep 25 2009 \tGreat Budget Hotel!\tStayed two nights at Aloft on the most recent trip to China. The hotel was very modern and clean. The room was spotless and a comfortable king sized bed (as far as soft beds go in China). The staff was very punctual and went out of the way to help my every need, including going to a store across the street to purchase a China Mobile SIM card for me. The buffet breakfast was okay, nothing to write home about. The 42\\x94 LCD screen had movies on demand for 20RMB and had a good selection of western channels including HBO, CNN, BBC, Star World etc\\x85 The gym was small, had a selection of basic weights and one cable machine, there was however 6 new TechnoGym cardio machines with built in LCD TVs which were very good. The location is a bit out of the way to the central areas of Beijing, but it is better suited for my needs as I need to be in the Haidian district. Being SPG Platinum there were no upgrades to a better room, because Aloft has a policy of not doing any upgrades. The Sheraton next door is a much nicer hotel in my opinion (where I am writing this from now, with an upgraded room) but as far as bang for the buck, Aloft is a great place!\t\r\n",
      "\n"
     ]
    }
   ],
   "source": [
    "#your code here\n",
    "print(\"2nd review :\", data[1])"
   ]
  },
  {
   "cell_type": "markdown",
   "metadata": {},
   "source": [
    "The documents that are contained in the dataset have already undergone some preprocessing. Therefore, we will only remove some punctuation marks, diacritics, and non letters, if any. Note that the input to the Word2Vec model has to be a list of lists (a list of sentences/documents where each sentence/document is a list of tokens). Therefore, we will also represent each document as a list of tokens. Use the `clean_str()` function defined below to preprocess each hotel review. Then, print the second preprocessed review."
   ]
  },
  {
   "cell_type": "code",
   "execution_count": 8,
   "metadata": {},
   "outputs": [],
   "source": [
    "import re\n",
    "\n",
    "def clean_str(string):\n",
    "    string = re.sub(r\"[^A-Za-z0-9(),!?\\'\\`]\", \" \", string)     \n",
    "    string = re.sub(r\"\\'s\", \" \\'s\", string) \n",
    "    string = re.sub(r\"\\'ve\", \" \\'ve\", string) \n",
    "    string = re.sub(r\"n\\'t\", \" n\\'t\", string) \n",
    "    string = re.sub(r\"\\'re\", \" \\'re\", string) \n",
    "    string = re.sub(r\"\\'d\", \" \\'d\", string) \n",
    "    string = re.sub(r\"\\'ll\", \" \\'ll\", string) \n",
    "    string = re.sub(r\",\", \" , \", string) \n",
    "    string = re.sub(r\"!\", \" ! \", string) \n",
    "    string = re.sub(r\"\\(\", \" \\( \", string) \n",
    "    string = re.sub(r\"\\)\", \" \\) \", string) \n",
    "    string = re.sub(r\"\\?\", \" \\? \", string) \n",
    "    string = re.sub(r\"\\s{2,}\", \" \", string)\n",
    "    return string.strip().split()\n",
    "\n",
    "\n",
    "#your code here\n",
    "for i in range(len(data)) :\n",
    "    data[i] = clean_str(data[i])"
   ]
  },
  {
   "cell_type": "markdown",
   "metadata": {},
   "source": [
    "We will next train the CBOW model. Training of the CBOW model is very efficient since it does not involve any dense matrix multiplications. We will use Gensim's implementation of Word2Vec. We first need to initialize the Skipgram model (e.g., a [Word2Vec](https://radimrehurek.com/gensim/models/word2vec.html#gensim.models.word2vec.Word2Vec) object. The general syntax for initializing the model is the following:\n",
    "\n",
    "```\n",
    "model = Word2Vec(size=300, window=5, min_count=4, sg=1, workers=8)\n",
    "```\n",
    "\n",
    "where `size` corresponds to the dimensionality of the word embeddings, `window` is the maximum distance between the target word and its neighboring word within a sentence, `min_count` corresponds to the minimium frequency count of words, `sg` determines the type of the model (i.e., Skipgram or CBOW) and `workers` determines the number of CPU threads to use to train the model. Initialize a Word2Vec object and set the dimensionality of the word vectors equal to 100, the size of the window to 20, ignore all words with total frequency lower than 2, use the Skipgram model, and set the number of workers equal to the number of threads of your machine. Then, use the [build_vocab()](https://radimrehurek.com/gensim/models/word2vec.html#gensim.models.word2vec.Word2Vec.build_vocab) function of the Word2Vec object to build the vocabulary. This function takes as input a sequence of documents (e.g., list of lists) and extracts the vocabulary of the corpus."
   ]
  },
  {
   "cell_type": "code",
   "execution_count": 9,
   "metadata": {},
   "outputs": [],
   "source": [
    "from gensim.models import Word2Vec\n",
    "\n",
    "#your code here\n",
    "model = Word2Vec(size=100, window=20, \n",
    "                 min_count=2, # The 'count' words to ignore \n",
    "                 sg=0,   # 0 instead of 1\n",
    "                 workers=8)  # nber of threads\n",
    "\n",
    "model.build_vocab(data)"
   ]
  },
  {
   "cell_type": "markdown",
   "metadata": {},
   "source": [
    "After extracting the vocabulary, we can use the [train()](https://radimrehurek.com/gensim/models/word2vec.html#gensim.models.word2vec.Word2Vec.train) function of the Word2Vec object to start training the model. The general syntax of the function is the following:\n",
    "\n",
    "```\n",
    "model.train(input_data, total_examples=model.corpus_count, epochs=3) \n",
    "```\n",
    "\n",
    "where `input_data` is the list of input documents, `total_examples` is the number of input documents, and `epochs` is the number of iterations over the input data. Use the `train()` function to train the model. Set the number of epochs to 5. Training time depends on the hardware of your machine. Note that it can take up to 10 minutes."
   ]
  },
  {
   "cell_type": "code",
   "execution_count": 11,
   "metadata": {},
   "outputs": [
    {
     "data": {
      "text/plain": [
       "(174897526, 238004055)"
      ]
     },
     "execution_count": 11,
     "metadata": {},
     "output_type": "execute_result"
    }
   ],
   "source": [
    "#your code here\n",
    "model.train(data, total_examples=model.corpus_count, epochs=5)"
   ]
  },
  {
   "cell_type": "markdown",
   "metadata": {},
   "source": [
    "Next, we will experiment with the word embeddings learned by our model. First, we will get familiar with some interesting properties of word embeddings by performing some operations manually. The [most_similar()](https://radimrehurek.com/gensim/models/keyedvectors.html#gensim.models.keyedvectors.WordEmbeddingsKeyedVectors.most_similar) function returns the 10 terms that are most similar to a given word. The general syntax of the function is the following:\n",
    "\n",
    "```\n",
    "model.wv.most_similar(positive=input_word) \n",
    "```\n",
    " \n",
    "Use the function to find the words that are similar to the word “France”."
   ]
  },
  {
   "cell_type": "code",
   "execution_count": 12,
   "metadata": {},
   "outputs": [
    {
     "data": {
      "text/plain": [
       "[('Germany', 0.7670559883117676),\n",
       " ('Canada', 0.7550739049911499),\n",
       " ('Spain', 0.7526635527610779),\n",
       " ('Boston', 0.7342631816864014),\n",
       " ('Angeles', 0.731537938117981),\n",
       " ('England', 0.7272442579269409),\n",
       " ('Los', 0.7084534168243408),\n",
       " ('Ireland', 0.7068540453910828),\n",
       " ('Hawaii', 0.7035245299339294),\n",
       " ('Africa', 0.7019871473312378)]"
      ]
     },
     "execution_count": 12,
     "metadata": {},
     "output_type": "execute_result"
    }
   ],
   "source": [
    "#your code here\n",
    "model.wv.most_similar(positive='France') "
   ]
  },
  {
   "cell_type": "markdown",
   "metadata": {},
   "source": [
    "You can specify the number of similar words to be retrieved by setting the `topn` parameter of the `most_similar()` function to some value. Use the function to retrieve the 20 words that are most similar to the word “football”."
   ]
  },
  {
   "cell_type": "code",
   "execution_count": 13,
   "metadata": {},
   "outputs": [
    {
     "data": {
      "text/plain": [
       "[('soccer', 0.7897042036056519),\n",
       " ('premiership', 0.7788867950439453),\n",
       " ('game', 0.7714018821716309),\n",
       " ('NFL', 0.7152206897735596),\n",
       " ('dancers', 0.703330934047699),\n",
       " ('sports', 0.6998550891876221),\n",
       " ('hockey', 0.6958106756210327),\n",
       " ('baseball', 0.6943795084953308),\n",
       " ('bands', 0.6943728923797607),\n",
       " ('sport', 0.6942998170852661),\n",
       " ('band', 0.6926464438438416),\n",
       " ('Elvis', 0.692436158657074),\n",
       " ('plays', 0.691702127456665),\n",
       " ('dancing', 0.6814851760864258),\n",
       " ('songs', 0.6804498434066772),\n",
       " ('video', 0.6785889863967896),\n",
       " ('Football', 0.6729291677474976),\n",
       " ('films', 0.6708112955093384),\n",
       " ('games', 0.6707170605659485),\n",
       " ('jazz', 0.6692355871200562)]"
      ]
     },
     "execution_count": 13,
     "metadata": {},
     "output_type": "execute_result"
    }
   ],
   "source": [
    "#your code here\n",
    "model.wv.most_similar(positive='football', topn=20) "
   ]
  },
  {
   "cell_type": "markdown",
   "metadata": {},
   "source": [
    "Next, we will compute the similarity between terms. To calculate the similarity between two words, you can use the [similarity()](https://radimrehurek.com/gensim/models/keyedvectors.html#gensim.models.keyedvectors.FastTextKeyedVectors.similarity) function which takes two words as input and computes their cosine similarity. The general syntax of the function is shown below:\n",
    "\n",
    "```\n",
    "model.wv.similarity(w1=input_word1, w2=input_word2)\n",
    "```\n",
    " \n",
    "Use the function to calculate the similarity between the words “dog” and “cat”."
   ]
  },
  {
   "cell_type": "code",
   "execution_count": 14,
   "metadata": {},
   "outputs": [
    {
     "data": {
      "text/plain": [
       "0.34479734"
      ]
     },
     "execution_count": 14,
     "metadata": {},
     "output_type": "execute_result"
    }
   ],
   "source": [
    "#your code here\n",
    "model.wv.similarity(w1='cat', w2='dog')"
   ]
  },
  {
   "cell_type": "markdown",
   "metadata": {},
   "source": [
    "Use the same function to compute the similarity between the words “rugby” and “man”, and the words “rugby” and “woman”. What do you observe?"
   ]
  },
  {
   "cell_type": "code",
   "execution_count": 17,
   "metadata": {},
   "outputs": [
    {
     "data": {
      "text/plain": [
       "0.17448619"
      ]
     },
     "execution_count": 17,
     "metadata": {},
     "output_type": "execute_result"
    }
   ],
   "source": [
    "#your code here\n",
    "model.wv.similarity(w1='man', w2='woman')\n",
    "model.wv.similarity(w1='man', w2='rugby')\n"
   ]
  },
  {
   "cell_type": "markdown",
   "metadata": {},
   "source": [
    "From the above, it is clear that the word representations learned by neural networks are very interesting because the generated vectors explicitly encode many linguistic regularities and patterns. Many of these patterns can be represented as linear translations. You can find the terms that are most similar to such linear translations using the [most_similar()](https://radimrehurek.com/gensim/models/keyedvectors.html#gensim.models.keyedvectors.WordEmbeddingsKeyedVectors.most_similar) function. Use the function to obtain the 5 words that are most similar to the result of the following vector operation: “king” - “man” + “woman”. What do you observe?"
   ]
  },
  {
   "cell_type": "code",
   "execution_count": 18,
   "metadata": {},
   "outputs": [
    {
     "data": {
      "text/plain": [
       "[('queen', 0.8434895277023315),\n",
       " ('King', 0.7799643278121948),\n",
       " ('twin', 0.7384719848632812),\n",
       " ('double', 0.7239646911621094),\n",
       " ('Queen', 0.7220069169998169),\n",
       " ('kingsize', 0.7000532746315002),\n",
       " ('queensize', 0.6531853675842285),\n",
       " ('rollaway', 0.6508166193962097),\n",
       " ('murphy', 0.6449742317199707),\n",
       " ('dbl', 0.6405621767044067)]"
      ]
     },
     "execution_count": 18,
     "metadata": {},
     "output_type": "execute_result"
    }
   ],
   "source": [
    "#your code here\n",
    "model.wv.most_similar(positive=['king', 'woman'], negative=['man'])\n",
    "\n",
    "# VECT.of.king - VECT.of.man + VECT.of.woman"
   ]
  },
  {
   "cell_type": "markdown",
   "metadata": {},
   "source": [
    "Next, we will project the 200 most frequent words of our dataset into the two-dimensional space, and we will visualize them. The 200 most frequent words, correspond to the first 200 elements of the [index2entity](https://radimrehurek.com/gensim/models/keyedvectors.html#gensim.models.keyedvectors.WordEmbeddingsKeyedVectors.index2entity) list. Given a term, you can obtain its representation as follows:\n",
    "\n",
    "```\n",
    "vec = model.wv[word]\n",
    "```\n",
    "\n",
    "Store the representations of the 200 most frequent terms in a 200 $\\times$ 100 matrix, and then use PCA/t-SNE to reduce their dimensionality. Then, visualize the terms in the two-dimensional space. "
   ]
  },
  {
   "cell_type": "code",
   "execution_count": 19,
   "metadata": {},
   "outputs": [
    {
     "data": {
      "image/png": "[encoded data removed]",
      "text/plain": [
       "<Figure size 1080x648 with 1 Axes>"
      ]
     },
     "metadata": {
      "needs_background": "light"
     },
     "output_type": "display_data"
    }
   ],
   "source": [
    "import numpy as np\n",
    "from sklearn.decomposition import PCA\n",
    "from sklearn.manifold import TSNE\n",
    "import matplotlib.pyplot as plt\n",
    "\n",
    "%matplotlib inline\n",
    "\n",
    "n = 200\n",
    "vecs = np.zeros((200,100))\n",
    "\n",
    "#your code here\n",
    "words = model.wv.index2entity[:200]\n",
    "\n",
    "for i,word in enumerate(words) :\n",
    "    vecs[i, :]= model.wv[word]\n",
    "\n",
    "my_pca = PCA(n_components=10)\n",
    "my_tsne = TSNE(n_components=2)\n",
    "\n",
    "vecs_pca = my_pca.fit_transform(vecs)\n",
    "vecs_tsne = my_tsne.fit_transform(vecs_pca)\n",
    "\n",
    "fig, ax = plt.subplots()\n",
    "ax.scatter(vecs_tsne[:,0], vecs_tsne[:,1],s=3)\n",
    "for x, y, token in zip(vecs_tsne[:,0] , vecs_tsne[:,1], words):     \n",
    "    ax.annotate(token, xy=(x, y), size=8)\n",
    "fig.suptitle('t-SNE visualization of word embeddings',fontsize=30)\n",
    "fig.set_size_inches(15,9)"
   ]
  },
  {
   "cell_type": "markdown",
   "metadata": {
    "collapsed": true
   },
   "source": [
    "## Part 2: Learning node representations\n",
    "In recent years, representation learning on graphs has attracted increasing attention. The idea behind the representation learning approaches is to learn a mapping that embeds nodes as points in a low-dimensional vector space such that these representations reflect the structure of the graph. In this part of the lab, we will generate embeddings for the nodes of a graph using DeepWalk, a method that is inspired by recent advances in natural language processing.\n",
    "\n",
    "Our dataset is a movie/actor network. This is a bipartite graph that consists of movies and of the actors that have played in them. More specifically, the nodes of the graph represent movies and actors, and there is an edge between a movie and an actor if the actor has played in that movie. The graph is stored in the `movies_actors_edgelist.txt` file as an edge list:\n",
    "\n",
    "```\n",
    "Toy Story (1995)\tTim Allen\n",
    "Toy Story (1995)\tTom Hanks\n",
    "Toy Story (1995)\tJim Varney\n",
    "Toy Story (1995)\tDon Rickles\n",
    "Jumanji (1995)\tKirsten Dunst\n",
    "Jumanji (1995)\tJonathan Hyde\n",
    "Jumanji (1995)\tBradley Pierce\n",
    "Jumanji (1995)\tRobin Williams\n",
    "Grumpier Old Men (1995)\tJack Lemmon\n",
    ".\n",
    ".\n",
    ".\n",
    "```\n",
    "\n",
    "The network contains 14,612 nodes, 21,395 edges. Load the network data into an graph G, using the [read_edgelist()](https://networkx.github.io/documentation/stable/reference/readwrite/generated/networkx.readwrite.edgelist.read_edgelist.html) function of NetworkX. The general syntax of the function is the following:\n",
    "\n",
    "```\n",
    "G = nx.read_edgelist(path_to_file, comments='#', delimiter=None)\n",
    "```\n",
    "\n",
    "Note that, the delimeter used to separate values is the tab character '\\t'."
   ]
  },
  {
   "cell_type": "code",
   "execution_count": null,
   "metadata": {},
   "outputs": [],
   "source": [
    "import networkx as nx\n",
    "\n",
    "#your code here"
   ]
  },
  {
   "cell_type": "markdown",
   "metadata": {},
   "source": [
    "Print the number of nodes and the number of the edges of the dataset (use the [`number_of_nodes()`](https://networkx.github.io/documentation/stable/reference/classes/generated/networkx.DiGraph.number_of_nodes.html#networkx.DiGraph.number_of_nodes) and [`number_of_edges()`](https://networkx.github.io/documentation/stable/reference/classes/generated/networkx.DiGraph.number_of_edges.html#networkx.DiGraph.number_of_edges) functions of NetworkX)."
   ]
  },
  {
   "cell_type": "code",
   "execution_count": null,
   "metadata": {},
   "outputs": [],
   "source": [
    "#your code here"
   ]
  },
  {
   "cell_type": "markdown",
   "metadata": {},
   "source": [
    "We will next implement [DeepWalk](http://www.perozzi.net/publications/14_kdd_deepwalk.pdf), an algorithm for generating node embeddings. DeepWalk builds on recent advances in unsupervised feature learning which have proven very successful in natural language processing. DeepWalk learns representations of a graph's vertices by running short random walks. These representations capture neighborhood similarity and community membership. The employed model is analogous to Skipgram:  given a vertex $v_i$, it estimates the likelihood of observing the previous and the following vertices visited in the random walk. Specifically, DeepWalk solves the following optimization problem:\n",
    "\n",
    "$$\n",
    "minimize_{\\phi} \\quad -\\log \\prod_{\\substack{j=i-w \\\\ j \\neq i}}^{i+w} P( v_j | \\phi(v_i))\n",
    "$$\n",
    "\n",
    "where $\\phi: V \\rightarrow \\mathbb{R}^d$ is a function that maps vertices to their embeddings, and $w$ is the size of the sliding window. Hence, given the embedding of a vertex, DeepWalk maximizes the probability of its neighbors in the walk.\n",
    "\n",
    "Given a graph $G=(V,E)$ and a starting vertex $v_i$, a random walk of length $t$ is a stochastic process with random variables $w_{v_i}^{(1)}, w_{v_i}^{(2)},\\ldots,w_{v_i}^{(t)}$ such that $w_{v_i}^{(1)} = v_i$ and $w_{v_i}^{(j)}$ is a a vertex chosen uniformly at random from the neighbors of vertex $w_{v_i}^{(j-1)}$. In other words, a random walk is a sequence of vertices: we first select a neighbor of $v_i$ at random, and move to this neighbor. Then, we select a neighbor of this new vertex at random, and move to it, etc.\n",
    "\n",
    "Next, we will implement a function that given a graph and a starting vertex performs a random walk of specific length, and returns a list of the visited vertices. Fill in the body of the function `random_walk()`. Note that G is a NexworkX graph. You can use the [neighbors()](https://networkx.github.io/documentation/stable/reference/classes/generated/networkx.Graph.neighbors.html) function of NetworkX to get the neighbors of a vertex $v$."
   ]
  },
  {
   "cell_type": "code",
   "execution_count": null,
   "metadata": {},
   "outputs": [],
   "source": [
    "from random import randint\n",
    "\n",
    "def random_walk(G, node, walk_length):\n",
    "    # Starts from vertex \"node\" and performs a random walk of length \"walk length\". Returns a list of the visited vertices\n",
    "    walk = [node]\n",
    "    \n",
    "    #your code here\n",
    "\n",
    "    walk = [str(node) for node in walk]\n",
    "    return walk"
   ]
  },
  {
   "cell_type": "markdown",
   "metadata": {},
   "source": [
    "Next, you will implement a function that given a graph, it runs a number of random walks from each node of the graph, and returns a list of all random walks. Fill in the body of the function `generate_walks()`. Note that the function [nodes()](https://networkx.github.io/documentation/stable/reference/classes/generated/networkx.Graph.nodes.html) of NetworkX returns a list containing all the nodes of graph G."
   ]
  },
  {
   "cell_type": "code",
   "execution_count": null,
   "metadata": {},
   "outputs": [],
   "source": [
    "import numpy as np\n",
    "\n",
    "def generate_walks(graph, num_walks, walk_length):\n",
    "    # Runs \"num_walks\" random walks from each node, and returns a list of all random walk\n",
    "    walks = list()\n",
    "    \n",
    "    #your code here\n",
    "\n",
    "    return walks"
   ]
  },
  {
   "cell_type": "markdown",
   "metadata": {},
   "source": [
    "After implementing the two functions, use the `generate_walks()` function to extract sequences of random walks from the graph. Start 10 walks from each node and set the length of the walks equal to 20."
   ]
  },
  {
   "cell_type": "code",
   "execution_count": null,
   "metadata": {},
   "outputs": [],
   "source": [
    "#your code here"
   ]
  },
  {
   "cell_type": "markdown",
   "metadata": {},
   "source": [
    "Now, we can treat the generated walks as the equivalent of sentences and use the Gensim library to learn representations of the nodes of the movie/actor graph. To generate the embeddings, initialize a [Word2Vec](https://radimrehurek.com/gensim/models/word2vec.html#gensim.models.word2vec.Word2Vec) object and use its [build_vocab()](https://radimrehurek.com/gensim/models/word2vec.html#gensim.models.word2vec.Word2Vec.build_vocab) function to build the vocabulary. Set the dimensionality of the word vectors equal to 100, the size of the window to 5, use the Skipgram model, and set the number of workers equal to the number of threads of your machine. Then, use the [train()](https://radimrehurek.com/gensim/models/word2vec.html#gensim.models.word2vec.Word2Vec.train) function of the Word2Vec object to compute the node embeddings. Set the number of epochs to 5."
   ]
  },
  {
   "cell_type": "code",
   "execution_count": null,
   "metadata": {},
   "outputs": [],
   "source": [
    "#your code here"
   ]
  },
  {
   "cell_type": "markdown",
   "metadata": {},
   "source": [
    "Use the [most_similar()](https://radimrehurek.com/gensim/models/keyedvectors.html#gensim.models.keyedvectors.WordEmbeddingsKeyedVectors.most_similar) function to obtain the 10 nodes that are most similar to the node “Keanu Reeves”. "
   ]
  },
  {
   "cell_type": "code",
   "execution_count": null,
   "metadata": {},
   "outputs": [],
   "source": [
    "#your code here"
   ]
  },
  {
   "cell_type": "markdown",
   "metadata": {},
   "source": [
    "Use once again the [most_similar()](https://radimrehurek.com/gensim/models/keyedvectors.html#gensim.models.keyedvectors.WordEmbeddingsKeyedVectors.most_similar) function to obtain the 5 nodes that are most similar to the result of the following vector operation: “Eyes Wide Shut (1999)” - “Tom Cruise” + “Jack Nicholson”. What do you observe?"
   ]
  },
  {
   "cell_type": "code",
   "execution_count": null,
   "metadata": {},
   "outputs": [],
   "source": [
    "#your code here"
   ]
  }
 ],
 "metadata": {
  "kernelspec": {
   "display_name": "Python 3",
   "language": "python",
   "name": "python3"
  },
  "language_info": {
   "codemirror_mode": {
    "name": "ipython",
    "version": 3
   },
   "file_extension": ".py",
   "mimetype": "text/x-python",
   "name": "python",
   "nbconvert_exporter": "python",
   "pygments_lexer": "ipython3",
   "version": "3.7.4"
  }
 },
 "nbformat": 4,
 "nbformat_minor": 2
}
