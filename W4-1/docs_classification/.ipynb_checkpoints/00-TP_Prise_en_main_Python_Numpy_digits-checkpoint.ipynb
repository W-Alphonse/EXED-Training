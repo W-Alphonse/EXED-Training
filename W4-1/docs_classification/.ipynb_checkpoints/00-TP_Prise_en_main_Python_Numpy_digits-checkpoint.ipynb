{
 "cells": [
  {
   "cell_type": "markdown",
   "metadata": {},
   "source": [
    "## Manipulation de données avec Python et Numpy\n",
    "\n",
    "    Alexandre Gramfort : alexandre.gramfort@inria.fr"
   ]
  },
  {
   "cell_type": "markdown",
   "metadata": {},
   "source": [
    "L'objectif de ce notebook est la prise en main de Python et Numpy en manipulant un célèbre jeu de données de machine learning.\n",
    "\n",
    "Les données sont fournies par la librarie Python Scikit-Learn.\n",
    "\n",
    "Vous travaillerez sur des données de chiffres manuscrits pour la classification (données `digits`)"
   ]
  },
  {
   "cell_type": "markdown",
   "metadata": {},
   "source": [
    "# I - Manipulation et visualisation des *digits*"
   ]
  },
  {
   "cell_type": "markdown",
   "metadata": {},
   "source": [
    "## Imports et intialisation"
   ]
  },
  {
   "cell_type": "code",
   "execution_count": 1,
   "metadata": {},
   "outputs": [],
   "source": [
    "%matplotlib inline                      \n",
    "\n",
    "import numpy as np                      # charge un package pour le numérique\n",
    "import matplotlib.pyplot as plt         # charge un package pour les graphiques"
   ]
  },
  {
   "cell_type": "markdown",
   "metadata": {},
   "source": [
    "## Description du jeu de données\n",
    "\n",
    "On charge le jeu de données *digits* disponible dans le package scikit-learn (nom d'import sklearn). Ce jeu de données contient des images de chiffres numérisés."
   ]
  },
  {
   "cell_type": "code",
   "execution_count": 2,
   "metadata": {},
   "outputs": [],
   "source": [
    "# Chargement des données disponible dans le package sklearn\n",
    "from sklearn.datasets import load_digits\n",
    "\n",
    "digits = load_digits()\n",
    "X, y = digits.data, digits.target"
   ]
  },
  {
   "cell_type": "code",
   "execution_count": 3,
   "metadata": {},
   "outputs": [
    {
     "data": {
      "text/plain": [
       "(1797, 64)"
      ]
     },
     "execution_count": 3,
     "metadata": {},
     "output_type": "execute_result"
    }
   ],
   "source": [
    "X.shape"
   ]
  },
  {
   "cell_type": "code",
   "execution_count": 4,
   "metadata": {},
   "outputs": [
    {
     "data": {
      "text/plain": [
       "(1797,)"
      ]
     },
     "execution_count": 4,
     "metadata": {},
     "output_type": "execute_result"
    }
   ],
   "source": [
    "y.shape"
   ]
  },
  {
   "cell_type": "code",
   "execution_count": 5,
   "metadata": {},
   "outputs": [
    {
     "name": "stdout",
     "output_type": "stream",
     "text": [
      "Nombre de pixels :      64\n",
      "Nombre d'observations : 1797\n",
      "Nombre de classes :     10\n"
     ]
    }
   ],
   "source": [
    "print(\"Nombre de pixels :      {}\".format(X.shape[1]))\n",
    "print(\"Nombre d'observations : {}\".format(X.shape[0]))\n",
    "print(\"Nombre de classes :     {}\".format(len(np.unique(y))))"
   ]
  },
  {
   "cell_type": "code",
   "execution_count": 6,
   "metadata": {},
   "outputs": [
    {
     "name": "stdout",
     "output_type": "stream",
     "text": [
      "[0 1 2 3 4 5 6 7 8 9]\n"
     ]
    },
    {
     "data": {
      "text/plain": [
       "10"
      ]
     },
     "execution_count": 6,
     "metadata": {},
     "output_type": "execute_result"
    }
   ],
   "source": [
    "print(np.unique(y))\n",
    "len(np.unique(y))"
   ]
  },
  {
   "cell_type": "code",
   "execution_count": 7,
   "metadata": {},
   "outputs": [
    {
     "name": "stdout",
     "output_type": "stream",
     "text": [
      "Affichage d'une ligne de la matrice / image:\n",
      "[ 0.  5. 12. 13. 16. 16.  2.  0.  0. 11. 16. 15.  8.  4.  0.  0.  0.  8.\n",
      " 14. 11.  1.  0.  0.  0.  0.  8. 16. 16. 14.  0.  0.  0.  0.  1.  6.  6.\n",
      " 16.  0.  0.  0.  0.  0.  0.  5. 16.  3.  0.  0.  0.  1.  5. 15. 13.  0.\n",
      "  0.  0.  0.  4. 15. 16.  2.  0.  0.  0.]\n",
      "Affichage de la classe / chiffre associé:\n",
      "5\n"
     ]
    }
   ],
   "source": [
    "# Choix d'une observation quelconque de la base\n",
    "idx_to_test = 15\n",
    "\n",
    "print(\"Affichage d'une ligne de la matrice / image:\")\n",
    "print(X[idx_to_test, :])\n",
    "print(\"Affichage de la classe / chiffre associé:\")\n",
    "print(y[idx_to_test])"
   ]
  },
  {
   "cell_type": "code",
   "execution_count": 8,
   "metadata": {},
   "outputs": [
    {
     "data": {
      "text/plain": [
       "array([ 0.,  8., 16., 16., 16., 16., 16., 15.,  2., 16., 16., 16., 16.,\n",
       "       16., 16., 12.,  2., 16., 16., 16., 16., 16., 16.,  8.,  1., 15.,\n",
       "       16., 16., 16., 16., 15.,  1.,  0., 14., 16., 16., 16., 16., 14.,\n",
       "        0.,  4., 16., 16., 16., 16., 16., 16.,  6.,  8., 16., 16., 16.,\n",
       "       16., 16., 16., 13.,  1.,  9., 16., 16., 16., 16., 16., 16.])"
      ]
     },
     "execution_count": 8,
     "metadata": {},
     "output_type": "execute_result"
    }
   ],
   "source": [
    "np.max(X, axis=0)"
   ]
  },
  {
   "cell_type": "markdown",
   "metadata": {},
   "source": [
    "<div class=\"alert alert-success\">\n",
    "    <b>EXERCISE:</b>\n",
    "     <ul>\n",
    "      <li>Quel est le dtype de X? y?</li>\n",
    "      <li>Faites varier de `idx_to_test`. Sans afficher y[idx_to_test] arrivez-vous à reconnaitre le chiffre représenté?</li>\n",
    "    </ul>\n",
    "</div>"
   ]
  },
  {
   "cell_type": "code",
   "execution_count": 9,
   "metadata": {},
   "outputs": [
    {
     "data": {
      "text/plain": [
       "(dtype('float64'), dtype('int32'))"
      ]
     },
     "execution_count": 9,
     "metadata": {},
     "output_type": "execute_result"
    }
   ],
   "source": [
    "X.dtype, y.dtype"
   ]
  },
  {
   "cell_type": "markdown",
   "metadata": {},
   "source": [
    "## Visualisation des observations:\n",
    "\n",
    "Les images scannées sont de taille  8 x 8 et comportent donc 64 pixels chacune. Elles sont stockées sous la forme de vecteurs ligne, qu'il faut remettre dans un ordre lisible pour les identifier. L'affichage graphique est proposé avec les commandes qui suivent. On utilise la commande `np.reshape` pour passer d'un array 1d à un array 2d de 8x8 valeurs."
   ]
  },
  {
   "cell_type": "code",
   "execution_count": 10,
   "metadata": {},
   "outputs": [
    {
     "data": {
      "image/png": "[encoded data removed]",
      "text/plain": [
       "<Figure size 432x288 with 1 Axes>"
      ]
     },
     "metadata": {
      "needs_background": "light"
     },
     "output_type": "display_data"
    }
   ],
   "source": [
    "# Utilisation de la fonction imshow pour l'affichage de l'image numéro idx_to_test:\n",
    "plt.imshow(np.reshape(X[idx_to_test, :], (8, 8)));"
   ]
  },
  {
   "cell_type": "code",
   "execution_count": 11,
   "metadata": {},
   "outputs": [
    {
     "data": {
      "image/png": "[encoded data removed]",
      "text/plain": [
       "<Figure size 432x288 with 1 Axes>"
      ]
     },
     "metadata": {
      "needs_background": "light"
     },
     "output_type": "display_data"
    }
   ],
   "source": [
    "# Amélioration de la visualisation (niveau de gris) et de la légende:\n",
    "plt.imshow(np.reshape(X[idx_to_test, :], (8, 8)),\n",
    "           cmap='gray', aspect='equal', interpolation='nearest')  # interpolation au plus proche voisin \n",
    "\n",
    "# Attention aux accents: ne pas oublier le u (Unicode) ci-dessous\n",
    "plt.title(u'Le chiffre d\\'indice %s est un %s' % (idx_to_test, y[idx_to_test]));"
   ]
  },
  {
   "cell_type": "markdown",
   "metadata": {},
   "source": [
    "<div class=\"alert alert-success\">\n",
    "    <b>EXERCICE:</b>\n",
    "     <ul>\n",
    "      <li>Afficher une image avec une ligne et une colonne sur 2</li>\n",
    "      <li>Afficher l'image ci-dessus après avoir enlevé un pixel de chaque bord?</li>\n",
    "      <li>Afficher l'histogramme des valeurs des pixels (fonction `plt.hist`)</li>\n",
    "    </ul>\n",
    "</div>"
   ]
  },
  {
   "cell_type": "code",
   "execution_count": 12,
   "metadata": {},
   "outputs": [
    {
     "data": {
      "text/plain": [
       "(64,)"
      ]
     },
     "execution_count": 12,
     "metadata": {},
     "output_type": "execute_result"
    }
   ],
   "source": [
    "x = X[idx_to_test,:]\n",
    "x.shape"
   ]
  },
  {
   "cell_type": "code",
   "execution_count": 13,
   "metadata": {},
   "outputs": [
    {
     "data": {
      "text/plain": [
       "<matplotlib.image.AxesImage at 0x227330f64c8>"
      ]
     },
     "execution_count": 13,
     "metadata": {},
     "output_type": "execute_result"
    },
    {
     "data": {
      "image/png": "[encoded data removed]",
      "text/plain": [
       "<Figure size 432x288 with 1 Axes>"
      ]
     },
     "metadata": {
      "needs_background": "light"
     },
     "output_type": "display_data"
    }
   ],
   "source": [
    "# Amélioration de la visualisation (niveau de gris) et de la légende:\n",
    "# Enlever les bords\n",
    "x = X[idx_to_test, :]\n",
    "x = np.reshape(x, (8, 8))\n",
    "plt.imshow(x[1:-1, 1:-1],\n",
    "           cmap='gray', aspect='equal', interpolation='nearest')"
   ]
  },
  {
   "cell_type": "code",
   "execution_count": 14,
   "metadata": {},
   "outputs": [
    {
     "data": {
      "text/plain": [
       "<matplotlib.image.AxesImage at 0x22732e8c888>"
      ]
     },
     "execution_count": 14,
     "metadata": {},
     "output_type": "execute_result"
    },
    {
     "data": {
      "image/png": "[encoded data removed]",
      "text/plain": [
       "<Figure size 432x288 with 1 Axes>"
      ]
     },
     "metadata": {
      "needs_background": "light"
     },
     "output_type": "display_data"
    }
   ],
   "source": [
    "# Amélioration de la visualisation (niveau de gris) et de la légende:\n",
    "# Enlever la moitie\n",
    "x = X[idx_to_test, :]\n",
    "x = np.reshape(x, (8, 8))\n",
    "plt.imshow(x[1::2, ::2],\n",
    "           cmap='gray', aspect='equal', interpolation='nearest')"
   ]
  },
  {
   "cell_type": "markdown",
   "metadata": {},
   "source": [
    "\n",
    "## Statistiques élementaires :\n",
    "Pour mieux comprendre la base de données on va s'intéresser à quelques statistiques. \n",
    "On commence par calculer les moyennes et variances par classes pour chacun des chiffres. La moyenne par classe se visualise comme une image qui est une représentantion moyenne pour chaque chiffre de zéro à neuf. Idem pour la variance, ce qui permet alors de voir les parties avec les plus grandes variations entre les membres d'une même classe.\n"
   ]
  },
  {
   "cell_type": "code",
   "execution_count": 15,
   "metadata": {},
   "outputs": [
    {
     "name": "stdout",
     "output_type": "stream",
     "text": [
      "Liste des classes en présence:  [0 1 2 3 4 5 6 7 8 9]\n"
     ]
    }
   ],
   "source": [
    "classes_list = np.unique(y).astype(int)\n",
    "print(u\"Liste des classes en présence: \", classes_list)"
   ]
  },
  {
   "cell_type": "markdown",
   "metadata": {},
   "source": [
    "<div class=\"alert alert-success\">\n",
    "    <b>EXERCICE:</b>\n",
    "     <ul>\n",
    "      <li>Calculer un représentant moyen du chiffre 0 (l'image qui en pixel i,j contient la valeur moyenne du pixel i,j parmis tous les 0)</li>\n",
    "      <li>Avec une boucle `for` calculer le représentant moyen pour chaque chiffre</li>\n",
    "      <li>Faire la même chose en remplaçant la moyenne par l'écart type</li>\n",
    "      <li>Afficher toutes les images sur une grille à l'aide de la fonction `plt.subplots`</li>\n",
    "    </ul>\n",
    "</div>\n"
   ]
  },
  {
   "cell_type": "code",
   "execution_count": 16,
   "metadata": {},
   "outputs": [
    {
     "data": {
      "image/png": "[encoded data removed]",
      "text/plain": [
       "<Figure size 864x252 with 10 Axes>"
      ]
     },
     "metadata": {},
     "output_type": "display_data"
    },
    {
     "data": {
      "image/png": "[encoded data removed]",
      "text/plain": [
       "<Figure size 432x288 with 1 Axes>"
      ]
     },
     "metadata": {
      "needs_background": "light"
     },
     "output_type": "display_data"
    },
    {
     "data": {
      "image/png": "[encoded data removed]",
      "text/plain": [
       "<Figure size 432x288 with 1 Axes>"
      ]
     },
     "metadata": {
      "needs_background": "light"
     },
     "output_type": "display_data"
    },
    {
     "data": {
      "image/png": "[encoded data removed]",
      "text/plain": [
       "<Figure size 432x288 with 1 Axes>"
      ]
     },
     "metadata": {
      "needs_background": "light"
     },
     "output_type": "display_data"
    },
    {
     "data": {
      "image/png": "[encoded data removed]",
      "text/plain": [
       "<Figure size 432x288 with 1 Axes>"
      ]
     },
     "metadata": {
      "needs_background": "light"
     },
     "output_type": "display_data"
    },
    {
     "data": {
      "image/png": "[encoded data removed]",
      "text/plain": [
       "<Figure size 432x288 with 1 Axes>"
      ]
     },
     "metadata": {
      "needs_background": "light"
     },
     "output_type": "display_data"
    },
    {
     "data": {
      "image/png": "[encoded data removed]",
      "text/plain": [
       "<Figure size 432x288 with 1 Axes>"
      ]
     },
     "metadata": {
      "needs_background": "light"
     },
     "output_type": "display_data"
    },
    {
     "data": {
      "image/png": "[encoded data removed]",
      "text/plain": [
       "<Figure size 432x288 with 1 Axes>"
      ]
     },
     "metadata": {
      "needs_background": "light"
     },
     "output_type": "display_data"
    },
    {
     "data": {
      "image/png": "[encoded data removed]",
      "text/plain": [
       "<Figure size 432x288 with 1 Axes>"
      ]
     },
     "metadata": {
      "needs_background": "light"
     },
     "output_type": "display_data"
    },
    {
     "data": {
      "image/png": "[encoded data removed]",
      "text/plain": [
       "<Figure size 432x288 with 1 Axes>"
      ]
     },
     "metadata": {
      "needs_background": "light"
     },
     "output_type": "display_data"
    },
    {
     "data": {
      "image/png": "[encoded data removed]",
      "text/plain": [
       "<Figure size 432x288 with 1 Axes>"
      ]
     },
     "metadata": {
      "needs_background": "light"
     },
     "output_type": "display_data"
    }
   ],
   "source": [
    "#k = 0\n",
    "fig, axes = plt.subplots(1,10, figsize=(12, 3.5))\n",
    "for k, ax in zip(range(10), axes) :   # zip permet de recuperer les valeurs des 2 iterables\n",
    "    plt.figure()  # créer une figure\n",
    "    plt.imshow(np.reshape( np.mean(X[y == k], axis = 0), (8,8)),\n",
    "           cmap='gray', aspect='equal', interpolation='nearest')\n",
    "    ax.set_xticks([])\n",
    "    ax.set_yticks([])"
   ]
  },
  {
   "cell_type": "markdown",
   "metadata": {},
   "source": [
    "# II - Classification par plus proche centroide\n",
    "\n",
    "Le but de cette partie est de vous faire implémenter votre propre classifieur\n",
    "basé sur une idée très simple. Pour un nouveau chiffre, on prédit la classe\n",
    "dont le chiffre moyen est le plus proche.\n",
    "\n",
    "<div class=\"alert alert-success\">\n",
    "    <b>EXERCISE:</b>\n",
    "     <ul>\n",
    "      <li>Partager la base de données en 2. On notera la première partie X_train, y_train et la deuxième partie X_test et y_test.</li>\n",
    "      <li>Pour chaque chiffre calculer sur l'ensemble de train le chiffre moyen. On notera la variable contenant les moyennes `centroids_train`</li>\n",
    "      <li>Pour chaque chiffre de l'ensemble de test, calculer le centroide le plus proche. Vous évaluerez si le chiffre ainsi obtenu correspond au vrai chiffre et en déduirez une estimation du pourcentage de bonnes prédictions.</li>\n",
    "    </ul>\n",
    "</div>"
   ]
  },
  {
   "cell_type": "code",
   "execution_count": 54,
   "metadata": {},
   "outputs": [
    {
     "data": {
      "text/plain": [
       "2"
      ]
     },
     "execution_count": 54,
     "metadata": {},
     "output_type": "execute_result"
    }
   ],
   "source": [
    "n = np.array([5,2,10])\n",
    "np.argmax(n)"
   ]
  },
  {
   "cell_type": "code",
   "execution_count": 18,
   "metadata": {},
   "outputs": [
    {
     "data": {
      "text/plain": [
       "0.8754171301446051"
      ]
     },
     "execution_count": 18,
     "metadata": {},
     "output_type": "execute_result"
    }
   ],
   "source": [
    "n_samples, n_features = X.shape\n",
    "\n",
    "# Partager la base de données en 2. On notera la première partie X_train, y_train et la deuxième partie X_test et y_test.\n",
    "n_samples_train = n_samples // 2\n",
    "\n",
    "X_train = X[:n_samples_train]\n",
    "y_train = y[:n_samples_train]\n",
    "\n",
    "X_test = X[n_samples_train:]\n",
    "y_test = y[n_samples_train:]\n",
    "\n",
    "# Learning step - Pour chaque chiffre calculer sur l'ensemble de train le chiffre moyen.\n",
    "centroids_train = np.zeros((10, 64))  # np.zeros(shape(10,64))\n",
    "for k in range(10):\n",
    "    centroids_train[k] = np.mean(X_train[y_train == k], axis=0)\n",
    "\n",
    "# Prediction step - Pour chaque chiffre de l'ensemble de test, calculer le centroide le plus proche\n",
    "y_pred = np.zeros(len(y_test), dtype=int)\n",
    "for i in range(len(X_test)):\n",
    "    x = X_test[i]        # Elmt x à tester\n",
    "    dist = np.zeros(10)  # Matrice de ditance entre l4elmt x à tester et chacun des Centroids.\n",
    "    for k in range(10):\n",
    "        dist[k] = np.linalg.norm(x - centroids_train[k])\n",
    "    y_pred[i] = np.argmin(dist)  # On retient l'element le plus petit dans la Matrice des distance 'dist'\n",
    "np.mean(y_test == y_pred)        # Et on calcule sa moyenne\n",
    "        \n"
   ]
  },
  {
   "cell_type": "code",
   "execution_count": 19,
   "metadata": {},
   "outputs": [
    {
     "data": {
      "text/plain": [
       "0.8754171301446051"
      ]
     },
     "execution_count": 19,
     "metadata": {},
     "output_type": "execute_result"
    }
   ],
   "source": [
    "from sklearn.neighbors import NearestCentroid\n",
    "\n",
    "nc = NearestCentroid()  # Classifieur du type Centroid\n",
    "nc.fit(X_train, y_train)  # on train\n",
    "#\n",
    "# y_pred = nc.predict(X_test)\n",
    "# np.mean(y_pred == y_test)\n",
    "# Ou bine\n",
    "nc.score(X_test, y_test)\n",
    "\n"
   ]
  },
  {
   "cell_type": "code",
   "execution_count": 58,
   "metadata": {},
   "outputs": [
    {
     "data": {
      "text/plain": [
       "(10, 64)"
      ]
     },
     "execution_count": 58,
     "metadata": {},
     "output_type": "execute_result"
    }
   ],
   "source": [
    "nc.centroids_.shape\n",
    "# NB: \"_\" means le \"chapeau de stat\" càd Estimated"
   ]
  },
  {
   "cell_type": "code",
   "execution_count": null,
   "metadata": {},
   "outputs": [],
   "source": []
  }
 ],
 "metadata": {
  "kernelspec": {
   "display_name": "Python 3",
   "language": "python",
   "name": "python3"
  },
  "language_info": {
   "codemirror_mode": {
    "name": "ipython",
    "version": 3
   },
   "file_extension": ".py",
   "mimetype": "text/x-python",
   "name": "python",
   "nbconvert_exporter": "python",
   "pygments_lexer": "ipython3",
   "version": "3.7.4"
  },
  "widgets": {
   "state": {},
   "version": "1.1.2"
  }
 },
 "nbformat": 4,
 "nbformat_minor": 1
}
