{
 "cells": [
  {
   "cell_type": "markdown",
   "metadata": {},
   "source": [
    "# Conjugate Gradient for logistic regression\n",
    "\n",
    "Author: Alexandre Gramfort"
   ]
  },
  {
   "cell_type": "code",
   "execution_count": 19,
   "metadata": {},
   "outputs": [],
   "source": [
    "%matplotlib inline\n",
    "import math\n",
    "import numpy as np\n",
    "import matplotlib.pyplot as plt\n",
    "from scipy.optimize import fmin_cg"
   ]
  },
  {
   "cell_type": "code",
   "execution_count": 23,
   "metadata": {},
   "outputs": [
    {
     "ename": "SyntaxError",
     "evalue": "invalid syntax (<ipython-input-23-79bfcfffed89>, line 1)",
     "output_type": "error",
     "traceback": [
      "\u001b[1;36m  File \u001b[1;32m\"<ipython-input-23-79bfcfffed89>\"\u001b[1;36m, line \u001b[1;32m1\u001b[0m\n\u001b[1;33m    fmin_cg? # Minimize a function using a nonlinear conjugate gradient algorithm\u001b[0m\n\u001b[1;37m           ^\u001b[0m\n\u001b[1;31mSyntaxError\u001b[0m\u001b[1;31m:\u001b[0m invalid syntax\n"
     ]
    }
   ],
   "source": [
    "fmin_cg? \n",
    "# Minimize a function using a nonlinear conjugate gradient algorithm"
   ]
  },
  {
   "cell_type": "code",
   "execution_count": 46,
   "metadata": {
    "scrolled": true
   },
   "outputs": [
    {
     "name": "stdout",
     "output_type": "stream",
     "text": [
      "(150, 2)\n"
     ]
    }
   ],
   "source": [
    "from sklearn import datasets\n",
    "\n",
    "# There are two main types of data within the datasets module. Smaller test datasets\n",
    "# are included in the sklearn package and can be viewed by running datasets.load_*?.\n",
    "# There are other types of datasets that must be fetched datasets.fetch_*? . These datasets are\n",
    "# larger, and therefore, they do not come within the package.\n",
    "iris = datasets.load_iris()\n",
    "\n",
    "# print(type(iris))  # Bunch\n",
    "# print(iris.keys()) # dict_keys(['data', 'target', 'target_names', 'DESCR', 'feature_names', 'filename'])\n",
    "# print(type(iris.data)) #  numpy.ndarray\n",
    "# print(iris.data.shape) # (150,4)\n",
    "# print(iris.target.shape)  # (150,)\n",
    "# print(iris.feature_names) # ['sepal length (cm)', 'sepal width (cm)', 'petal length (cm)', 'petal width (cm)']\n",
    "# print(iris.target_names)  # ['setosa' 'versicolor' 'virginica']\n",
    "# print(iris.DESCR)\n",
    "\n",
    "X = iris.data[:, :2]  # :2 -> 'sepal length (cm)', 'sepal width (cm)' = shape(150,2)\n",
    "y = iris.target\n",
    "\n",
    "# Make it binary: Retain only y==0 and y==1\n",
    "X = X[y < 2] # => shape(100,2)\n",
    "y = y[y < 2]\n",
    "\n",
    "# add intercept column of ones\n",
    "X = np.concatenate( (X, \n",
    "                     np.ones( (X.shape[0],1) )  # np.ones( shape=(nbrLigne=150, nbrColonne=1) )\n",
    "                     ) , \n",
    "                     axis=1)  # Concatenate X and ONES arrays along axis 1\n",
    "# print(X.shape) # => shape(100,3)\n",
    "\n",
    "y[y == 0] = -1  # shape(100,) + Remplace les 0 par -1\n"
   ]
  },
  {
   "cell_type": "code",
   "execution_count": 5,
   "metadata": {},
   "outputs": [
    {
     "data": {
      "text/plain": [
       "<matplotlib.collections.PathCollection at 0x19897f11188>"
      ]
     },
     "execution_count": 5,
     "metadata": {},
     "output_type": "execute_result"
    },
    {
     "data": {
      "image/png": "[encoded data removed]",
      "text/plain": [
       "<Figure size 432x288 with 1 Axes>"
      ]
     },
     "metadata": {
      "needs_background": "light"
     },
     "output_type": "display_data"
    }
   ],
   "source": [
    "plt.scatter(X[y > 0, 0], X[y > 0, 1], color='r')\n",
    "plt.scatter(X[y < 0, 0], X[y < 0, 1], color='g')"
   ]
  },
  {
   "cell_type": "code",
   "execution_count": 47,
   "metadata": {},
   "outputs": [],
   "source": [
    "all_pobj = []\n",
    "\n",
    "# Logistic Regression Cost function \n",
    "def f(w):\n",
    "    pobj = np.sum(np.log(1. + np.exp(- y * np.dot(X, w))))  # on lui donne ceci\n",
    "    all_pobj.append(pobj)\n",
    "    return pobj\n",
    "\n",
    "# Logistic Regression PRIME DERIVATE Cost function \n",
    "def fprime(w):\n",
    "    ywTx = y * np.dot(X, w)\n",
    "    temp = 1. / (1. + np.exp(ywTx))\n",
    "    grad = -np.dot(X.T, (y * temp))\n",
    "    return grad"
   ]
  },
  {
   "cell_type": "code",
   "execution_count": 48,
   "metadata": {},
   "outputs": [
    {
     "name": "stdout",
     "output_type": "stream",
     "text": [
      "Optimization terminated successfully.\n",
      "         Current function value: 0.000005\n",
      "         Iterations: 23\n",
      "         Function evaluations: 81\n",
      "         Gradient evaluations: 81\n"
     ]
    }
   ],
   "source": [
    "alpha = 0.01  # Learning Rate\n",
    "n_features = X.shape[1]\n",
    "w = fmin_cg(f, np.zeros(n_features), fprime)   # Minimize a function using a nonlinear conjugate gradient algorithm\n",
    "\n",
    "# Conjugate gradient (CG) [1] in its basic form is an iterative scheme to solve symmetric positive definite\n",
    "# linear systems. CG can be seen as an iterative scheme to minimize strictly convex quadratic functions.\n",
    "# It can be extended to non quadratic cost functions\n",
    "# Contrary to standard gradient descent, which uses at each iteration the “steepest” direction, without\n",
    "# any use of previous iterations, CG is a multistep approach in the sense that the next direction is informed\n",
    "# by the previous ones. This avoids the zig-zag of gradient descent with optimal step size, and is in practice\n",
    "# often faster for ill-conditioned problems"
   ]
  },
  {
   "cell_type": "code",
   "execution_count": 49,
   "metadata": {},
   "outputs": [
    {
     "data": {
      "text/plain": [
       "array([0., 0., 0., 0., 0., 0., 0., 0., 0., 0., 0., 0., 0., 0., 0., 0., 0.,\n",
       "       0., 0., 0., 0., 0., 0., 0., 0., 0., 0., 0., 0., 0., 0., 0., 0., 0.,\n",
       "       0., 0., 0., 0., 0., 0., 0., 0., 0., 0., 0., 0., 0., 0., 0., 0., 0.,\n",
       "       0., 0., 0., 0., 0., 0., 0., 0., 0., 0., 0., 0., 0., 0., 0., 0., 0.,\n",
       "       0., 0., 0., 0., 0., 0., 0., 0., 0., 0., 0., 0., 0., 0., 0., 0., 0.,\n",
       "       0., 0., 0., 0., 0., 0., 0., 0., 0., 0., 0., 0., 0., 0., 0.])"
      ]
     },
     "execution_count": 49,
     "metadata": {},
     "output_type": "execute_result"
    }
   ],
   "source": [
    "np.sign(np.dot(X, w)) - y"
   ]
  },
  {
   "cell_type": "code",
   "execution_count": 50,
   "metadata": {},
   "outputs": [
    {
     "data": {
      "image/png": "[encoded data removed]",
      "text/plain": [
       "<Figure size 432x288 with 1 Axes>"
      ]
     },
     "metadata": {
      "needs_background": "light"
     },
     "output_type": "display_data"
    }
   ],
   "source": [
    "plt.plot(np.log10(all_pobj), 'r')\n",
    "plt.xlabel('Iterations')\n",
    "plt.ylabel('Objective')\n",
    "plt.show()"
   ]
  },
  {
   "cell_type": "code",
   "execution_count": 51,
   "metadata": {},
   "outputs": [
    {
     "data": {
      "image/png": "[encoded data removed]",
      "text/plain": [
       "<Figure size 432x288 with 1 Axes>"
      ]
     },
     "metadata": {
      "needs_background": "light"
     },
     "output_type": "display_data"
    }
   ],
   "source": [
    "plt.scatter(X[y > 0, 0], X[y > 0, 1], color='r')\n",
    "plt.scatter(X[y < 0, 0], X[y < 0, 1], color='g')\n",
    "xx = np.linspace(4, 8, 10)\n",
    "plt.plot(xx,  - xx * w[0] / w[1] - w[2] / w[1], 'k');"
   ]
  },
  {
   "cell_type": "markdown",
   "metadata": {},
   "source": [
    "### Question : add support for intercept (be careful unregularised)"
   ]
  }
 ],
 "metadata": {
  "kernelspec": {
   "display_name": "Python 3",
   "language": "python",
   "name": "python3"
  },
  "language_info": {
   "codemirror_mode": {
    "name": "ipython",
    "version": 3
   },
   "file_extension": ".py",
   "mimetype": "text/x-python",
   "name": "python",
   "nbconvert_exporter": "python",
   "pygments_lexer": "ipython3",
   "version": "3.7.4"
  },
  "widgets": {
   "state": {},
   "version": "1.1.2"
  }
 },
 "nbformat": 4,
 "nbformat_minor": 1
}
