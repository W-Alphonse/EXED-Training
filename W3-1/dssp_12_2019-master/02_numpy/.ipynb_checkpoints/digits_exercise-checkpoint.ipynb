{
 "cells": [
  {
   "cell_type": "markdown",
   "metadata": {},
   "source": [
    "## Manipulation de données avec Python et Numpy\n",
    "\n",
    "    Alexandre Gramfort : alexandre.gramfort@inria.fr"
   ]
  },
  {
   "cell_type": "markdown",
   "metadata": {},
   "source": [
    "L'objectif de ce notebook est la prise en main de Python et Numpy en manipulant un célèbre jeu de données de machine learning.\n",
    "\n",
    "Les données sont fournies par la librarie Python Scikit-Learn.\n",
    "\n",
    "Vous travaillerez sur des données de chiffres manuscrits pour la classification (données `digits`)"
   ]
  },
  {
   "cell_type": "markdown",
   "metadata": {},
   "source": [
    "# I - Manipulation et visualisation des *digits*"
   ]
  },
  {
   "cell_type": "markdown",
   "metadata": {},
   "source": [
    "## Imports et intialisation"
   ]
  },
  {
   "cell_type": "code",
   "execution_count": 1,
   "metadata": {},
   "outputs": [],
   "source": [
    "%matplotlib inline                      \n",
    "\n",
    "import numpy as np                      # charge un package pour le numérique\n",
    "import matplotlib.pyplot as plt         # charge un package pour les graphiques"
   ]
  },
  {
   "cell_type": "markdown",
   "metadata": {},
   "source": [
    "## Description du jeu de données\n",
    "\n",
    "On charge le jeu de données *digits* disponible dans le package scikit-learn (nom d'import sklearn). Ce jeu de données contient des images de chiffres numérisés."
   ]
  },
  {
   "cell_type": "code",
   "execution_count": 2,
   "metadata": {},
   "outputs": [],
   "source": [
    "# Chargement des données disponible dans le package sklearn\n",
    "from sklearn.datasets import load_digits\n",
    "\n",
    "digits = load_digits()\n",
    "X, y = digits.data, digits.target"
   ]
  },
  {
   "cell_type": "code",
   "execution_count": 61,
   "metadata": {},
   "outputs": [
    {
     "data": {
      "text/plain": [
       "array([[ 0.,  0.,  5., ...,  0.,  0.,  0.],\n",
       "       [ 0.,  0.,  0., ..., 10.,  0.,  0.],\n",
       "       [ 0.,  0.,  0., ..., 16.,  9.,  0.],\n",
       "       ...,\n",
       "       [ 0.,  0.,  1., ...,  6.,  0.,  0.],\n",
       "       [ 0.,  0.,  2., ..., 12.,  0.,  0.],\n",
       "       [ 0.,  0., 10., ..., 12.,  1.,  0.]])"
      ]
     },
     "execution_count": 61,
     "metadata": {},
     "output_type": "execute_result"
    }
   ],
   "source": [
    "X"
   ]
  },
  {
   "cell_type": "code",
   "execution_count": 4,
   "metadata": {},
   "outputs": [
    {
     "data": {
      "text/plain": [
       "(1797, 64)"
      ]
     },
     "execution_count": 4,
     "metadata": {},
     "output_type": "execute_result"
    }
   ],
   "source": [
    "X.shape"
   ]
  },
  {
   "cell_type": "code",
   "execution_count": 5,
   "metadata": {},
   "outputs": [
    {
     "data": {
      "text/plain": [
       "2"
      ]
     },
     "execution_count": 5,
     "metadata": {},
     "output_type": "execute_result"
    }
   ],
   "source": [
    "X.ndim"
   ]
  },
  {
   "cell_type": "code",
   "execution_count": 6,
   "metadata": {},
   "outputs": [
    {
     "data": {
      "text/plain": [
       "(1797,)"
      ]
     },
     "execution_count": 6,
     "metadata": {},
     "output_type": "execute_result"
    }
   ],
   "source": [
    "y.shape"
   ]
  },
  {
   "cell_type": "code",
   "execution_count": 7,
   "metadata": {},
   "outputs": [
    {
     "data": {
      "text/plain": [
       "1797"
      ]
     },
     "execution_count": 7,
     "metadata": {},
     "output_type": "execute_result"
    }
   ],
   "source": [
    "y.size"
   ]
  },
  {
   "cell_type": "code",
   "execution_count": 8,
   "metadata": {},
   "outputs": [
    {
     "data": {
      "text/plain": [
       "(115008, 115008)"
      ]
     },
     "execution_count": 8,
     "metadata": {},
     "output_type": "execute_result"
    }
   ],
   "source": [
    "X.size, 1797*64"
   ]
  },
  {
   "cell_type": "code",
   "execution_count": 9,
   "metadata": {},
   "outputs": [
    {
     "data": {
      "text/plain": [
       "64"
      ]
     },
     "execution_count": 9,
     "metadata": {},
     "output_type": "execute_result"
    }
   ],
   "source": [
    "X[0, :].size"
   ]
  },
  {
   "cell_type": "code",
   "execution_count": 10,
   "metadata": {},
   "outputs": [
    {
     "data": {
      "text/plain": [
       "array([0, 1, 2, ..., 8, 9, 8])"
      ]
     },
     "execution_count": 10,
     "metadata": {},
     "output_type": "execute_result"
    }
   ],
   "source": [
    "y"
   ]
  },
  {
   "cell_type": "code",
   "execution_count": 11,
   "metadata": {},
   "outputs": [
    {
     "data": {
      "text/plain": [
       "(9, 0)"
      ]
     },
     "execution_count": 11,
     "metadata": {},
     "output_type": "execute_result"
    }
   ],
   "source": [
    "y.max(), y.min()"
   ]
  },
  {
   "cell_type": "code",
   "execution_count": 12,
   "metadata": {},
   "outputs": [
    {
     "data": {
      "text/plain": [
       "array([0, 1, 2, 3, 4, 5, 6, 7, 8, 9])"
      ]
     },
     "execution_count": 12,
     "metadata": {},
     "output_type": "execute_result"
    }
   ],
   "source": [
    "np.unique(y)"
   ]
  },
  {
   "cell_type": "code",
   "execution_count": 13,
   "metadata": {},
   "outputs": [
    {
     "name": "stdout",
     "output_type": "stream",
     "text": [
      "Nombre de pixels :      64\n",
      "Nombre d'observations : 1797\n",
      "Nombre de classes :     10\n"
     ]
    }
   ],
   "source": [
    "print(\"Nombre de pixels :      {}\".format(X.shape[1]))\n",
    "print(\"Nombre d'observations : {}\".format(X.shape[0]))\n",
    "print(\"Nombre de classes :     {}\".format(len(np.unique(y))))"
   ]
  },
  {
   "cell_type": "code",
   "execution_count": 14,
   "metadata": {},
   "outputs": [
    {
     "name": "stdout",
     "output_type": "stream",
     "text": [
      "Affichage d'une ligne de la matrice / image:\n",
      "[ 0.  5. 12. 13. 16. 16.  2.  0.  0. 11. 16. 15.  8.  4.  0.  0.  0.  8.\n",
      " 14. 11.  1.  0.  0.  0.  0.  8. 16. 16. 14.  0.  0.  0.  0.  1.  6.  6.\n",
      " 16.  0.  0.  0.  0.  0.  0.  5. 16.  3.  0.  0.  0.  1.  5. 15. 13.  0.\n",
      "  0.  0.  0.  4. 15. 16.  2.  0.  0.  0.]\n",
      "Affichage de la classe / chiffre associé:\n",
      "5\n"
     ]
    }
   ],
   "source": [
    "# Choix d'une observation quelconque de la base\n",
    "idx_to_test = 15\n",
    "\n",
    "print(\"Affichage d'une ligne de la matrice / image:\")\n",
    "print(X[idx_to_test, :])\n",
    "print(\"Affichage de la classe / chiffre associé:\")\n",
    "print(y[idx_to_test])"
   ]
  },
  {
   "cell_type": "markdown",
   "metadata": {},
   "source": [
    "<div class=\"alert alert-success\">\n",
    "    <b>EXERCISE:</b>\n",
    "     <ul>\n",
    "      <li>Quel est le dtype de X? y?</li>\n",
    "      <li>Faites varier de `idx_to_test`. Sans afficher y[idx_to_test] arrivez-vous à reconnaitre le chiffre représenté?</li>\n",
    "    </ul>\n",
    "</div>"
   ]
  },
  {
   "cell_type": "markdown",
   "metadata": {},
   "source": [
    "## Visualisation des observations:\n",
    "\n",
    "Les images scannées sont de taille  8 x 8 et comportent donc 64 pixels chacune. Elles sont stockées sous la forme de vecteurs ligne, qu'il faut remettre dans un ordre lisible pour les identifier. L'affichage graphique est proposé avec les commandes qui suivent. On utilise la commande `np.reshape` pour passer d'un array 1d à un array 2d de 8x8 valeurs."
   ]
  },
  {
   "cell_type": "code",
   "execution_count": 72,
   "metadata": {},
   "outputs": [
    {
     "data": {
      "text/plain": [
       "array([[ 0.,  0.,  5., 13.,  9.,  1.,  0.,  0.],\n",
       "       [ 0.,  0., 13., 15., 10., 15.,  5.,  0.],\n",
       "       [ 0.,  3., 15.,  2.,  0., 11.,  8.,  0.],\n",
       "       [ 0.,  4., 12.,  0.,  0.,  8.,  8.,  0.],\n",
       "       [ 0.,  5.,  8.,  0.,  0.,  9.,  8.,  0.],\n",
       "       [ 0.,  4., 11.,  0.,  1., 12.,  7.,  0.],\n",
       "       [ 0.,  2., 14.,  5., 10., 12.,  0.,  0.],\n",
       "       [ 0.,  0.,  6., 13., 10.,  0.,  0.,  0.]])"
      ]
     },
     "execution_count": 72,
     "metadata": {},
     "output_type": "execute_result"
    }
   ],
   "source": [
    "#X[0,:].reshape((8,8))\n",
    "#X.shape\n",
    "#np.reshape(X, (1797,64))"
   ]
  },
  {
   "cell_type": "code",
   "execution_count": 77,
   "metadata": {},
   "outputs": [
    {
     "data": {
      "text/plain": [
       "array([[0.07702482, 0.31882254],\n",
       "       [0.15483783, 0.81365771],\n",
       "       [0.95520666, 0.13778874],\n",
       "       [0.36755988, 0.97807047],\n",
       "       [0.21850643, 0.81038563]])"
      ]
     },
     "execution_count": 77,
     "metadata": {},
     "output_type": "execute_result"
    }
   ],
   "source": [
    "np.random.random((5,2))"
   ]
  },
  {
   "cell_type": "code",
   "execution_count": 68,
   "metadata": {
    "collapsed": true
   },
   "outputs": [
    {
     "data": {
      "image/png": "[encoded data removed]",
      "text/plain": [
       "<Figure size 432x288 with 1 Axes>"
      ]
     },
     "metadata": {
      "needs_background": "light"
     },
     "output_type": "display_data"
    }
   ],
   "source": [
    "# Utilisation de la fonction imshow pour l'affichage de l'image\n",
    "# numéro idx_to_test:\n",
    "plt.imshow( np.reshape(X[0, :], (8, 8))  );"
   ]
  },
  {
   "cell_type": "code",
   "execution_count": 89,
   "metadata": {
    "collapsed": true
   },
   "outputs": [
    {
     "data": {
      "image/png": "[encoded data removed]",
      "text/plain": [
       "<Figure size 432x288 with 2 Axes>"
      ]
     },
     "metadata": {
      "needs_background": "light"
     },
     "output_type": "display_data"
    }
   ],
   "source": [
    "# Amélioration de la visualisation (niveau de gris) et de la légende:\n",
    "plt.imshow(np.reshape(X[idx_to_test, :], (8, 8)),\n",
    "           cmap='Greys', aspect='equal', interpolation='nearest')\n",
    "plt.colorbar()\n",
    "# Attention aux accents: ne pas oublier le u (Unicode) ci-dessous\n",
    "plt.title(u'Le chiffre d\\'indice %s est un %s' % (idx_to_test, y[idx_to_test]));"
   ]
  },
  {
   "cell_type": "markdown",
   "metadata": {},
   "source": [
    "<div class=\"alert alert-success\">\n",
    "    <b>EXERCICE:</b>\n",
    "     <ul>\n",
    "      <li>Afficher une image avec une ligne et une colonne sur 2</li>\n",
    "      <li>Afficher l'image ci-dessus après avoir enlevé un pixel de chaque bord?</li>\n",
    "      <li>Afficher l'histogramme des valeurs des pixels (fonction `plt.hist`)</li>\n",
    "    </ul>\n",
    "</div>"
   ]
  },
  {
   "cell_type": "code",
   "execution_count": 103,
   "metadata": {
    "collapsed": true
   },
   "outputs": [
    {
     "name": "stdout",
     "output_type": "stream",
     "text": [
      "[[ 0.  5. 12. 13. 16. 16.  2.  0.]\n",
      " [ 0. 11. 16. 15.  8.  4.  0.  0.]\n",
      " [ 0.  8. 14. 11.  1.  0.  0.  0.]\n",
      " [ 0.  8. 16. 16. 14.  0.  0.  0.]\n",
      " [ 0.  1.  6.  6. 16.  0.  0.  0.]\n",
      " [ 0.  0.  0.  5. 16.  3.  0.  0.]\n",
      " [ 0.  1.  5. 15. 13.  0.  0.  0.]\n",
      " [ 0.  4. 15. 16.  2.  0.  0.  0.]]\n",
      "[[ 0. 12. 16.  2.]\n",
      " [ 0. 14.  1.  0.]\n",
      " [ 0.  6. 16.  0.]\n",
      " [ 0.  5. 13.  0.]]\n",
      "[ 0. 14. 16.  0.]\n"
     ]
    }
   ],
   "source": [
    "# HAA - Afficher une image avec une ligne et une colonne sur 2\n",
    "elmt = np.reshape(X[idx_to_test, :], (8, 8))\n",
    "mask = np.array([True, False, True, False, True, False, True, False])\n",
    "elmtReducedLine = elmt[mask, :]\n",
    "elmtReducedLine = elmtReducedLine[:, mask]\n",
    "print(elmt)\n",
    "print(elmtReducedLine)\n",
    "# \n",
    "plt.imshow(elmtReducedLine,\n",
    "             cmap='Greys', aspect='equal', interpolation='nearest')"
   ]
  },
  {
   "cell_type": "code",
   "execution_count": 105,
   "metadata": {
    "collapsed": true
   },
   "outputs": [
    {
     "data": {
      "text/plain": [
       "<matplotlib.image.AxesImage at 0x1897d70b108>"
      ]
     },
     "execution_count": 105,
     "metadata": {},
     "output_type": "execute_result"
    },
    {
     "data": {
      "image/png": "[encoded data removed]",
      "text/plain": [
       "<Figure size 432x288 with 1 Axes>"
      ]
     },
     "metadata": {
      "needs_background": "light"
     },
     "output_type": "display_data"
    }
   ],
   "source": [
    "# HAA - Afficher l'image ci-dessus après avoir enlevé un pixel de chaque bord\n",
    "elmt = np.reshape(X[idx_to_test, :], (8, 8))\n",
    "#elmt[1:-1,1:-1]\n",
    "plt.imshow(elmt[1:-1,1:-1],\n",
    "             cmap='Greys', aspect='equal', interpolation='nearest')"
   ]
  },
  {
   "cell_type": "code",
   "execution_count": 108,
   "metadata": {
    "collapsed": true
   },
   "outputs": [
    {
     "data": {
      "text/plain": [
       "(array([33.,  3.,  2.,  5.,  0.,  3.,  2.,  1.,  4., 11.]),\n",
       " array([ 0. ,  1.6,  3.2,  4.8,  6.4,  8. ,  9.6, 11.2, 12.8, 14.4, 16. ]),\n",
       " <a list of 10 Patch objects>)"
      ]
     },
     "execution_count": 108,
     "metadata": {},
     "output_type": "execute_result"
    },
    {
     "data": {
      "image/png": "[encoded data removed]",
      "text/plain": [
       "<Figure size 432x288 with 1 Axes>"
      ]
     },
     "metadata": {
      "needs_background": "light"
     },
     "output_type": "display_data"
    }
   ],
   "source": [
    "# HAA - Afficher l'histogramme des valeurs des pixels (fonction `plt.hist`)\n",
    "plt.hist(X[idx_to_test, :])"
   ]
  },
  {
   "cell_type": "markdown",
   "metadata": {},
   "source": [
    "\n",
    "## Statistiques élementaires :\n",
    "Pour mieux comprendre la base de données on va s'intéresser à quelques statistiques. \n",
    "On commence par calculer les moyennes et variances par classes pour chacun des chiffres. La moyenne par classe se visualise comme une image qui est une représentantion moyenne pour chaque chiffre de zéro à neuf. Idem pour la variance, ce qui permet alors de voir les parties avec les plus grandes variations entre les membres d'une même classe.\n"
   ]
  },
  {
   "cell_type": "code",
   "execution_count": 45,
   "metadata": {},
   "outputs": [
    {
     "name": "stdout",
     "output_type": "stream",
     "text": [
      "Liste des classes en présence:  [0 1 2 3 4 5 6 7 8 9]\n"
     ]
    }
   ],
   "source": [
    "classes_list = np.unique(y).astype(int)\n",
    "print(u\"Liste des classes en présence: \", classes_list)"
   ]
  },
  {
   "cell_type": "markdown",
   "metadata": {},
   "source": [
    "<div class=\"alert alert-success\">\n",
    "    <b>EXERCICE:</b>\n",
    "     <ul>\n",
    "      <li>Calculer un représentant moyen du chiffre 0 (l'image qui en pixel i,j contient la valeur moyenne du pixel i,j parmis tous les 0)</li>\n",
    "      <li>Avec une boucle `for` calculer le représentant moyen pour chaque chiffre</li>\n",
    "      <li>Faire la même chose en remplaçant la moyenne par l'écart type</li>\n",
    "      <li>Afficher toutes les images sur une grille à l'aide de la fonction `plt.subplots`</li>\n",
    "    </ul>\n",
    "</div>\n"
   ]
  },
  {
   "cell_type": "code",
   "execution_count": 161,
   "metadata": {},
   "outputs": [
    {
     "name": "stdout",
     "output_type": "stream",
     "text": [
      "0 - mean:4.854371488764045 -  std:6.081069544332422\n",
      "[[0.00000000e+00 5.00000000e-01 5.24719101e+00 1.05505618e+01\n",
      "  1.17191011e+01 5.68539326e+00 9.49438202e-01 5.61797753e-03]\n",
      " [0.00000000e+00 1.37640449e+00 9.12359551e+00 1.19831461e+01\n",
      "  1.20898876e+01 9.29775281e+00 1.79775281e+00 0.00000000e+00]\n",
      " [0.00000000e+00 1.65730337e+00 8.61235955e+00 8.67415730e+00\n",
      "  7.93258427e+00 9.02247191e+00 1.50561798e+00 0.00000000e+00]\n",
      " [5.61797753e-03 2.21910112e+00 8.73595506e+00 9.21910112e+00\n",
      "  9.54494382e+00 8.24157303e+00 1.79775281e+00 0.00000000e+00]\n",
      " [0.00000000e+00 2.12359551e+00 8.43258427e+00 9.08426966e+00\n",
      "  1.03146067e+01 8.37640449e+00 2.51123596e+00 0.00000000e+00]\n",
      " [0.00000000e+00 1.25842697e+00 6.75842697e+00 7.62359551e+00\n",
      "  9.37078652e+00 8.27528090e+00 2.78651685e+00 5.61797753e-03]\n",
      " [0.00000000e+00 6.68539326e-01 6.62921348e+00 9.64606742e+00\n",
      "  1.12865169e+01 8.29213483e+00 2.98876404e+00 8.98876404e-02]\n",
      " [0.00000000e+00 4.66292135e-01 5.52808989e+00 1.10112360e+01\n",
      "  1.12808989e+01 6.58988764e+00 1.74157303e+00 4.49438202e-02]]\n",
      "1 - mean:4.863152472527473 -  std:6.0821828793945745\n",
      "[[0.00000000e+00 4.94505495e-01 5.26923077e+00 1.06153846e+01\n",
      "  1.17637363e+01 5.60439560e+00 9.28571429e-01 5.49450549e-03]\n",
      " [0.00000000e+00 1.43406593e+00 9.21428571e+00 1.20604396e+01\n",
      "  1.21648352e+01 9.26373626e+00 1.75824176e+00 0.00000000e+00]\n",
      " [0.00000000e+00 1.69780220e+00 8.66483516e+00 8.59340659e+00\n",
      "  7.97252747e+00 9.02747253e+00 1.50000000e+00 0.00000000e+00]\n",
      " [5.49450549e-03 2.23626374e+00 8.70879121e+00 9.14285714e+00\n",
      "  9.50000000e+00 8.19780220e+00 1.81868132e+00 0.00000000e+00]\n",
      " [0.00000000e+00 2.14835165e+00 8.43406593e+00 9.09890110e+00\n",
      "  1.01868132e+01 8.29670330e+00 2.52747253e+00 0.00000000e+00]\n",
      " [0.00000000e+00 1.25824176e+00 6.84615385e+00 7.71978022e+00\n",
      "  9.18681319e+00 8.22527473e+00 2.80219780e+00 5.49450549e-03]\n",
      " [0.00000000e+00 6.59340659e-01 6.74725275e+00 9.77472527e+00\n",
      "  1.12912088e+01 8.39010989e+00 3.05494505e+00 8.79120879e-02]\n",
      " [0.00000000e+00 4.56043956e-01 5.54395604e+00 1.10604396e+01\n",
      "  1.13461538e+01 6.65934066e+00 1.74725275e+00 4.39560440e-02]]\n",
      "2 - mean:4.854078389830509 -  std:6.080220777944194\n",
      "[[0.00000000e+00 5.02824859e-01 5.27683616e+00 1.06101695e+01\n",
      "  1.17175141e+01 5.65536723e+00 9.49152542e-01 5.64971751e-03]\n",
      " [0.00000000e+00 1.38418079e+00 9.17514124e+00 1.20451977e+01\n",
      "  1.20677966e+01 9.25988701e+00 1.76836158e+00 0.00000000e+00]\n",
      " [0.00000000e+00 1.66666667e+00 8.65536723e+00 8.64406780e+00\n",
      "  7.88700565e+00 8.98305085e+00 1.47457627e+00 0.00000000e+00]\n",
      " [5.64971751e-03 2.22598870e+00 8.70621469e+00 9.18079096e+00\n",
      "  9.51977401e+00 8.19774011e+00 1.76271186e+00 0.00000000e+00]\n",
      " [0.00000000e+00 2.10734463e+00 8.41242938e+00 9.11864407e+00\n",
      "  1.03276836e+01 8.33333333e+00 2.48587571e+00 0.00000000e+00]\n",
      " [0.00000000e+00 1.26553672e+00 6.79661017e+00 7.66666667e+00\n",
      "  9.37853107e+00 8.23163842e+00 2.77966102e+00 5.64971751e-03]\n",
      " [0.00000000e+00 6.72316384e-01 6.66666667e+00 9.70056497e+00\n",
      "  1.13050847e+01 8.24858757e+00 3.00000000e+00 9.03954802e-02]\n",
      " [0.00000000e+00 4.68926554e-01 5.55932203e+00 1.10734463e+01\n",
      "  1.12824859e+01 6.55932203e+00 1.75141243e+00 4.51977401e-02]]\n",
      "3 - mean:4.8587773224043715 -  std:6.080645536816281\n",
      "[[0.00000000e+00 4.91803279e-01 5.26775956e+00 1.06448087e+01\n",
      "  1.17650273e+01 5.58469945e+00 9.23497268e-01 5.46448087e-03]\n",
      " [0.00000000e+00 1.42622951e+00 9.18579235e+00 1.20546448e+01\n",
      "  1.21857923e+01 9.26775956e+00 1.74863388e+00 0.00000000e+00]\n",
      " [0.00000000e+00 1.68852459e+00 8.61748634e+00 8.54644809e+00\n",
      "  8.00546448e+00 9.03825137e+00 1.49180328e+00 0.00000000e+00]\n",
      " [5.46448087e-03 2.22404372e+00 8.67213115e+00 9.11475410e+00\n",
      "  9.52459016e+00 8.22950820e+00 1.81967213e+00 0.00000000e+00]\n",
      " [0.00000000e+00 2.13661202e+00 8.45901639e+00 9.13661202e+00\n",
      "  1.02185792e+01 8.30601093e+00 2.53551913e+00 0.00000000e+00]\n",
      " [0.00000000e+00 1.25136612e+00 6.82513661e+00 7.73224044e+00\n",
      "  9.21311475e+00 8.18032787e+00 2.78688525e+00 5.46448087e-03]\n",
      " [0.00000000e+00 6.55737705e-01 6.71038251e+00 9.80327869e+00\n",
      "  1.12568306e+01 8.34426230e+00 3.03825137e+00 8.74316940e-02]\n",
      " [0.00000000e+00 4.53551913e-01 5.54644809e+00 1.10601093e+01\n",
      "  1.12841530e+01 6.62295082e+00 1.73770492e+00 4.37158470e-02]]\n",
      "4 - mean:4.864727209944752 -  std:6.082826588925966\n",
      "[[0.00000000e+00 4.91712707e-01 5.23204420e+00 1.05966851e+01\n",
      "  1.17734807e+01 5.63535912e+00 9.33701657e-01 5.52486188e-03]\n",
      " [0.00000000e+00 1.41436464e+00 9.17679558e+00 1.20386740e+01\n",
      "  1.21436464e+01 9.29281768e+00 1.76795580e+00 0.00000000e+00]\n",
      " [0.00000000e+00 1.70718232e+00 8.71270718e+00 8.61878453e+00\n",
      "  7.92817680e+00 9.05524862e+00 1.50828729e+00 0.00000000e+00]\n",
      " [5.52486188e-03 2.24861878e+00 8.75690608e+00 9.15469613e+00\n",
      "  9.46961326e+00 8.23756906e+00 1.82872928e+00 0.00000000e+00]\n",
      " [0.00000000e+00 2.16022099e+00 8.46961326e+00 9.06629834e+00\n",
      "  1.01933702e+01 8.34254144e+00 2.54143646e+00 0.00000000e+00]\n",
      " [0.00000000e+00 1.26519337e+00 6.83425414e+00 7.67955801e+00\n",
      "  9.22651934e+00 8.27071823e+00 2.81767956e+00 5.52486188e-03]\n",
      " [0.00000000e+00 6.62983425e-01 6.69613260e+00 9.75138122e+00\n",
      "  1.13093923e+01 8.39226519e+00 3.05524862e+00 8.83977901e-02]\n",
      " [0.00000000e+00 4.58563536e-01 5.51933702e+00 1.10386740e+01\n",
      "  1.13370166e+01 6.64640884e+00 1.73480663e+00 4.41988950e-02]]\n",
      "5 - mean:4.863152472527473 -  std:6.0821828793945745\n",
      "[[0.00000000e+00 4.94505495e-01 5.26923077e+00 1.06153846e+01\n",
      "  1.17637363e+01 5.60439560e+00 9.28571429e-01 5.49450549e-03]\n",
      " [0.00000000e+00 1.43406593e+00 9.21428571e+00 1.20604396e+01\n",
      "  1.21648352e+01 9.26373626e+00 1.75824176e+00 0.00000000e+00]\n",
      " [0.00000000e+00 1.69780220e+00 8.66483516e+00 8.59340659e+00\n",
      "  7.97252747e+00 9.02747253e+00 1.50000000e+00 0.00000000e+00]\n",
      " [5.49450549e-03 2.23626374e+00 8.70879121e+00 9.14285714e+00\n",
      "  9.50000000e+00 8.19780220e+00 1.81868132e+00 0.00000000e+00]\n",
      " [0.00000000e+00 2.14835165e+00 8.43406593e+00 9.09890110e+00\n",
      "  1.01868132e+01 8.29670330e+00 2.52747253e+00 0.00000000e+00]\n",
      " [0.00000000e+00 1.25824176e+00 6.84615385e+00 7.71978022e+00\n",
      "  9.18681319e+00 8.22527473e+00 2.80219780e+00 5.49450549e-03]\n",
      " [0.00000000e+00 6.59340659e-01 6.74725275e+00 9.77472527e+00\n",
      "  1.12912088e+01 8.39010989e+00 3.05494505e+00 8.79120879e-02]\n",
      " [0.00000000e+00 4.56043956e-01 5.54395604e+00 1.10604396e+01\n",
      "  1.13461538e+01 6.65934066e+00 1.74725275e+00 4.39560440e-02]]\n",
      "6 - mean:4.864727209944752 -  std:6.082826588925966\n",
      "[[0.00000000e+00 4.91712707e-01 5.23204420e+00 1.05966851e+01\n",
      "  1.17734807e+01 5.63535912e+00 9.33701657e-01 5.52486188e-03]\n",
      " [0.00000000e+00 1.41436464e+00 9.17679558e+00 1.20386740e+01\n",
      "  1.21436464e+01 9.29281768e+00 1.76795580e+00 0.00000000e+00]\n",
      " [0.00000000e+00 1.70718232e+00 8.71270718e+00 8.61878453e+00\n",
      "  7.92817680e+00 9.05524862e+00 1.50828729e+00 0.00000000e+00]\n",
      " [5.52486188e-03 2.24861878e+00 8.75690608e+00 9.15469613e+00\n",
      "  9.46961326e+00 8.23756906e+00 1.82872928e+00 0.00000000e+00]\n",
      " [0.00000000e+00 2.16022099e+00 8.46961326e+00 9.06629834e+00\n",
      "  1.01933702e+01 8.34254144e+00 2.54143646e+00 0.00000000e+00]\n",
      " [0.00000000e+00 1.26519337e+00 6.83425414e+00 7.67955801e+00\n",
      "  9.22651934e+00 8.27071823e+00 2.81767956e+00 5.52486188e-03]\n",
      " [0.00000000e+00 6.62983425e-01 6.69613260e+00 9.75138122e+00\n",
      "  1.13093923e+01 8.39226519e+00 3.05524862e+00 8.83977901e-02]\n",
      " [0.00000000e+00 4.58563536e-01 5.51933702e+00 1.10386740e+01\n",
      "  1.13370166e+01 6.64640884e+00 1.73480663e+00 4.41988950e-02]]\n",
      "7 - mean:4.861382681564246 -  std:6.082058424610081\n",
      "[[0.00000000e+00 4.97206704e-01 5.25139665e+00 1.05754190e+01\n",
      "  1.17374302e+01 5.67039106e+00 9.44134078e-01 5.58659218e-03]\n",
      " [0.00000000e+00 1.38547486e+00 9.16201117e+00 1.19944134e+01\n",
      "  1.21005587e+01 9.31843575e+00 1.78770950e+00 0.00000000e+00]\n",
      " [0.00000000e+00 1.68156425e+00 8.64804469e+00 8.63687151e+00\n",
      "  7.89385475e+00 9.05027933e+00 1.52513966e+00 0.00000000e+00]\n",
      " [5.58659218e-03 2.25139665e+00 8.76536313e+00 9.17877095e+00\n",
      "  9.49162011e+00 8.24581006e+00 1.83240223e+00 0.00000000e+00]\n",
      " [0.00000000e+00 2.15642458e+00 8.47486034e+00 9.05586592e+00\n",
      "  1.02569832e+01 8.37430168e+00 2.54189944e+00 0.00000000e+00]\n",
      " [0.00000000e+00 1.27932961e+00 6.81005587e+00 7.61452514e+00\n",
      "  9.31843575e+00 8.29050279e+00 2.82122905e+00 5.58659218e-03]\n",
      " [0.00000000e+00 6.70391061e-01 6.68156425e+00 9.68156425e+00\n",
      "  1.13016760e+01 8.33519553e+00 3.02234637e+00 8.93854749e-02]\n",
      " [0.00000000e+00 4.63687151e-01 5.52513966e+00 1.10279330e+01\n",
      "  1.13016760e+01 6.60893855e+00 1.73743017e+00 4.46927374e-02]]\n",
      "8 - mean:4.854525862068965 -  std:6.080756903262334\n",
      "[[0.00000000e+00 4.65517241e-01 5.21264368e+00 1.05632184e+01\n",
      "  1.16781609e+01 5.54022989e+00 8.90804598e-01 5.74712644e-03]\n",
      " [0.00000000e+00 1.33908046e+00 9.10344828e+00 1.20517241e+01\n",
      "  1.20862069e+01 9.20114943e+00 1.72988506e+00 0.00000000e+00]\n",
      " [0.00000000e+00 1.64367816e+00 8.67816092e+00 8.78160920e+00\n",
      "  7.93103448e+00 8.97701149e+00 1.48850575e+00 0.00000000e+00]\n",
      " [5.74712644e-03 2.25287356e+00 8.76436782e+00 9.20114943e+00\n",
      "  9.51149425e+00 8.24712644e+00 1.78160920e+00 0.00000000e+00]\n",
      " [0.00000000e+00 2.14367816e+00 8.51724138e+00 9.05172414e+00\n",
      "  1.02413793e+01 8.35632184e+00 2.48275862e+00 0.00000000e+00]\n",
      " [0.00000000e+00 1.28735632e+00 6.89655172e+00 7.70689655e+00\n",
      "  9.29310345e+00 8.21264368e+00 2.80459770e+00 5.74712644e-03]\n",
      " [0.00000000e+00 6.78160920e-01 6.72988506e+00 9.69540230e+00\n",
      "  1.12988506e+01 8.28160920e+00 3.02873563e+00 9.19540230e-02]\n",
      " [0.00000000e+00 4.48275862e-01 5.47701149e+00 1.10000000e+01\n",
      "  1.13505747e+01 6.64942529e+00 1.78160920e+00 4.59770115e-02]]\n",
      "9 - mean:4.862760416666666 -  std:6.081792215027285\n",
      "[[0.00000000e+00 4.94444444e-01 5.22222222e+00 1.05722222e+01\n",
      "  1.17555556e+01 5.64444444e+00 9.38888889e-01 5.55555556e-03]\n",
      " [0.00000000e+00 1.37777778e+00 9.13888889e+00 1.20166667e+01\n",
      "  1.21222222e+01 9.32222222e+00 1.77777778e+00 0.00000000e+00]\n",
      " [0.00000000e+00 1.67222222e+00 8.67777778e+00 8.62222222e+00\n",
      "  7.88333333e+00 9.08333333e+00 1.51666667e+00 0.00000000e+00]\n",
      " [5.55555556e-03 2.26111111e+00 8.80555556e+00 9.15000000e+00\n",
      "  9.43888889e+00 8.28333333e+00 1.83888889e+00 0.00000000e+00]\n",
      " [0.00000000e+00 2.17222222e+00 8.51111111e+00 9.03333333e+00\n",
      "  1.02000000e+01 8.38888889e+00 2.55555556e+00 0.00000000e+00]\n",
      " [0.00000000e+00 1.27222222e+00 6.83888889e+00 7.63333333e+00\n",
      "  9.26666667e+00 8.31666667e+00 2.83333333e+00 5.55555556e-03]\n",
      " [0.00000000e+00 6.66666667e-01 6.68888889e+00 9.71666667e+00\n",
      "  1.13277778e+01 8.37777778e+00 3.02222222e+00 8.88888889e-02]\n",
      " [0.00000000e+00 4.61111111e-01 5.50000000e+00 1.10111111e+01\n",
      "  1.13111111e+01 6.61666667e+00 1.72777778e+00 4.44444444e-02]]\n"
     ]
    },
    {
     "data": {
      "image/png": "[encoded data removed]",
      "text/plain": [
       "<Figure size 432x288 with 10 Axes>"
      ]
     },
     "metadata": {
      "needs_background": "light"
     },
     "output_type": "display_data"
    }
   ],
   "source": [
    "# HAA - Calculer un représentant moyen du chiffre 0 (l'image qui en pixel i,j contient la valeur moyenne du pixel i,j parmis tous les 0)\n",
    "# print(np.argsort(y))  # np.argsort(y): Indexer selon le contenu de Y => Retourne la matrice des indices triant Y \n",
    "mask = y==0\n",
    "# print(np.argsort(y[mask]))\n",
    "# print(y[mask].size)\n",
    "np.mean( X[ np.argsort(y[mask]), :])\n",
    "\n",
    "fig = plt.figure()\n",
    "# Avec une boucle `for` calculer le représentant moyen / std / plot pour chaque chiffre\n",
    "for i in range(10):\n",
    "    mask = y==i\n",
    "    print(f'{i} - mean:{np.mean( X[ np.argsort(y[mask]) ,: ])} -  std:{np.std( X[ np.argsort(y[mask]) ,: ])}' )\n",
    "    print(np.reshape( np.mean(X[np.argsort(y[mask]) ,:], axis=0) , (8,8) ) )\n",
    "    ax = fig.add_subplot(3,4,i+1)\n",
    "    ax.imshow( np.reshape(np.mean(X[np.argsort(y[mask]) ,:], axis=0), (8,8))  ,\n",
    "           cmap='Greys', aspect='equal', interpolation='nearest')\n"
   ]
  },
  {
   "cell_type": "markdown",
   "metadata": {},
   "source": [
    "# II - Classification par plus proche centroide\n",
    "\n",
    "Le but de cette partie est de vous faire implémenter votre propre classifieur\n",
    "basé sur une idée très simple. Pour un nouveau chiffre, on prédit la classe\n",
    "dont le chiffre moyen est le plus proche.\n",
    "\n",
    "<div class=\"alert alert-success\">\n",
    "    <b>EXERCISE:</b>\n",
    "     <ul>\n",
    "      <li>Partager la base de données en 2. On notera la première partie X_train, y_train et la deuxième partie X_test et y_test.</li>\n",
    "      <li>Pour chaque chiffre calculer sur l'ensemble de train le chiffre moyen. On notera la variable contenant les moyennes `centroids_train`</li>\n",
    "      <li>Pour chaque chiffre de l'ensemble de test, calculer le centroide le plus proche. Vous évaluerez si le chiffre ainsi obtenu correspond au vrai chiffre et en déduirez une estimation du pourcentage de bonnes prédictions.</li>\n",
    "    </ul>\n",
    "</div>"
   ]
  },
  {
   "cell_type": "code",
   "execution_count": 111,
   "metadata": {},
   "outputs": [],
   "source": [
    "n_samples, n_features = X.shape\n",
    "\n",
    "n_samples_train = n_samples // 2\n",
    "\n",
    "X_train = X[:n_samples_train]\n",
    "y_train = y[:n_samples_train]\n",
    "\n",
    "X_test = X[n_samples_train:]\n",
    "y_test = y[n_samples_train:]\n",
    "\n",
    "# centroids_train = ..."
   ]
  },
  {
   "cell_type": "code",
   "execution_count": null,
   "metadata": {},
   "outputs": [],
   "source": []
  }
 ],
 "metadata": {
  "kernelspec": {
   "display_name": "Python 3",
   "language": "python",
   "name": "python3"
  },
  "language_info": {
   "codemirror_mode": {
    "name": "ipython",
    "version": 3
   },
   "file_extension": ".py",
   "mimetype": "text/x-python",
   "name": "python",
   "nbconvert_exporter": "python",
   "pygments_lexer": "ipython3",
   "version": "3.7.4"
  },
  "widgets": {
   "state": {},
   "version": "1.1.2"
  }
 },
 "nbformat": 4,
 "nbformat_minor": 1
}
