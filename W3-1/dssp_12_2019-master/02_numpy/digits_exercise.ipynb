{
 "cells": [
  {
   "cell_type": "markdown",
   "metadata": {},
   "source": [
    "## Manipulation de données avec Python et Numpy\n",
    "\n",
    "    Alexandre Gramfort : alexandre.gramfort@inria.fr"
   ]
  },
  {
   "cell_type": "markdown",
   "metadata": {},
   "source": [
    "L'objectif de ce notebook est la prise en main de Python et Numpy en manipulant un célèbre jeu de données de machine learning.\n",
    "\n",
    "Les données sont fournies par la librarie Python Scikit-Learn.\n",
    "\n",
    "Vous travaillerez sur des données de chiffres manuscrits pour la classification (données `digits`)"
   ]
  },
  {
   "cell_type": "markdown",
   "metadata": {},
   "source": [
    "# I - Manipulation et visualisation des *digits*"
   ]
  },
  {
   "cell_type": "markdown",
   "metadata": {},
   "source": [
    "## Imports et intialisation"
   ]
  },
  {
   "cell_type": "code",
   "execution_count": null,
   "metadata": {},
   "outputs": [],
   "source": [
    "%matplotlib inline                      \n",
    "\n",
    "import numpy as np                      # charge un package pour le numérique\n",
    "import matplotlib.pyplot as plt         # charge un package pour les graphiques"
   ]
  },
  {
   "cell_type": "markdown",
   "metadata": {},
   "source": [
    "## Description du jeu de données\n",
    "\n",
    "On charge le jeu de données *digits* disponible dans le package scikit-learn (nom d'import sklearn). Ce jeu de données contient des images de chiffres numérisés."
   ]
  },
  {
   "cell_type": "code",
   "execution_count": null,
   "metadata": {},
   "outputs": [],
   "source": [
    "# Chargement des données disponible dans le package sklearn\n",
    "from sklearn.datasets import load_digits\n",
    "\n",
    "digits = load_digits()\n",
    "X, y = digits.data, digits.target"
   ]
  },
  {
   "cell_type": "code",
   "execution_count": null,
   "metadata": {},
   "outputs": [],
   "source": [
    "X"
   ]
  },
  {
   "cell_type": "code",
   "execution_count": null,
   "metadata": {},
   "outputs": [],
   "source": [
    "X.shape"
   ]
  },
  {
   "cell_type": "code",
   "execution_count": null,
   "metadata": {},
   "outputs": [],
   "source": [
    "X.ndim"
   ]
  },
  {
   "cell_type": "code",
   "execution_count": null,
   "metadata": {},
   "outputs": [],
   "source": [
    "y.shape"
   ]
  },
  {
   "cell_type": "code",
   "execution_count": null,
   "metadata": {},
   "outputs": [],
   "source": [
    "y.size"
   ]
  },
  {
   "cell_type": "code",
   "execution_count": null,
   "metadata": {},
   "outputs": [],
   "source": [
    "X.size, 1797*64"
   ]
  },
  {
   "cell_type": "code",
   "execution_count": null,
   "metadata": {},
   "outputs": [],
   "source": [
    "X[0, :].size"
   ]
  },
  {
   "cell_type": "code",
   "execution_count": null,
   "metadata": {},
   "outputs": [],
   "source": [
    "y"
   ]
  },
  {
   "cell_type": "code",
   "execution_count": null,
   "metadata": {},
   "outputs": [],
   "source": [
    "y.max(), y.min()"
   ]
  },
  {
   "cell_type": "code",
   "execution_count": null,
   "metadata": {},
   "outputs": [],
   "source": [
    "np.unique(y)"
   ]
  },
  {
   "cell_type": "code",
   "execution_count": null,
   "metadata": {},
   "outputs": [],
   "source": [
    "print(\"Nombre de pixels :      {}\".format(X.shape[1]))\n",
    "print(\"Nombre d'observations : {}\".format(X.shape[0]))\n",
    "print(\"Nombre de classes :     {}\".format(len(np.unique(y))))"
   ]
  },
  {
   "cell_type": "code",
   "execution_count": null,
   "metadata": {},
   "outputs": [],
   "source": [
    "# Choix d'une observation quelconque de la base\n",
    "idx_to_test = 15\n",
    "\n",
    "print(\"Affichage d'une ligne de la matrice / image:\")\n",
    "print(X[idx_to_test, :])\n",
    "print(\"Affichage de la classe / chiffre associé:\")\n",
    "print(y[idx_to_test])"
   ]
  },
  {
   "cell_type": "markdown",
   "metadata": {},
   "source": [
    "<div class=\"alert alert-success\">\n",
    "    <b>EXERCISE:</b>\n",
    "     <ul>\n",
    "      <li>Quel est le dtype de X? y?</li>\n",
    "      <li>Faites varier de `idx_to_test`. Sans afficher y[idx_to_test] arrivez-vous à reconnaitre le chiffre représenté?</li>\n",
    "    </ul>\n",
    "</div>"
   ]
  },
  {
   "cell_type": "markdown",
   "metadata": {},
   "source": [
    "## Visualisation des observations:\n",
    "\n",
    "Les images scannées sont de taille  8 x 8 et comportent donc 64 pixels chacune. Elles sont stockées sous la forme de vecteurs ligne, qu'il faut remettre dans un ordre lisible pour les identifier. L'affichage graphique est proposé avec les commandes qui suivent. On utilise la commande `np.reshape` pour passer d'un array 1d à un array 2d de 8x8 valeurs."
   ]
  },
  {
   "cell_type": "code",
   "execution_count": null,
   "metadata": {},
   "outputs": [],
   "source": [
    "# Utilisation de la fonction imshow pour l'affichage de l'image\n",
    "# numéro idx_to_test:\n",
    "plt.imshow(np.reshape(X[0, :], (8, 8)));"
   ]
  },
  {
   "cell_type": "code",
   "execution_count": null,
   "metadata": {},
   "outputs": [],
   "source": [
    "# Amélioration de la visualisation (niveau de gris) et de la légende:\n",
    "plt.imshow(np.reshape(X[idx_to_test, :], (8, 8)),\n",
    "           cmap='gray', aspect='equal', interpolation='nearest')\n",
    "plt.colorbar()\n",
    "# Attention aux accents: ne pas oublier le u (Unicode) ci-dessous\n",
    "plt.title(u'Le chiffre d\\'indice %s est un %s' % (idx_to_test, y[idx_to_test]));"
   ]
  },
  {
   "cell_type": "markdown",
   "metadata": {},
   "source": [
    "<div class=\"alert alert-success\">\n",
    "    <b>EXERCICE:</b>\n",
    "     <ul>\n",
    "      <li>Afficher une image avec une ligne et une colonne sur 2</li>\n",
    "      <li>Afficher l'image ci-dessus après avoir enlevé un pixel de chaque bord?</li>\n",
    "      <li>Afficher l'histogramme des valeurs des pixels (fonction `plt.hist`)</li>\n",
    "    </ul>\n",
    "</div>"
   ]
  },
  {
   "cell_type": "code",
   "execution_count": null,
   "metadata": {},
   "outputs": [],
   "source": []
  },
  {
   "cell_type": "markdown",
   "metadata": {},
   "source": [
    "\n",
    "## Statistiques élementaires :\n",
    "Pour mieux comprendre la base de données on va s'intéresser à quelques statistiques. \n",
    "On commence par calculer les moyennes et variances par classes pour chacun des chiffres. La moyenne par classe se visualise comme une image qui est une représentantion moyenne pour chaque chiffre de zéro à neuf. Idem pour la variance, ce qui permet alors de voir les parties avec les plus grandes variations entre les membres d'une même classe.\n"
   ]
  },
  {
   "cell_type": "code",
   "execution_count": null,
   "metadata": {},
   "outputs": [],
   "source": [
    "classes_list = np.unique(y).astype(int)\n",
    "print(u\"Liste des classes en présence: \", classes_list)"
   ]
  },
  {
   "cell_type": "markdown",
   "metadata": {},
   "source": [
    "<div class=\"alert alert-success\">\n",
    "    <b>EXERCICE:</b>\n",
    "     <ul>\n",
    "      <li>Calculer un représentant moyen du chiffre 0 (l'image qui en pixel i,j contient la valeur moyenne du pixel i,j parmis tous les 0)</li>\n",
    "      <li>Avec une boucle `for` calculer le représentant moyen pour chaque chiffre</li>\n",
    "      <li>Faire la même chose en remplaçant la moyenne par l'écart type</li>\n",
    "      <li>Afficher toutes les images sur une grille à l'aide de la fonction `plt.subplots`</li>\n",
    "    </ul>\n",
    "</div>\n"
   ]
  },
  {
   "cell_type": "code",
   "execution_count": null,
   "metadata": {},
   "outputs": [],
   "source": []
  },
  {
   "cell_type": "markdown",
   "metadata": {},
   "source": [
    "# II - Classification par plus proche centroide\n",
    "\n",
    "Le but de cette partie est de vous faire implémenter votre propre classifieur\n",
    "basé sur une idée très simple. Pour un nouveau chiffre, on prédit la classe\n",
    "dont le chiffre moyen est le plus proche.\n",
    "\n",
    "<div class=\"alert alert-success\">\n",
    "    <b>EXERCISE:</b>\n",
    "     <ul>\n",
    "      <li>Partager la base de données en 2. On notera la première partie X_train, y_train et la deuxième partie X_test et y_test.</li>\n",
    "      <li>Pour chaque chiffre calculer sur l'ensemble de train le chiffre moyen. On notera la variable contenant les moyennes `centroids_train`</li>\n",
    "      <li>Pour chaque chiffre de l'ensemble de test, calculer le centroide le plus proche. Vous évaluerez si le chiffre ainsi obtenu correspond au vrai chiffre et en déduirez une estimation du pourcentage de bonnes prédictions.</li>\n",
    "    </ul>\n",
    "</div>"
   ]
  },
  {
   "cell_type": "code",
   "execution_count": null,
   "metadata": {},
   "outputs": [],
   "source": [
    "n_samples, n_features = X.shape\n",
    "\n",
    "n_samples_train = n_samples // 2\n",
    "\n",
    "X_train = X[:n_samples_train]\n",
    "y_train = y[:n_samples_train]\n",
    "\n",
    "X_test = X[n_samples_train:]\n",
    "y_test = y[n_samples_train:]\n",
    "\n",
    "# centroids_train = ..."
   ]
  },
  {
   "cell_type": "code",
   "execution_count": null,
   "metadata": {},
   "outputs": [],
   "source": []
  }
 ],
 "metadata": {
  "kernelspec": {
   "display_name": "Python 3",
   "language": "python",
   "name": "python3"
  },
  "language_info": {
   "codemirror_mode": {
    "name": "ipython",
    "version": 3
   },
   "file_extension": ".py",
   "mimetype": "text/x-python",
   "name": "python",
   "nbconvert_exporter": "python",
   "pygments_lexer": "ipython3",
   "version": "3.7.4"
  },
  "widgets": {
   "state": {},
   "version": "1.1.2"
  }
 },
 "nbformat": 4,
 "nbformat_minor": 1
}
