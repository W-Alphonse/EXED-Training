{
 "cells": [
  {
   "cell_type": "markdown",
   "metadata": {},
   "source": [
    "# Introduction to data exploration mainly using Pandas"
   ]
  },
  {
   "cell_type": "code",
   "execution_count": 2,
   "metadata": {},
   "outputs": [],
   "source": [
    "%matplotlib inline\n",
    "import os\n",
    "import pandas as pd\n",
    "import numpy as np\n",
    "import matplotlib.pyplot as plt"
   ]
  },
  {
   "cell_type": "markdown",
   "metadata": {},
   "source": [
    "## 1. Pandas dataframe and series"
   ]
  },
  {
   "cell_type": "markdown",
   "metadata": {},
   "source": [
    "The first step will be to open a CSV file which contain some information about some voting count of a referendum in France."
   ]
  },
  {
   "cell_type": "code",
   "execution_count": 3,
   "metadata": {},
   "outputs": [
    {
     "data": {
      "text/plain": [
       "'data\\\\referendum.csv'"
      ]
     },
     "execution_count": 3,
     "metadata": {},
     "output_type": "execute_result"
    }
   ],
   "source": [
    "filename_referendum = os.path.join('data', 'referendum.csv') # ouvrir les donnes\n",
    "filename_referendum "
   ]
  },
  {
   "cell_type": "markdown",
   "metadata": {},
   "source": [
    "The data are not separated with a comma but a semi-colummn."
   ]
  },
  {
   "cell_type": "code",
   "execution_count": 4,
   "metadata": {},
   "outputs": [],
   "source": [
    "df = pd.read_csv(filename_referendum, sep=';')"
   ]
  },
  {
   "cell_type": "code",
   "execution_count": 5,
   "metadata": {},
   "outputs": [
    {
     "data": {
      "text/html": [
       "<div>\n",
       "<style scoped>\n",
       "    .dataframe tbody tr th:only-of-type {\n",
       "        vertical-align: middle;\n",
       "    }\n",
       "\n",
       "    .dataframe tbody tr th {\n",
       "        vertical-align: top;\n",
       "    }\n",
       "\n",
       "    .dataframe thead th {\n",
       "        text-align: right;\n",
       "    }\n",
       "</style>\n",
       "<table border=\"1\" class=\"dataframe\">\n",
       "  <thead>\n",
       "    <tr style=\"text-align: right;\">\n",
       "      <th></th>\n",
       "      <th>Department code</th>\n",
       "      <th>Department name</th>\n",
       "      <th>Town code</th>\n",
       "      <th>Town name</th>\n",
       "      <th>Registered</th>\n",
       "      <th>Abstentions</th>\n",
       "      <th>Null</th>\n",
       "      <th>Choice A</th>\n",
       "      <th>Choice B</th>\n",
       "    </tr>\n",
       "  </thead>\n",
       "  <tbody>\n",
       "    <tr>\n",
       "      <td>0</td>\n",
       "      <td>1</td>\n",
       "      <td>AIN</td>\n",
       "      <td>1</td>\n",
       "      <td>L'Abergement-Clémenciat</td>\n",
       "      <td>592</td>\n",
       "      <td>84</td>\n",
       "      <td>9</td>\n",
       "      <td>154</td>\n",
       "      <td>345</td>\n",
       "    </tr>\n",
       "    <tr>\n",
       "      <td>1</td>\n",
       "      <td>1</td>\n",
       "      <td>AIN</td>\n",
       "      <td>2</td>\n",
       "      <td>L'Abergement-de-Varey</td>\n",
       "      <td>215</td>\n",
       "      <td>36</td>\n",
       "      <td>5</td>\n",
       "      <td>66</td>\n",
       "      <td>108</td>\n",
       "    </tr>\n",
       "    <tr>\n",
       "      <td>2</td>\n",
       "      <td>1</td>\n",
       "      <td>AIN</td>\n",
       "      <td>4</td>\n",
       "      <td>Ambérieu-en-Bugey</td>\n",
       "      <td>8205</td>\n",
       "      <td>1698</td>\n",
       "      <td>126</td>\n",
       "      <td>2717</td>\n",
       "      <td>3664</td>\n",
       "    </tr>\n",
       "    <tr>\n",
       "      <td>3</td>\n",
       "      <td>1</td>\n",
       "      <td>AIN</td>\n",
       "      <td>5</td>\n",
       "      <td>Ambérieux-en-Dombes</td>\n",
       "      <td>1152</td>\n",
       "      <td>170</td>\n",
       "      <td>18</td>\n",
       "      <td>280</td>\n",
       "      <td>684</td>\n",
       "    </tr>\n",
       "    <tr>\n",
       "      <td>4</td>\n",
       "      <td>1</td>\n",
       "      <td>AIN</td>\n",
       "      <td>6</td>\n",
       "      <td>Ambléon</td>\n",
       "      <td>105</td>\n",
       "      <td>17</td>\n",
       "      <td>1</td>\n",
       "      <td>35</td>\n",
       "      <td>52</td>\n",
       "    </tr>\n",
       "  </tbody>\n",
       "</table>\n",
       "</div>"
      ],
      "text/plain": [
       "  Department code Department name  Town code                Town name  \\\n",
       "0               1             AIN          1  L'Abergement-Clémenciat   \n",
       "1               1             AIN          2    L'Abergement-de-Varey   \n",
       "2               1             AIN          4        Ambérieu-en-Bugey   \n",
       "3               1             AIN          5      Ambérieux-en-Dombes   \n",
       "4               1             AIN          6                  Ambléon   \n",
       "\n",
       "   Registered  Abstentions  Null  Choice A  Choice B  \n",
       "0         592           84     9       154       345  \n",
       "1         215           36     5        66       108  \n",
       "2        8205         1698   126      2717      3664  \n",
       "3        1152          170    18       280       684  \n",
       "4         105           17     1        35        52  "
      ]
     },
     "execution_count": 5,
     "metadata": {},
     "output_type": "execute_result"
    }
   ],
   "source": [
    "df.head()"
   ]
  },
  {
   "cell_type": "code",
   "execution_count": 6,
   "metadata": {},
   "outputs": [
    {
     "data": {
      "text/html": [
       "<div>\n",
       "<style scoped>\n",
       "    .dataframe tbody tr th:only-of-type {\n",
       "        vertical-align: middle;\n",
       "    }\n",
       "\n",
       "    .dataframe tbody tr th {\n",
       "        vertical-align: top;\n",
       "    }\n",
       "\n",
       "    .dataframe thead th {\n",
       "        text-align: right;\n",
       "    }\n",
       "</style>\n",
       "<table border=\"1\" class=\"dataframe\">\n",
       "  <thead>\n",
       "    <tr style=\"text-align: right;\">\n",
       "      <th></th>\n",
       "      <th>Department code</th>\n",
       "      <th>Department name</th>\n",
       "      <th>Town code</th>\n",
       "      <th>Town name</th>\n",
       "      <th>Registered</th>\n",
       "      <th>Abstentions</th>\n",
       "      <th>Null</th>\n",
       "      <th>Choice A</th>\n",
       "      <th>Choice B</th>\n",
       "    </tr>\n",
       "  </thead>\n",
       "  <tbody>\n",
       "    <tr>\n",
       "      <td>36786</td>\n",
       "      <td>ZZ</td>\n",
       "      <td>FRANCAIS DE L'ETRANGER</td>\n",
       "      <td>7</td>\n",
       "      <td>Europe centrale</td>\n",
       "      <td>89643</td>\n",
       "      <td>54981</td>\n",
       "      <td>318</td>\n",
       "      <td>17055</td>\n",
       "      <td>17289</td>\n",
       "    </tr>\n",
       "    <tr>\n",
       "      <td>36787</td>\n",
       "      <td>ZZ</td>\n",
       "      <td>FRANCAIS DE L'ETRANGER</td>\n",
       "      <td>8</td>\n",
       "      <td>Europe du Sud, Turquie, Israël</td>\n",
       "      <td>109763</td>\n",
       "      <td>84466</td>\n",
       "      <td>292</td>\n",
       "      <td>9299</td>\n",
       "      <td>15706</td>\n",
       "    </tr>\n",
       "    <tr>\n",
       "      <td>36788</td>\n",
       "      <td>ZZ</td>\n",
       "      <td>FRANCAIS DE L'ETRANGER</td>\n",
       "      <td>9</td>\n",
       "      <td>Afrique Nord-Ouest</td>\n",
       "      <td>98997</td>\n",
       "      <td>59887</td>\n",
       "      <td>321</td>\n",
       "      <td>22116</td>\n",
       "      <td>16673</td>\n",
       "    </tr>\n",
       "    <tr>\n",
       "      <td>36789</td>\n",
       "      <td>ZZ</td>\n",
       "      <td>FRANCAIS DE L'ETRANGER</td>\n",
       "      <td>10</td>\n",
       "      <td>Afrique Centre, Sud et Est</td>\n",
       "      <td>89859</td>\n",
       "      <td>46782</td>\n",
       "      <td>566</td>\n",
       "      <td>17008</td>\n",
       "      <td>25503</td>\n",
       "    </tr>\n",
       "    <tr>\n",
       "      <td>36790</td>\n",
       "      <td>ZZ</td>\n",
       "      <td>FRANCAIS DE L'ETRANGER</td>\n",
       "      <td>11</td>\n",
       "      <td>Europe de l'est, Asie, Océanie</td>\n",
       "      <td>80061</td>\n",
       "      <td>42911</td>\n",
       "      <td>488</td>\n",
       "      <td>13975</td>\n",
       "      <td>22687</td>\n",
       "    </tr>\n",
       "  </tbody>\n",
       "</table>\n",
       "</div>"
      ],
      "text/plain": [
       "      Department code         Department name  Town code  \\\n",
       "36786              ZZ  FRANCAIS DE L'ETRANGER          7   \n",
       "36787              ZZ  FRANCAIS DE L'ETRANGER          8   \n",
       "36788              ZZ  FRANCAIS DE L'ETRANGER          9   \n",
       "36789              ZZ  FRANCAIS DE L'ETRANGER         10   \n",
       "36790              ZZ  FRANCAIS DE L'ETRANGER         11   \n",
       "\n",
       "                            Town name  Registered  Abstentions  Null  \\\n",
       "36786                 Europe centrale       89643        54981   318   \n",
       "36787  Europe du Sud, Turquie, Israël      109763        84466   292   \n",
       "36788              Afrique Nord-Ouest       98997        59887   321   \n",
       "36789      Afrique Centre, Sud et Est       89859        46782   566   \n",
       "36790  Europe de l'est, Asie, Océanie       80061        42911   488   \n",
       "\n",
       "       Choice A  Choice B  \n",
       "36786     17055     17289  \n",
       "36787      9299     15706  \n",
       "36788     22116     16673  \n",
       "36789     17008     25503  \n",
       "36790     13975     22687  "
      ]
     },
     "execution_count": 6,
     "metadata": {},
     "output_type": "execute_result"
    }
   ],
   "source": [
    "df.tail()"
   ]
  },
  {
   "cell_type": "code",
   "execution_count": null,
   "metadata": {},
   "outputs": [],
   "source": [
    "df.info()"
   ]
  },
  {
   "cell_type": "code",
   "execution_count": null,
   "metadata": {},
   "outputs": [],
   "source": [
    "df.index"
   ]
  },
  {
   "cell_type": "code",
   "execution_count": null,
   "metadata": {},
   "outputs": [],
   "source": [
    "df.columns"
   ]
  },
  {
   "cell_type": "markdown",
   "metadata": {},
   "source": [
    "It will be easier with we use the name of the city as an index."
   ]
  },
  {
   "cell_type": "code",
   "execution_count": null,
   "metadata": {},
   "outputs": [],
   "source": [
    "df = df.set_index('Town name')"
   ]
  },
  {
   "cell_type": "code",
   "execution_count": null,
   "metadata": {},
   "outputs": [],
   "source": [
    "df.head()"
   ]
  },
  {
   "cell_type": "markdown",
   "metadata": {},
   "source": [
    "## 2. Simple analysis"
   ]
  },
  {
   "cell_type": "markdown",
   "metadata": {},
   "source": [
    "* What is the city with the most registered people?"
   ]
  },
  {
   "cell_type": "code",
   "execution_count": null,
   "metadata": {},
   "outputs": [],
   "source": [
    "df.loc[:, 'Registered'].head()"
   ]
  },
  {
   "cell_type": "code",
   "execution_count": null,
   "metadata": {},
   "outputs": [],
   "source": [
    "col_registered = df.loc[:, 'Registered']"
   ]
  },
  {
   "cell_type": "code",
   "execution_count": null,
   "metadata": {},
   "outputs": [],
   "source": [
    "col_registered.max()"
   ]
  },
  {
   "cell_type": "code",
   "execution_count": null,
   "metadata": {},
   "outputs": [],
   "source": [
    "col_registered == col_registered.max()"
   ]
  },
  {
   "cell_type": "code",
   "execution_count": null,
   "metadata": {},
   "outputs": [],
   "source": [
    "mask_most_registered = col_registered == col_registered.max()"
   ]
  },
  {
   "cell_type": "code",
   "execution_count": null,
   "metadata": {},
   "outputs": [],
   "source": [
    "col_registered.loc[mask_most_registered]"
   ]
  },
  {
   "cell_type": "code",
   "execution_count": null,
   "metadata": {},
   "outputs": [],
   "source": [
    "df.loc[mask_most_registered]"
   ]
  },
  {
   "cell_type": "markdown",
   "metadata": {},
   "source": [
    "* What is the city with the least number of registered persons?"
   ]
  },
  {
   "cell_type": "code",
   "execution_count": null,
   "metadata": {},
   "outputs": [],
   "source": [
    "mask_least_registered = col_registered == col_registered.min()"
   ]
  },
  {
   "cell_type": "code",
   "execution_count": null,
   "metadata": {},
   "outputs": [],
   "source": [
    "df.loc[mask_least_registered]"
   ]
  },
  {
   "cell_type": "markdown",
   "metadata": {},
   "source": [
    "Let's go to the `notebook.ipynb` to formalize the different aspect we just used up to now."
   ]
  },
  {
   "cell_type": "markdown",
   "metadata": {},
   "source": [
    "## 3. Group information together."
   ]
  },
  {
   "cell_type": "markdown",
   "metadata": {},
   "source": [
    "Let's now make a more advance analysis. Instead to make a micro-analysis by cities, we would like to make a macro-analysis by department."
   ]
  },
  {
   "cell_type": "code",
   "execution_count": null,
   "metadata": {},
   "outputs": [],
   "source": [
    "df.head()"
   ]
  },
  {
   "cell_type": "markdown",
   "metadata": {},
   "source": [
    "Therefore, we would like group the votes by department and add them up."
   ]
  },
  {
   "cell_type": "code",
   "execution_count": null,
   "metadata": {},
   "outputs": [],
   "source": [
    "df.groupby('Department code').sum()"
   ]
  },
  {
   "cell_type": "code",
   "execution_count": null,
   "metadata": {},
   "outputs": [],
   "source": [
    "df_department = df.groupby(['Department code', 'Department name']).sum().reset_index()\n",
    "df_department"
   ]
  },
  {
   "cell_type": "markdown",
   "metadata": {},
   "source": [
    "## 4. Merging information together"
   ]
  },
  {
   "cell_type": "markdown",
   "metadata": {},
   "source": [
    "We would like to plot some of the information into the a map."
   ]
  },
  {
   "cell_type": "code",
   "execution_count": null,
   "metadata": {},
   "outputs": [],
   "source": [
    "import geopandas as gpd"
   ]
  },
  {
   "cell_type": "code",
   "execution_count": null,
   "metadata": {},
   "outputs": [],
   "source": [
    "gdf_department = gpd.read_file(os.path.join('data', 'departements.geojson'))"
   ]
  },
  {
   "cell_type": "code",
   "execution_count": null,
   "metadata": {},
   "outputs": [],
   "source": [
    "type(gdf_department)"
   ]
  },
  {
   "cell_type": "code",
   "execution_count": null,
   "metadata": {},
   "outputs": [],
   "source": [
    "gdf_department.head()"
   ]
  },
  {
   "cell_type": "code",
   "execution_count": null,
   "metadata": {},
   "outputs": [],
   "source": [
    "gdf_department.plot()"
   ]
  },
  {
   "cell_type": "markdown",
   "metadata": {},
   "source": [
    "So what we need at that stage is to merge the different dataframe together."
   ]
  },
  {
   "cell_type": "code",
   "execution_count": null,
   "metadata": {},
   "outputs": [],
   "source": [
    "df = gdf_department.merge(df_department, how='inner', left_on='code', right_on='Department code')"
   ]
  },
  {
   "cell_type": "code",
   "execution_count": null,
   "metadata": {},
   "outputs": [],
   "source": [
    "df.plot(column='Registered')"
   ]
  },
  {
   "cell_type": "markdown",
   "metadata": {},
   "source": [
    "## 5. Bug correction"
   ]
  },
  {
   "cell_type": "code",
   "execution_count": null,
   "metadata": {},
   "outputs": [],
   "source": [
    "def prepend_zero(code):\n",
    "    if len(code) == 1:\n",
    "        return '0' + code\n",
    "    return code\n",
    "\n",
    "df_department['Department code'] = df_department['Department code'].apply(prepend_zero)"
   ]
  },
  {
   "cell_type": "code",
   "execution_count": null,
   "metadata": {},
   "outputs": [],
   "source": [
    "df = gdf_department.merge(df_department, how='inner', left_on='code', right_on='Department code')"
   ]
  },
  {
   "cell_type": "code",
   "execution_count": null,
   "metadata": {},
   "outputs": [],
   "source": [
    "df.head()"
   ]
  },
  {
   "cell_type": "code",
   "execution_count": null,
   "metadata": {},
   "outputs": [],
   "source": [
    "df.plot(column='Registered')"
   ]
  },
  {
   "cell_type": "code",
   "execution_count": null,
   "metadata": {},
   "outputs": [],
   "source": [
    "df.plot(column='Choice A')"
   ]
  },
  {
   "cell_type": "code",
   "execution_count": null,
   "metadata": {},
   "outputs": [],
   "source": [
    "df.plot(column='Choice B')"
   ]
  },
  {
   "cell_type": "code",
   "execution_count": null,
   "metadata": {},
   "outputs": [],
   "source": [
    "df_normalized = df.copy()"
   ]
  },
  {
   "cell_type": "code",
   "execution_count": null,
   "metadata": {},
   "outputs": [],
   "source": [
    "df_normalized['Choice A'] /= df[['Choice A', 'Choice B']].sum(axis=1)\n",
    "df_normalized['Choice B'] /= df[['Choice A', 'Choice B']].sum(axis=1)"
   ]
  },
  {
   "cell_type": "code",
   "execution_count": null,
   "metadata": {},
   "outputs": [],
   "source": [
    "df_normalized.plot(column='Choice B')"
   ]
  },
  {
   "cell_type": "code",
   "execution_count": null,
   "metadata": {},
   "outputs": [],
   "source": [
    "df_normalized.plot(column='Choice A')"
   ]
  },
  {
   "cell_type": "markdown",
   "metadata": {},
   "source": [
    "## 6. This your turn"
   ]
  },
  {
   "cell_type": "markdown",
   "metadata": {},
   "source": [
    "The goal will be to repeat the analysis but at the region scale. However, this is not as easy. The regions information in directly available and we will need to import it from another external source."
   ]
  },
  {
   "cell_type": "markdown",
   "metadata": {},
   "source": [
    "* Open the `data/referendum.csv` file."
   ]
  },
  {
   "cell_type": "code",
   "execution_count": null,
   "metadata": {},
   "outputs": [],
   "source": [
    "# %load solutions/24_solutions.py\n",
    "df_referendum = pd.read_csv(filename_referendum, sep=';')\n"
   ]
  },
  {
   "cell_type": "markdown",
   "metadata": {},
   "source": [
    "* Show the 5 first rows."
   ]
  },
  {
   "cell_type": "code",
   "execution_count": null,
   "metadata": {},
   "outputs": [],
   "source": [
    "# %load solutions/25_solutions.py\n",
    "df_referendum.head()\n"
   ]
  },
  {
   "cell_type": "markdown",
   "metadata": {},
   "source": [
    "As you can see, there is no information about the regions. Before to get to this stage, let's correct the issue with the deparment numbering."
   ]
  },
  {
   "cell_type": "code",
   "execution_count": null,
   "metadata": {},
   "outputs": [],
   "source": [
    "# %load solutions/26_solutions.py\n",
    "df_referendum['Department code'] = df_referendum['Department code'].apply(\n",
    "    lambda x: '0' + x if len(x) == 1 else x\n",
    ")\n",
    "df_referendum.head()\n"
   ]
  },
  {
   "cell_type": "markdown",
   "metadata": {},
   "source": [
    "* Load the information related to the regions from the file `data/regions.csv`. Show the 5 first rows."
   ]
  },
  {
   "cell_type": "code",
   "execution_count": null,
   "metadata": {},
   "outputs": [],
   "source": [
    "# %load solutions/27_solutions.py\n",
    "df_regions = pd.read_csv(os.path.join('data', 'regions.csv'))\n",
    "df_regions.head()\n"
   ]
  },
  {
   "cell_type": "markdown",
   "metadata": {},
   "source": [
    "* Lead the information related to the departments from the file `data/departments.csv`. Show the 5 first rows."
   ]
  },
  {
   "cell_type": "code",
   "execution_count": null,
   "metadata": {},
   "outputs": [],
   "source": [
    "# %load solutions/28_solutions.py\n",
    "df_departments = pd.read_csv(os.path.join('data', 'departments.csv'))\n",
    "df_departments.head()\n"
   ]
  },
  {
   "cell_type": "markdown",
   "metadata": {},
   "source": [
    "* Find the column in the departments dataframe which is related to the `code` column of the regions dataframe. Merge both dataframe using these informations. Show the 5 first rows of the resulting dataframe."
   ]
  },
  {
   "cell_type": "code",
   "execution_count": null,
   "metadata": {},
   "outputs": [],
   "source": [
    "# %load solutions/29_solutions.py\n",
    "# pd.merge(df_departments, df_regions, how='inner', left_on='region_code', right_on='code')\n",
    "df_reg_dep = df_departments.merge(df_regions, how='inner', left_on='region_code', right_on='code')\n",
    "df_reg_dep.head()\n"
   ]
  },
  {
   "cell_type": "markdown",
   "metadata": {},
   "source": [
    "* In the previous dataframe as column linked to the department code which could be merged with our referendum data as we did previously. Since we already got information about the regions, we can get the regions dataframe with a new merge. Show the 5 first rows of the merged dataframe."
   ]
  },
  {
   "cell_type": "code",
   "execution_count": null,
   "metadata": {},
   "outputs": [],
   "source": [
    "# %load solutions/30_solutions.py\n",
    "df = df_referendum.merge(df_reg_dep, how='inner', left_on='Department code', right_on='code_x')\n",
    "df.head()\n"
   ]
  },
  {
   "cell_type": "markdown",
   "metadata": {},
   "source": [
    "* Group and add up the vote by region and show the resulting dataframe."
   ]
  },
  {
   "cell_type": "code",
   "execution_count": null,
   "metadata": {},
   "outputs": [],
   "source": [
    "# %load solutions/31_solutions.py\n",
    "regions_vote = df.groupby(['code_y', 'name_y']).sum()\n",
    "regions_vote\n"
   ]
  },
  {
   "cell_type": "markdown",
   "metadata": {},
   "source": [
    "* Taking example on the previous case, plot the vote for the \"choice A\" and \"choice B\". Use the file `regions.geojson` instead of `departments.geojson`."
   ]
  },
  {
   "cell_type": "code",
   "execution_count": null,
   "metadata": {},
   "outputs": [],
   "source": [
    "# %load solutions/32_solutions.py\n",
    "gdf_regions = gpd.read_file(os.path.join('data', 'regions.geojson'))\n",
    "gdf_regions = gdf_regions.merge(regions_vote, how='inner', left_on='code', right_on='code_y')\n",
    "\n",
    "gdf_normalized = gdf_regions.copy()\n",
    "gdf_normalized['Choice A'] /= gdf_regions[['Choice A', 'Choice B']].sum(axis=1)\n",
    "gdf_normalized['Choice B'] /= gdf_regions[['Choice A', 'Choice B']].sum(axis=1)\n"
   ]
  },
  {
   "cell_type": "code",
   "execution_count": null,
   "metadata": {},
   "outputs": [],
   "source": [
    "# %load solutions/33_solutions.py\n",
    "gdf_normalized.plot(column='Choice B')\n"
   ]
  },
  {
   "cell_type": "code",
   "execution_count": null,
   "metadata": {},
   "outputs": [],
   "source": [
    "# %load solutions/34_solutions.py\n",
    "gdf_normalized.plot(column='Choice A')\n"
   ]
  },
  {
   "cell_type": "code",
   "execution_count": null,
   "metadata": {},
   "outputs": [],
   "source": []
  }
 ],
 "metadata": {
  "kernelspec": {
   "display_name": "Python 3",
   "language": "python",
   "name": "python3"
  },
  "language_info": {
   "codemirror_mode": {
    "name": "ipython",
    "version": 3
   },
   "file_extension": ".py",
   "mimetype": "text/x-python",
   "name": "python",
   "nbconvert_exporter": "python",
   "pygments_lexer": "ipython3",
   "version": "3.7.4"
  }
 },
 "nbformat": 4,
 "nbformat_minor": 4
}
