{
 "cells": [
  {
   "cell_type": "markdown",
   "metadata": {},
   "source": [
    "# Introduction to Deep Learning Using Keras\n",
    "\n",
    "[Keras](https://keras.io/) is a high-level API for deep learning. It is written in Python and can run on top of [Theano](http://deeplearning.net/software/theano/) or [TensorFlow](https://www.tensorflow.org/), two very popular libraries for neural networks in Python. It allows users to implement deep learning models very fast and with minimum effort. In the past years, the contribution of Keras to research in deep learning has been significant since it has allowed researchers to go from ideas to results with the least possible delay.\n",
    "\n",
    "\n",
    "\n",
    "In this part of the lab, we will implement a simple feedforward neural network to perform classification on a synthetic dataset, of two classes. Your first objective is to create this dataset. It will consist of 200 points in the 2-dimensional space $(N = 200, d = 2)$. Each point will belong either to class 0 or to class 1 (100 points per class), drawn from a Gaussian distribution: \n",
    "\n",
    "$$\n",
    "    \\mathbf{x}_i \\sim \\mathcal{N}(\\boldsymbol \\mu_k, \\boldsymbol \\Sigma_k)\n",
    "$$\n",
    "\n",
    "for class $k$. For class 0, $\\boldsymbol{\\mu}_0 = [1,1]$ and standard deviation $0.5$ for each dimension. For class 1, $\\boldsymbol{\\mu}_1 = [-1,-1]$ and standard deviation $0.5$. To generate these values make use of the [`randn`](http://docs.scipy.org/doc/numpy/reference/generated/numpy.random.randn.html) function of NumPy that returns a sample from the \"standard normal\" distribution as follows: \n",
    "\n",
    "```python\n",
    "sd * np.random.randn(...) + mu\n",
    "```"
   ]
  },
  {
   "cell_type": "code",
   "execution_count": 137,
   "metadata": {},
   "outputs": [],
   "source": [
    "\n",
    "#-------------------------------------\n",
    "# CASE_1: Linear Decision boundary\n",
    "#-------------------------------------\n",
    "\n",
    "# import numpy as np\n",
    "\n",
    "# N = 200\n",
    "# d = 2\n",
    "# num_classes = 2\n",
    "\n",
    "# X = np.zeros((N, d))\n",
    "# y = np.zeros(N, dtype=np.int64)\n",
    "\n",
    "# #your code here\n",
    "# X[:N//2 , :] = 0.5 * np.random.randn(N//2, 2) + [1,1]\n",
    "# X[N//2: , :] = 0.5 * np.random.randn(N//2, 2) + [-1,-1]\n",
    "\n",
    "# y[:N//2] = 1\n",
    "\n",
    "\n",
    "#-------------------------------------\n",
    "# CASE_2: Non Linear Decision boundary\n",
    "#-------------------------------------\n",
    "import numpy as np\n",
    "\n",
    "N = 200\n",
    "d = 2\n",
    "num_classes = 2\n",
    "\n",
    "X = np.zeros((N, d))\n",
    "y = np.zeros(N, dtype=np.int64)\n",
    "\n",
    "\n",
    "#your code here\n",
    "X[:N//4 , :] = 0.2 * np.random.randn(N//4, 2) + [1,1]\n",
    "X[N//4:N//2: , :] = 0.2 * np.random.randn(N//4, 2) + [-1,-1]\n",
    "\n",
    "X[N//2:(3*N)//4 , :] = 0.2 * np.random.randn(N//4, 2) + [-1,1]\n",
    "X[(3*N)//4: , :] = 0.2 * np.random.randn(N//4, 2) + [1,-1]\n",
    "\n",
    "y[:N//2] = 1\n"
   ]
  },
  {
   "cell_type": "markdown",
   "metadata": {},
   "source": [
    "After generating the 200 points, plot them in a 2-dimensional plane using [`scatter`](http://matplotlib.org/api/pyplot_api.html#matplotlib.pyplot.scatter). Use the same color for points belonging to the same class."
   ]
  },
  {
   "cell_type": "code",
   "execution_count": 138,
   "metadata": {},
   "outputs": [
    {
     "data": {
      "text/plain": [
       "<matplotlib.collections.PathCollection at 0x1628504ce08>"
      ]
     },
     "execution_count": 138,
     "metadata": {},
     "output_type": "execute_result"
    },
    {
     "data": {
      "image/png": "[encoded data removed]",
      "text/plain": [
       "<Figure size 432x288 with 1 Axes>"
      ]
     },
     "metadata": {
      "needs_background": "light"
     },
     "output_type": "display_data"
    }
   ],
   "source": [
    "import matplotlib.pyplot as plt\n",
    "%matplotlib inline\n",
    "\n",
    "#your code here\n",
    "plt.scatter(X[:,0], X[:,1], c=y)"
   ]
  },
  {
   "cell_type": "markdown",
   "metadata": {},
   "source": [
    "Then, split the dataset into a training and a test set using the [`train_test_split`](http://scikit-learn.org/stable/modules/generated/sklearn.model_selection.train_test_split.html) function of scikit-learn. Set the proportion of the dataset to be included in the test set to 0.2."
   ]
  },
  {
   "cell_type": "code",
   "execution_count": 139,
   "metadata": {},
   "outputs": [],
   "source": [
    "from sklearn.model_selection import train_test_split\n",
    "\n",
    "#your code here\n",
    "X_train, X_test, y_train, y_test = train_test_split(X,y, test_size = 0.2)"
   ]
  },
  {
   "cell_type": "markdown",
   "metadata": {},
   "source": [
    "Now you will use Keras to implement a simple feedforward neural network. In Keras, of particular importance is the notion of a model. The model is the data structure upon which the neural network is built. The most common type of model is the Sequential model, which corresponds to a linear stack of layers. We next initialize a Sequential model."
   ]
  },
  {
   "cell_type": "code",
   "execution_count": 140,
   "metadata": {},
   "outputs": [],
   "source": [
    "from tensorflow.keras.models import Sequential\n",
    "\n",
    "# The model is the data structure upon which the neural network is built.  \n",
    "# 'Sequential' is the type of the model\n",
    "# The name of model is 'model'\n",
    "model = Sequential()"
   ]
  },
  {
   "cell_type": "markdown",
   "metadata": {},
   "source": [
    "After creating a Sequence, we can add layers to it. In this example, we will add a hidden layer and the output layer. The hidden layer will consist of 64 hidden units and the output of each neuron will be activated by the [ReLU](https://en.wikipedia.org/wiki/Rectifier_(neural_networks)) activation function. The output layer will contain 1 neuron which corresponds to the probability that an instance belongs to class 1 of our problem. \n",
    "Both these layers are fully-connected neural network layers and can be implemented using the [Dense](https://keras.io/layers/core/#dense) class of Keras."
   ]
  },
  {
   "cell_type": "code",
   "execution_count": 141,
   "metadata": {},
   "outputs": [],
   "source": [
    "from tensorflow.keras.layers import Dense\n",
    "\n",
    "#your code here\n",
    "# 'Dense' represent a Neural Network layer. https://keras.io/layers/core/#dense \n",
    "model.add(Dense(units=64,          # 1st layer size\n",
    "                activation='relu', # Apply Relu when transiting from 1st to 2nd layer\n",
    "                input_shape=(2,)   # It means that the input is 2 dimensionnal\n",
    "               ))\n",
    "                                   # after the first layer, you don't need to specify the size of the input anymore\n",
    "\n",
    "# Add the last layer\n",
    "model.add(Dense(units=1,\n",
    "                activation = 'sigmoid')\n",
    "         )\n",
    "\n",
    "# Dense is the densely-connected NN layer.\n",
    "# Dense implements the operation: output = activation(dot(input, kernel) + bias) where activation is the element-wise activation function passed as the activation argument, \n",
    "#       kernel is a weights matrix created by the layer, and bias is a bias vector created by the layer (only applicable if use_bias is True).\n",
    "# Note: if the input to the layer has a rank greater than 2, then it is flattened prior to the initial dot product with kernel.\n"
   ]
  },
  {
   "cell_type": "markdown",
   "metadata": {},
   "source": [
    "After defining the model, we compile it to configure its learning process. More specifically, we can specify the loss function and the optimizer and its parameters."
   ]
  },
  {
   "cell_type": "code",
   "execution_count": 142,
   "metadata": {},
   "outputs": [],
   "source": [
    "from tensorflow.keras.losses import binary_crossentropy\n",
    "from tensorflow.keras.optimizers import SGD  # Stochastic Gradient Desncet Optimizer \n",
    "\n",
    "model.compile(loss=binary_crossentropy, optimizer=SGD(lr=0.01, momentum=0.9)) # momentum: Parameter that accelerates SGD in the relevant direction and dampens oscillations.\n",
    "# optimizer: String (name of optimizer) or optimizer instance. https://keras.io/optimizers/\n",
    "# loss: String (name of objective function) or objective function or Loss instance. https://keras.io/losses/\n",
    "# http://www.cs.toronto.edu/~tijmen/csc321/slides/lecture_slides_lec6.pdf\n"
   ]
  },
  {
   "cell_type": "markdown",
   "metadata": {},
   "source": [
    "Once compiled, we can train the model by iterating on the training data in batches."
   ]
  },
  {
   "cell_type": "code",
   "execution_count": 148,
   "metadata": {},
   "outputs": [
    {
     "name": "stdout",
     "output_type": "stream",
     "text": [
      "Train on 160 samples\n",
      "Epoch 1/5\n",
      "160/160 [==============================] - 0s 163us/sample - loss: 0.0249\n",
      "Epoch 2/5\n",
      "160/160 [==============================] - 0s 81us/sample - loss: 0.0238\n",
      "Epoch 3/5\n",
      "160/160 [==============================] - 0s 87us/sample - loss: 0.0227\n",
      "Epoch 4/5\n",
      "160/160 [==============================] - 0s 88us/sample - loss: 0.0217\n",
      "Epoch 5/5\n",
      "160/160 [==============================] - 0s 87us/sample - loss: 0.0208\n"
     ]
    },
    {
     "data": {
      "text/plain": [
       "<tensorflow.python.keras.callbacks.History at 0x16286b69488>"
      ]
     },
     "execution_count": 148,
     "metadata": {},
     "output_type": "execute_result"
    }
   ],
   "source": [
    "# epochs : 5 how many times we give train to the the model / Nber of iterations\n",
    "# batch size : We made one back-propagation for each 16 samples\n",
    "# \n",
    "model.fit(X_train, y_train, epochs=5, batch_size=16)"
   ]
  },
  {
   "cell_type": "markdown",
   "metadata": {},
   "source": [
    "Once trained, we can use your model to generate predictions on new data. Predictions are real values between 0 and 1. Set predictions larger than 0.5 to 1 and predictions smaller than 0.5 to 0."
   ]
  },
  {
   "cell_type": "code",
   "execution_count": 156,
   "metadata": {},
   "outputs": [
    {
     "name": "stdout",
     "output_type": "stream",
     "text": [
      "[0.01211259 0.02823469 0.00472963 0.00696623 0.9914709  0.06005007\n",
      " 0.02229798 0.01067856 0.99126995 0.9771666  0.00417733 0.02806914\n",
      " 0.00726733 0.98537284 0.01566175 0.01148996 0.06036064 0.02796784\n",
      " 0.05062371 0.11888435 0.0118936  0.00431478 0.98646486 0.9950318\n",
      " 0.99116975 0.9783646  0.9760551  0.0089097  0.99290144 0.97694397\n",
      " 0.01377267 0.98476666 0.03456354 0.00758091 0.97912216 0.00609103\n",
      " 0.9830135  0.935807   0.0062463  0.99083877]\n",
      "[0. 0. 0. 0. 1. 0. 0. 0. 1. 1. 0. 0. 0. 1. 0. 0. 0. 0. 0. 0. 0. 0. 1. 1.\n",
      " 1. 1. 1. 0. 1. 1. 0. 1. 0. 0. 1. 0. 1. 1. 0. 1.]\n"
     ]
    }
   ],
   "source": [
    "y_pred = model.predict(X_test, batch_size=16) [:,0]  # NB: Le shape du RETURN de #predict(...) est (40,1); Afin de le transformer en (40,) on rajoute [...:0]\n",
    "# yy = model.predict(X_test, batch_size=16)[:,0]\n",
    "# print(yy.shape)\n",
    "\n",
    "#your code here\n",
    "print(y_pred)  # the content is a kind of probability number. Not Exactly 0 and Not exactely 1\n",
    "# To compute teh accuracy of the model, we should transform to integer (O or 1) each value of y\n",
    "# and then we ll be able to compute theaccuracy\n",
    "y_pred[y_pred > 0.5] = 1\n",
    "y_pred[y_pred <= 0.5] = 0\n",
    "print(y_pred)"
   ]
  },
  {
   "cell_type": "markdown",
   "metadata": {},
   "source": [
    "Finally, we will calculate the accuracy of the model by comparing the predictions against the ground truth class labels. Use the [`accuracy_score`](http://scikit-learn.org/stable/modules/generated/sklearn.metrics.accuracy_score.html) function of scikit-learn to compute the accuracy."
   ]
  },
  {
   "cell_type": "code",
   "execution_count": 135,
   "metadata": {},
   "outputs": [
    {
     "name": "stdout",
     "output_type": "stream",
     "text": [
      "Accuracy: 1.0\n"
     ]
    }
   ],
   "source": [
    "from sklearn.metrics import accuracy_score\n",
    "\n",
    "#your code here\n",
    "print(\"Accuracy:\", accuracy_score(y_test, y_pred))\n",
    "\n",
    "\n",
    "# NB: The Lost is different from accuracy. They are inversed\n"
   ]
  },
  {
   "cell_type": "markdown",
   "metadata": {},
   "source": [
    "Using the `pcolormesh` function, we can plot the decision surface of the network with regard to the input space. This is demonstrated as follows. Use your code from above (using `scatter`) to plot the data points over this surface."
   ]
  },
  {
   "cell_type": "code",
   "execution_count": 178,
   "metadata": {},
   "outputs": [
    {
     "name": "stdout",
     "output_type": "stream",
     "text": [
      "1\n",
      "[2, 3, 4, 5]\n",
      "8\n"
     ]
    }
   ],
   "source": [
    "# EXEMPLE OUT OF SUBJECT\n",
    "# https://www.sololearn.com/Discuss/1347790/meaning-of-adding-an-asterisk-before-a-variable-in-python ;\n",
    "# It pulls out the content of something in a raw string representation\n",
    "a, *b, c = 1, 2,3,4,5,8\n",
    "print(a)\n",
    "print(b)\n",
    "print(c)"
   ]
  },
  {
   "cell_type": "code",
   "execution_count": 179,
   "metadata": {},
   "outputs": [
    {
     "name": "stdout",
     "output_type": "stream",
     "text": [
      "3\n",
      "(3,)\n",
      "10 20 30\n",
      "[10 20 30]\n"
     ]
    }
   ],
   "source": [
    "# EXEMPLE OUT OF SUBJECT\n",
    "g=np.array([10,20,30])\n",
    "print(*g.shape)\n",
    "print(g.shape)\n",
    "print(*g)\n",
    "print(g)"
   ]
  },
  {
   "cell_type": "code",
   "execution_count": 180,
   "metadata": {},
   "outputs": [
    {
     "name": "stdout",
     "output_type": "stream",
     "text": [
      "xx1.ravel().shape :  (10000,)\n",
      "xx1.shape :  (100, 100)\n",
      "*xx1.shape :  100 100\n"
     ]
    },
    {
     "data": {
      "text/plain": [
       "<matplotlib.collections.PathCollection at 0x1628a9bcf08>"
      ]
     },
     "execution_count": 180,
     "metadata": {},
     "output_type": "execute_result"
    },
    {
     "data": {
      "image/png": "[encoded data removed]",
      "text/plain": [
       "<Figure size 432x288 with 2 Axes>"
      ]
     },
     "metadata": {
      "needs_background": "light"
     },
     "output_type": "display_data"
    }
   ],
   "source": [
    "plt.figure()\n",
    "xx1, xx2 = np.meshgrid(\n",
    "    np.linspace(min(X[:,0]-1),max(X[:,0]+1),num=100), \n",
    "    np.linspace(min(X[:,1]-1),max(X[:,1]+1),num=100)\n",
    ")\n",
    "print(\"xx1.ravel().shape : \", xx1.ravel().shape)\n",
    "# linspace VS arange: linspace(min, max, number-of-observation)\n",
    "#                     arange(min, max, increment-value)\n",
    "p_y = model.predict(np.c_[xx1.ravel(), xx2.ravel()]) # .ravel retruns a flattened array; np.c_ concatenate along columns\n",
    "\n",
    "print(\"xx1.shape : \",xx1.shape)     # (100, 100)\n",
    "print(\"*xx1.shape : \" , *xx1.shape) # 100 100\n",
    "# pcolormesh(.., .., A scalar 2-D array whose values will be color-mapped, cmap=...)\n",
    "# xx1, xx2: The coordinates of the quadrilateral corners\n",
    "plt.pcolormesh(xx1, xx2, p_y.reshape(*xx1.shape), cmap='RdBu')\n",
    "plt.colorbar()\n",
    "# plt.title(\"Surface P(Y | X)\")\n",
    "plt.title(\"Surface $P(Y | \\mathbf{X})$\")\n",
    "plt.xlabel(\"$x_1$\")\n",
    "plt.ylabel(\"$x_2$\")\n",
    "plt.scatter(X[:,0], X[:,1], c=y)"
   ]
  },
  {
   "cell_type": "markdown",
   "metadata": {},
   "source": [
    "Replace half of the points for class 1 at with points sampled from a Gaussian at $\\boldsymbol \\mu = [0,3]$ (same standard deviation as other points), so as to form a second 'ball' of points for this class. Run the code again, and note how the decision surface changes."
   ]
  },
  {
   "cell_type": "code",
   "execution_count": null,
   "metadata": {},
   "outputs": [],
   "source": []
  }
 ],
 "metadata": {
  "kernelspec": {
   "display_name": "Python 3",
   "language": "python",
   "name": "python3"
  },
  "language_info": {
   "codemirror_mode": {
    "name": "ipython",
    "version": 3
   },
   "file_extension": ".py",
   "mimetype": "text/x-python",
   "name": "python",
   "nbconvert_exporter": "python",
   "pygments_lexer": "ipython3",
   "version": "3.7.4"
  }
 },
 "nbformat": 4,
 "nbformat_minor": 2
}
