{
 "cells": [
  {
   "cell_type": "markdown",
   "metadata": {},
   "source": [
    "# Convolutional Neural Networks for Handwritten Digit Recognition\n",
    "\n",
    "Object recognition is one of the most exciting tasks in the field of Computer Vision. The goal is to detect and identify objects in an image. The most popular dataset in object recognition involves recognizing handwritten digits. In this part of the lab, we will develop a convolutional neural network for classifying handwritten digits using the [Keras](https://keras.io/) library. We will evaluate the neural network on the well-known [MNIST dataset](http://yann.lecun.com/exdb/mnist/). The dataset was created by Yann LeCun, Corinna Cortes and Christopher Burges for evaluating machine learning models. Each instance corresponds to the image of a digit taken from a scanned document. Each image is a 28 by 28 pixel square (784 pixels total), and the digits are normalized in size and centred. There are 10 digits in total (0 to 9). Hence, there are 10 classes in total. The dataset is spit into a training set consisting of 60,000 images and a test set of 10,000 images.\n",
    "\n",
    "Keras provides a function for directly loading the MNIST dataset. The dataset is downloaded automatically the first time this function is called and is stored in the disk. Run the following code to load the MNIST dataset. Then, use the ``show`` function (already implemented) to visualize a digit of the training set."
   ]
  },
  {
   "cell_type": "code",
   "execution_count": 188,
   "metadata": {},
   "outputs": [
    {
     "name": "stdout",
     "output_type": "stream",
     "text": [
      "(60000, 28, 28)\n",
      "(60000,)\n"
     ]
    },
    {
     "data": {
      "image/png": "[encoded data removed]",
      "text/plain": [
       "<Figure size 432x288 with 1 Axes>"
      ]
     },
     "metadata": {
      "needs_background": "light"
     },
     "output_type": "display_data"
    }
   ],
   "source": [
    "import os\n",
    "import numpy as np\n",
    "import matplotlib.pyplot as plt\n",
    "%matplotlib inline\n",
    "\n",
    "# If multiple copies of a library runtime have been linked into the program. \n",
    "# It is dangerous, since it can degrade performance or cause incorrect results. \n",
    "# The best thing to do is to ensure that only a single version of the library runtime is linked into the process, \n",
    "# e.g. by avoiding static linking of the library runtime in any library. \n",
    "# As an unsafe, unsupported, undocumented workaround you can set the environment variable KMP_DUPLICATE_LIB_OK=TRUE \n",
    "# to allow the program to continue to execute\n",
    "os.environ['KMP_DUPLICATE_LIB_OK']='True'\n",
    "\n",
    "from tensorflow.keras.datasets import mnist\n",
    "\n",
    "def show(image):\n",
    "    fig = plt.figure()\n",
    "    ax = fig.add_subplot(1,1,1)\n",
    "    imgplot = ax.imshow(image, cmap='gray')\n",
    "    imgplot.set_interpolation('nearest')\n",
    "    ax.xaxis.set_ticks_position('top')\n",
    "    ax.yaxis.set_ticks_position('left')\n",
    "\n",
    "# input image dimensions\n",
    "img_rows, img_cols = 28, 28\n",
    "\n",
    "# The data, split between train and test sets\n",
    "# NB: Keras provides a function for directly loading the MNIST dataset. https://github.com/keras-team/keras/blob/master/keras/datasets/mnist.py#L11\n",
    "(X_train, y_train), (X_test, y_test) = mnist.load_data() \n",
    "print(X_train.shape)\n",
    "print(y_train.shape)\n",
    "\n",
    "#your code here\n",
    "show(X_train[0, :, :])"
   ]
  },
  {
   "cell_type": "markdown",
   "metadata": {},
   "source": [
    "To reduce training time, we will carry out experiments only on a subset of the dataset. Specifically, the first 10,000 instances of the training set and the first 1,000 instances of the test set will serve as our new training and test sets, respectively."
   ]
  },
  {
   "cell_type": "code",
   "execution_count": 189,
   "metadata": {},
   "outputs": [
    {
     "name": "stdout",
     "output_type": "stream",
     "text": [
      "Shape of X_training matrix: (10000, 28, 28)\n",
      "Shape of X_test matrix: (1000, 28, 28)\n",
      "Shape of y_test matrix: (1000,)\n"
     ]
    }
   ],
   "source": [
    "# reduce the sample dataset\n",
    "X_train = X_train[:10000,:,:]\n",
    "y_train = y_train[:10000]\n",
    "X_test = X_test[:1000,:,:]\n",
    "y_test = y_test[:1000]\n",
    "\n",
    "print(\"Shape of X_training matrix:\", X_train.shape)\n",
    "print(\"Shape of X_test matrix:\", X_test.shape)\n",
    "print(\"Shape of y_test matrix:\", y_test.shape)"
   ]
  },
  {
   "cell_type": "markdown",
   "metadata": {},
   "source": [
    "After loading the MNIST dataset and reducing its size, it is necessary to reshape all the instances so that their shape is the one a CNN would expect. In Keras, the layers used for two-dimensional convolutions expect the depth of the input image along with its dimensions. In the case of full-color images, the depth is equal to 3 and each dimension corresponds to its red, green and blue components. The images contained in the MNIST dataset are greyscale, hence, the depth is equal to 1. Therefore, to be able to apply two-dimensional convolutions, it is necessary to transform the shape of each image from (width, height) to (width, height, depth). Make use of the [reshape](https://docs.scipy.org/doc/numpy-1.14.0/reference/generated/numpy.reshape.html) function of NumPy to add an extra dimension to the training and test matrices."
   ]
  },
  {
   "cell_type": "code",
   "execution_count": 190,
   "metadata": {},
   "outputs": [
    {
     "name": "stdout",
     "output_type": "stream",
     "text": [
      "Shape of training matrix: (10000, 28, 28, 1)\n",
      "Shape of test matrix: (1000, 28, 28, 1)\n"
     ]
    }
   ],
   "source": [
    "#your code here\n",
    "\n",
    "# As Keras uses 3Dim to each image (the 3rd dim is for color rgb)\n",
    "# But as our dataset is grey color, so no colour, => transform the (28,28) 2Dimm to (28,28,1) 3Dim\n",
    "# Transform the shape of each image from (width, height) to (width, height, depth)\n",
    "#your code here\n",
    "X_train = np.reshape(X_train, (X_train.shape[0], 28,28,1))\n",
    "X_test = np.reshape(X_test, (X_test.shape[0], 28,28,1))\n",
    "\n",
    "print(\"Shape of training matrix:\", X_train.shape)\n",
    "print(\"Shape of test matrix:\", X_test.shape)"
   ]
  },
  {
   "cell_type": "markdown",
   "metadata": {},
   "source": [
    "The final preprocessing step is to convert the type of the images to float32, normalize their values to the range [0,1] and to encode the class labels using a one-hot scheme."
   ]
  },
  {
   "cell_type": "code",
   "execution_count": 191,
   "metadata": {
    "scrolled": false
   },
   "outputs": [
    {
     "name": "stdout",
     "output_type": "stream",
     "text": [
      "Shape of training matrix: (10000, 28, 28, 1)\n",
      "Shape of test matrix: (10000, 28, 28, 1)\n",
      "10000 train samples\n",
      "1000 test samples\n",
      "Shape of y_train[0] matrix before applying to_categorically(): ()\n",
      "y_train[0] of value \"5\" before applying to_categorically() : 5\n",
      "y_train[0] of value \"5\" after applying to_categorically() : [0. 0. 0. 0. 0. 1. 0. 0. 0. 0.]\n",
      "Shape of y_train[0] matrix after applying to_categorically(): (10,)\n",
      "y_train[2] of value \"4\" after applying to_categorically() : [0. 0. 0. 0. 1. 0. 0. 0. 0. 0.]\n"
     ]
    }
   ],
   "source": [
    "from tensorflow.keras.utils import to_categorical\n",
    "\n",
    "X_train = X_train.astype('float32')\n",
    "X_test = X_test.astype('float32')\n",
    "X_train /= 255\n",
    "X_test /= 255\n",
    "print(\"Shape of training matrix:\", X_train.shape)\n",
    "print(\"Shape of test matrix:\", X_train.shape)\n",
    "print(X_train.shape[0], 'train samples')\n",
    "print(X_test.shape[0], 'test samples')\n",
    "print(\"Shape of y_train[0] matrix before applying to_categorically():\", y_train[0].shape)\n",
    "print(f'y_train[0] of value \"5\" before applying to_categorically() : {y_train[0]}') # y_train[0] == 5 / [5 0 4 ... 6 9 7]\n",
    "\n",
    "\n",
    "# convert class vectors to binary class matrices\n",
    "# https://stackoverflow.com/questions/44110426/when-to-use-to-categorical-in-keras\n",
    "# If your training data uses classes as numbers, \n",
    "# to_categorical(..) will transform those numbers in proper vectors for using with models. \n",
    "# Ex: Suppose you have three clasess, the vector goes like this:\n",
    "#     [1, 0, 0] = class 1\n",
    "#     [0, 1, 0] = class 2\n",
    "#     [0, 0, 1] = class 3\n",
    "num_classes = 10\n",
    "y_train = to_categorical(y_train, num_classes)\n",
    "y_test = to_categorical(y_test, num_classes)\n",
    "# y_train[0] sera représenté selon la représentation des vecteurs propres dans un espace de 10 dimensions (comme il y a 10 labels) \n",
    "#  => y_train[0] = [0. 0. 0. 0. 0. 1. 0. 0. 0. 0.]\n",
    "print(f'y_train[0] of value \"5\" after applying to_categorically() : {y_train[0]}') # [0. 0. 0. 0. 0. 1. 0. 0. 0. 0.]\n",
    "print(\"Shape of y_train[0] matrix after applying to_categorically():\", y_train[0].shape)\n",
    "print(f'y_train[2] of value \"4\" after applying to_categorically() : {y_train[2]}') # [0. 0. 0. 0. 1. 0. 0. 0. 0. 0.]"
   ]
  },
  {
   "cell_type": "markdown",
   "metadata": {},
   "source": [
    "Upon completing the preprocessing pipeline, we can now start developing the [convolutional neural network](https://en.wikipedia.org/wiki/Convolutional_neural_network) (CNN) architecture. Keras provides rich functionality for building CNNs since it offers various methods for creating convolutional and pooling layers. We first initialize a Sequential model."
   ]
  },
  {
   "cell_type": "code",
   "execution_count": 192,
   "metadata": {},
   "outputs": [],
   "source": [
    "from tensorflow.keras.models import Sequential\n",
    "\n",
    "model = Sequential()"
   ]
  },
  {
   "cell_type": "markdown",
   "metadata": {},
   "source": [
    "We next add a two-dimensional convolution layer to our model. This layer will create a convolution kernel that is convolved with the layer input to produce a tensor of outputs. Use the [`Conv2D`](https://keras.io/layers/convolutional/#conv2d) method of Keras to generate a convolution layer with 32 filters of size (3,3) and a ReLU activation function."
   ]
  },
  {
   "cell_type": "code",
   "execution_count": 193,
   "metadata": {},
   "outputs": [],
   "source": [
    "from tensorflow.keras.layers import Conv2D\n",
    "\n",
    "#your code here\n",
    "model.add(Conv2D(filters=32,    # 1st convolutionnal layers contains 32 filters \n",
    "             kernel_size=(3,3), # of size (3,3) each\n",
    "             activation = 'relu',\n",
    "             input_shape=(28,28,1)))"
   ]
  },
  {
   "cell_type": "markdown",
   "metadata": {},
   "source": [
    "Add a second convolution layer to the model. Set the number of filters to 64 and their size to (2,2). As in the case of the first layer use a ReLU activation function."
   ]
  },
  {
   "cell_type": "code",
   "execution_count": 194,
   "metadata": {},
   "outputs": [],
   "source": [
    "#your code here\n",
    "model.add(Conv2D(filters=64,    # 2nd convolutionnal layers contains 32 filters \n",
    "             kernel_size=(2,2), # of size (2,2) each\n",
    "             activation = 'relu'))"
   ]
  },
  {
   "cell_type": "markdown",
   "metadata": {},
   "source": [
    "Then, define a pooling layer using the [`MaxPooling2D`](https://keras.io/layers/pooling/#maxpooling2d) method of Keras. Max pooling reduces the number of parameters in the model by sliding a 2x2 pooling filter on the output of the previous layer and taking the max of the 4 values in the 2x2 filter."
   ]
  },
  {
   "cell_type": "code",
   "execution_count": 195,
   "metadata": {},
   "outputs": [],
   "source": [
    "from tensorflow.keras.layers import MaxPooling2D\n",
    "\n",
    "#your code here\n",
    "model.add(MaxPooling2D(pool_size=(2,2)))"
   ]
  },
  {
   "cell_type": "markdown",
   "metadata": {},
   "source": [
    "The next layer is a regularization layer using dropout. Use the [`Dropout`](https://keras.io/layers/core/#dropout) method of Keras to randomly exclude 20% of the neurons in the layer. Dropout has been shown to reduce overfitting."
   ]
  },
  {
   "cell_type": "code",
   "execution_count": 196,
   "metadata": {},
   "outputs": [],
   "source": [
    "from tensorflow.keras.layers import Dropout\n",
    "\n",
    "# we can dropout randomly a number of neuronnes in order to avoid overfitting\n",
    "#your code here\n",
    "model.add(Dropout(rate=0.2))   # Dropout 20% randomly. These 20% dropped out are changed on each epoch run"
   ]
  },
  {
   "cell_type": "markdown",
   "metadata": {},
   "source": [
    "We next transform the two-dimensional matrix that has emerged from the previous layers to a vector using the [`Flatten`](https://keras.io/layers/core/#flatten) function of Keras. This vector will serve as the input to a standard feedforward neural network. We also create a fully connected layer with 128 neurons and a ReLU activation function. Finally, we add an output layer consisting of 10 neurons for the 10 classes along with a softmax activation function to output probability-like predictions for each class.\n",
    "\n",
    "Ex:<br/>\n",
    "model.add(Conv2D(64, (3, 3), input_shape=(3, 32, 32), padding='same',))   <br/>\n",
    "==> now: model.output_shape == (None, 64, 32, 32) <br/>\n",
    "<br/>\n",
    "model.add(Flatten())<br/>\n",
    "==> now: model.output_shape == (None, 65536)<br/>"
   ]
  },
  {
   "cell_type": "code",
   "execution_count": 197,
   "metadata": {},
   "outputs": [],
   "source": [
    "from tensorflow.keras.layers import Dense, Flatten\n",
    "\n",
    "#your code here\n",
    "model.add(Flatten())\n",
    "model.add(Dense(units=128, activation='relu'))  # nber of units == nbr of neuroenne\n",
    "# The output should be a vector of size 10, where each elmet represent a probability about the predicted number\n",
    "model.add(Dense(units=10, activation='softmax'))"
   ]
  },
  {
   "cell_type": "markdown",
   "metadata": {},
   "source": [
    "We next compile the model and by declaring the loss function and the optimizer."
   ]
  },
  {
   "cell_type": "code",
   "execution_count": 198,
   "metadata": {},
   "outputs": [],
   "source": [
    "model.compile(loss='categorical_crossentropy', optimizer='Adam', metrics=['accuracy'])"
   ]
  },
  {
   "cell_type": "markdown",
   "metadata": {},
   "source": [
    "We next print a summary representation of the model we generated. "
   ]
  },
  {
   "cell_type": "code",
   "execution_count": 199,
   "metadata": {},
   "outputs": [
    {
     "name": "stdout",
     "output_type": "stream",
     "text": [
      "Model: \"sequential_11\"\n",
      "_________________________________________________________________\n",
      "Layer (type)                 Output Shape              Param #   \n",
      "=================================================================\n",
      "conv2d_24 (Conv2D)           (None, 26, 26, 32)        320       \n",
      "_________________________________________________________________\n",
      "conv2d_25 (Conv2D)           (None, 25, 25, 64)        8256      \n",
      "_________________________________________________________________\n",
      "max_pooling2d_11 (MaxPooling (None, 12, 12, 64)        0         \n",
      "_________________________________________________________________\n",
      "dropout_13 (Dropout)         (None, 12, 12, 64)        0         \n",
      "_________________________________________________________________\n",
      "flatten_11 (Flatten)         (None, 9216)              0         \n",
      "_________________________________________________________________\n",
      "dense_22 (Dense)             (None, 128)               1179776   \n",
      "_________________________________________________________________\n",
      "dense_23 (Dense)             (None, 10)                1290      \n",
      "=================================================================\n",
      "Total params: 1,189,642\n",
      "Trainable params: 1,189,642\n",
      "Non-trainable params: 0\n",
      "_________________________________________________________________\n"
     ]
    }
   ],
   "source": [
    "model.summary()"
   ]
  },
  {
   "cell_type": "markdown",
   "metadata": {},
   "source": [
    "We can now train the neural network and use it to make predictions. Train the model for 10 epochs. Set the batch size to 64. Use the test data as the validation dataset. Once the training has finished, evaluate the model on the test set and print the classification accuracy. Note that training may take several minutes. You can reduce the training time by running the code on a GPU instead of CPU."
   ]
  },
  {
   "cell_type": "code",
   "execution_count": 200,
   "metadata": {},
   "outputs": [
    {
     "name": "stdout",
     "output_type": "stream",
     "text": [
      "Train on 10000 samples, validate on 1000 samples\n",
      "Epoch 1/10\n",
      "10000/10000 [==============================] - 11s 1ms/sample - loss: 0.4496 - accuracy: 0.8601 - val_loss: 0.1882 - val_accuracy: 0.9410\n",
      "Epoch 2/10\n",
      "10000/10000 [==============================] - 10s 956us/sample - loss: 0.1245 - accuracy: 0.9616 - val_loss: 0.1240 - val_accuracy: 0.9600\n",
      "Epoch 3/10\n",
      "10000/10000 [==============================] - 11s 1ms/sample - loss: 0.0716 - accuracy: 0.9797 - val_loss: 0.1251 - val_accuracy: 0.9550\n",
      "Epoch 4/10\n",
      "10000/10000 [==============================] - 11s 1ms/sample - loss: 0.0470 - accuracy: 0.9864 - val_loss: 0.0998 - val_accuracy: 0.9700\n",
      "Epoch 5/10\n",
      "10000/10000 [==============================] - 11s 1ms/sample - loss: 0.0356 - accuracy: 0.9890 - val_loss: 0.0907 - val_accuracy: 0.9690\n",
      "Epoch 6/10\n",
      "10000/10000 [==============================] - 11s 1ms/sample - loss: 0.0221 - accuracy: 0.9933 - val_loss: 0.0755 - val_accuracy: 0.9660\n",
      "Epoch 7/10\n",
      "10000/10000 [==============================] - 11s 1ms/sample - loss: 0.0206 - accuracy: 0.9933 - val_loss: 0.0800 - val_accuracy: 0.9730\n",
      "Epoch 8/10\n",
      "10000/10000 [==============================] - 11s 1ms/sample - loss: 0.0164 - accuracy: 0.9951 - val_loss: 0.0818 - val_accuracy: 0.9710\n",
      "Epoch 9/10\n",
      "10000/10000 [==============================] - 11s 1ms/sample - loss: 0.0080 - accuracy: 0.9978 - val_loss: 0.0999 - val_accuracy: 0.9710\n",
      "Epoch 10/10\n",
      "10000/10000 [==============================] - 11s 1ms/sample - loss: 0.0103 - accuracy: 0.9971 - val_loss: 0.0833 - val_accuracy: 0.9710\n"
     ]
    },
    {
     "data": {
      "text/plain": [
       "<tensorflow.python.keras.callbacks.History at 0x2832f4f7c88>"
      ]
     },
     "execution_count": 200,
     "metadata": {},
     "output_type": "execute_result"
    }
   ],
   "source": [
    "epochs = 10\n",
    "batch_size = 64\n",
    "\n",
    "#your code here\n",
    "model.fit(X_train, y_train, epochs=10, batch_size=64, validation_data=(X_test, y_test))"
   ]
  },
  {
   "cell_type": "markdown",
   "metadata": {},
   "source": [
    "The first layer of the neural network we implemented is a convolution layer. This convolution layer is applied directly to the greyscale images of the MNIST dataset, hence, an interesting task is to visualize what these filters have learned. Next, we apply the 32 filters to an image of the training set and we visualize the 26x26 output of each filter."
   ]
  },
  {
   "cell_type": "code",
   "execution_count": 210,
   "metadata": {
    "scrolled": false
   },
   "outputs": [
    {
     "name": "stdout",
     "output_type": "stream",
     "text": [
      "convolutions before squeeze: <class 'list'>\n",
      "convolutions size: 1\n",
      "Shape of conv after squeeze: (25, 25, 64)\n"
     ]
    },
    {
     "data": {
      "image/png": "[encoded data removed]",
      "text/plain": [
       "<Figure size 432x288 with 1 Axes>"
      ]
     },
     "metadata": {
      "needs_background": "light"
     },
     "output_type": "display_data"
    },
    {
     "data": {
      "image/png": "[encoded data removed]",
      "text/plain": [
       "<Figure size 864x576 with 64 Axes>"
      ]
     },
     "metadata": {
      "needs_background": "light"
     },
     "output_type": "display_data"
    }
   ],
   "source": [
    "from tensorflow.keras import backend as K\n",
    "\n",
    "def visualize(layer, img):\n",
    "    convout1_f = K.function(model.inputs, [layer.output])\n",
    "    # convout1_f : la fonction backend de keras qui permet de récupérer la transformation effectuée par layer.output sur l'entrée model.inputs\n",
    "    convolutions = convout1_f(img)  \n",
    "    convolutions = np.squeeze(convolutions)\n",
    "    print ('Shape of conv after squeeze:', convolutions.shape)  # (25, 25, 64)\n",
    "    \n",
    "    n = convolutions.shape[2]\n",
    "    n = int(np.ceil(np.sqrt(n)))\n",
    "    \n",
    "    # Visualization of each filter of the layer\n",
    "    fig = plt.figure(figsize=(12,8))\n",
    "    for i in range(convolutions.shape[2]):\n",
    "        ax = fig.add_subplot(n,n,i+1)\n",
    "        ax.imshow(convolutions[:,:,i], cmap='gray')\n",
    "        \n",
    "# choose an image\n",
    "# image = X_train[12,:,:]  # Extract the 12 images of the training set\n",
    "# show(X_train[12,:,:,0])\n",
    "image = X_train[200,:,:]  # Extract the 200 images of the training set\n",
    "show(X_train[200,:,:,0])\n",
    "\n",
    "# Keras requires the image to be in 4D\n",
    "# print(image.shape)  \n",
    "image = np.expand_dims(image, axis=0)  # Expands the dimension to (1, 28,28,1) in order to feed it to the network\n",
    "# print(image.shape)     \n",
    "    \n",
    "# Specify the layer to want to visualize\n",
    "# convout = model.layers[0] # 0 => the 1st convolutionnal layer\n",
    "convout = model.layers[1] # 1 => the 2nd convolutionnal layer\n",
    "visualize(convout, image)"
   ]
  },
  {
   "cell_type": "code",
   "execution_count": 133,
   "metadata": {},
   "outputs": [],
   "source": [
    "# from random import random\n",
    "# X_train = X_train[:10000,:,:]\n",
    "# y_train = y_train[:10000,:,:]\n",
    "# X_test = X_test[:1000,:,:]\n",
    "# y_test = y_test[:1000,:,:]\n",
    "\n",
    "# X_train_new = np.zeros(10000, 50, 50)\n",
    "# for i in range(10000):\n",
    "#     r = random()\n",
    "#     if r < 0.25 :\n",
    "#         X_train_new[i,:28, :28] = X_train[i,:,:]\n",
    "#     elif r < 0.5 :\n",
    "#         X_train_new[i,:22, :22] = X_train[i,:,:]        "
   ]
  }
 ],
 "metadata": {
  "kernelspec": {
   "display_name": "Python 3",
   "language": "python",
   "name": "python3"
  },
  "language_info": {
   "codemirror_mode": {
    "name": "ipython",
    "version": 3
   },
   "file_extension": ".py",
   "mimetype": "text/x-python",
   "name": "python",
   "nbconvert_exporter": "python",
   "pygments_lexer": "ipython3",
   "version": "3.7.4"
  }
 },
 "nbformat": 4,
 "nbformat_minor": 2
}
