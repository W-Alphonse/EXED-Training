{
 "cells": [
  {
   "cell_type": "markdown",
   "metadata": {},
   "source": [
    "<center><h2>DSSP<br>Lab: 25/01/2020<br>Graph Mining using Python<br></h2>G. Nikolentzos, M. Vazirgiannis</center>\n",
    "\n",
    "### 1. Description\n",
    "The goal of this lab is to work with graph (or network) data using the [NexworkX](http://networkx.github.io/) library of Python. We will use this library to perform data analytics tasks on graphs. The lab is divided into three parts.\n",
    "In the first part, we will use simple graph properties to identify which users of a social network are the most influential. Then, we will implement a well-known algorithm to reveal the community structure of a simple network. Finally, we will use graph kernels to measure the similarity between graphs and to perform graph classification.\n",
    "\n",
    "### 2. Measuring Influence\n",
    "In the first part of the lab, we will investigate how useful are some common graph properties for measuring the influence of the users of the Higgs social network. The [Higgs](https://snap.stanford.edu/data/higgs-twitter.html) dataset was built after monitoring the spreading processes on Twitter before, during and after the announcement of the discovery of a new particle with the features of the elusive Higgs boson. From this dataset, we have the information of the followers social relationships among the users (who follows whom), and the information of who re-tweeted, mentioned or replied (to) someone. \n",
    "\n",
    "Since the Higgs dataset is very large, for the purposes of this lab, we have created a dataset that includes only a subset of the users. The emerging followers graph is stored in the `higgs-social_network_sample.edgelist` file as an edge list. Load the network data into a *directed* graph $G$, using the [`read_edgelist()`](https://networkx.github.io/documentation/stable/reference/readwrite/generated/networkx.readwrite.edgelist.read_edgelist.html) function of NetworkX. Note that, the delimeter used to separate values is the space character and additionally, that lines that start with the # character are comments. The general syntax of the function is the following:\n",
    "\n",
    "    G = read_edgelist(path, comments=’#’, delimiter=None, create_using=nx.DiGraph())\n",
    "    \n",
    "<u>Tasks</u>:\n",
    "- Load the dataset using the `read_edgelist()` function.\n",
    "- Print the number of nodes and the number of the edges of the dataset (use the [`number_of_nodes()`](https://networkx.github.io/documentation/stable/reference/classes/generated/networkx.DiGraph.number_of_nodes.html#networkx.DiGraph.number_of_nodes) and [`number_of_edges()`](https://networkx.github.io/documentation/stable/reference/classes/generated/networkx.DiGraph.number_of_edges.html#networkx.DiGraph.number_of_edges) functions of NetworkX)."
   ]
  },
  {
   "cell_type": "code",
   "execution_count": 1,
   "metadata": {},
   "outputs": [
    {
     "name": "stdout",
     "output_type": "stream",
     "text": [
      "Number of nodes: 48403\n",
      "Number of edges: 197895\n"
     ]
    }
   ],
   "source": [
    "import networkx as nx\n",
    "\n",
    "G = nx.read_edgelist('data/higgs-social_network_sample.edgelist', comments='#', delimiter=' ', create_using=nx.DiGraph())\n",
    "\n",
    "print(\"Number of nodes:\", G.number_of_nodes())\n",
    "print(\"Number of edges:\", G.number_of_edges())"
   ]
  },
  {
   "cell_type": "markdown",
   "metadata": {},
   "source": [
    "As mentioned above, our goal is to use some graph properties to assign some values to the nodes, and then to investigate how good indicators of the influence of the users these properties are. Generally speaking, *influence* is a property that identifies an individual's capability to disseminate information. In this setting, we assume that node B is influenced by node A if at least one post of node A was re-tweeted by node B. Hence, the influence of a user is depicted by the number of users that have re-tweeted her posts.\n",
    "\n",
    "We next compute the influence of each node as defined above. The values that are computed below will serve as our ground truth."
   ]
  },
  {
   "cell_type": "code",
   "execution_count": 2,
   "metadata": {},
   "outputs": [],
   "source": [
    "influence = dict()\n",
    "\n",
    "with open('data/higgs-activity_time.txt', 'r') as f:\n",
    "    for line in f:\n",
    "        t = line.split()\n",
    "        if t[3] == 'RT':\n",
    "            if t[1] in influence:\n",
    "                influence[t[1]].add(t[0])\n",
    "            else:\n",
    "                influence[t[1]] = {t[0]}\n",
    "                \n",
    "for node in influence:\n",
    "    influence[node] = len(influence[node])"
   ]
  },
  {
   "cell_type": "markdown",
   "metadata": {},
   "source": [
    "We will then investigate if two very simple centrality measures, the *in-degree* and the *out-degree*, are good indicators of the the nodes' influence. Specifically, we will compute the average value of influence for each unique value of in-degree and out-degree, and we will produce in-degree vs influence and out-degree vs influence scatter plots. Then, we will compute the correlation between the two types of values.\n",
    "\n",
    "<u>Tasks</u>:\n",
    "- For each node of the followers graph for which we have ground truth information about its influence, add a tuple (influence of node, in-degree of node) to the list $data$ (use the [in_degree()](https://networkx.github.io/documentation/latest/reference/classes/generated/networkx.DiGraph.in_degree.html) function of NetworkX).\n",
    "- Create a scatter plot which illustrates the relationship between influence and in-degree.\n",
    "- Compute the relationship between the influence and in-degrees of the nodes using the Spearman correlation. You can use the [spearmanr()](https://docs.scipy.org/doc/scipy-0.14.0/reference/generated/scipy.stats.spearmanr.html) function of SciPy.\n",
    "- Do the same for the case of out-degree."
   ]
  },
  {
   "cell_type": "code",
   "execution_count": 1,
   "metadata": {},
   "outputs": [
    {
     "ename": "NameError",
     "evalue": "name 'G' is not defined",
     "output_type": "error",
     "traceback": [
      "\u001b[1;31m---------------------------------------------------------------------------\u001b[0m",
      "\u001b[1;31mNameError\u001b[0m                                 Traceback (most recent call last)",
      "\u001b[1;32m<ipython-input-1-ac61c6e49eee>\u001b[0m in \u001b[0;36m<module>\u001b[1;34m\u001b[0m\n\u001b[0;32m      6\u001b[0m \u001b[1;33m\u001b[0m\u001b[0m\n\u001b[0;32m      7\u001b[0m \u001b[0mdata\u001b[0m \u001b[1;33m=\u001b[0m \u001b[0mlist\u001b[0m\u001b[1;33m(\u001b[0m\u001b[1;33m)\u001b[0m\u001b[1;33m\u001b[0m\u001b[1;33m\u001b[0m\u001b[0m\n\u001b[1;32m----> 8\u001b[1;33m \u001b[1;32mfor\u001b[0m \u001b[0mnode\u001b[0m \u001b[1;32min\u001b[0m \u001b[0mG\u001b[0m\u001b[1;33m.\u001b[0m\u001b[0mnodes\u001b[0m\u001b[1;33m(\u001b[0m\u001b[1;33m)\u001b[0m\u001b[1;33m:\u001b[0m\u001b[1;33m\u001b[0m\u001b[1;33m\u001b[0m\u001b[0m\n\u001b[0m\u001b[0;32m      9\u001b[0m     \u001b[1;32mif\u001b[0m \u001b[0mnode\u001b[0m \u001b[1;32min\u001b[0m \u001b[0minfluence\u001b[0m\u001b[1;33m:\u001b[0m\u001b[1;33m\u001b[0m\u001b[1;33m\u001b[0m\u001b[0m\n\u001b[0;32m     10\u001b[0m         \u001b[0mdata\u001b[0m\u001b[1;33m.\u001b[0m\u001b[0mappend\u001b[0m\u001b[1;33m(\u001b[0m\u001b[1;33m(\u001b[0m\u001b[0minfluence\u001b[0m\u001b[1;33m[\u001b[0m\u001b[0mnode\u001b[0m\u001b[1;33m]\u001b[0m\u001b[1;33m,\u001b[0m \u001b[0mG\u001b[0m\u001b[1;33m.\u001b[0m\u001b[0min_degree\u001b[0m\u001b[1;33m(\u001b[0m\u001b[0mnode\u001b[0m\u001b[1;33m)\u001b[0m\u001b[1;33m)\u001b[0m\u001b[1;33m)\u001b[0m\u001b[1;33m\u001b[0m\u001b[1;33m\u001b[0m\u001b[0m\n",
      "\u001b[1;31mNameError\u001b[0m: name 'G' is not defined"
     ]
    }
   ],
   "source": [
    "import numpy as np\n",
    "import pandas as pd\n",
    "from scipy.stats import spearmanr\n",
    "import matplotlib.pyplot as plt\n",
    "%matplotlib inline\n",
    "\n",
    "data = list()\n",
    "for node in G.nodes():\n",
    "    if node in influence:\n",
    "        data.append((influence[node], G.in_degree(node)))\n",
    "\n",
    "df = pd.DataFrame(data, columns=['influence', 'in_degree'])\n",
    "df = df.groupby('in_degree').mean().reset_index()\n",
    "plt.scatter(df['in_degree'], df['influence'].apply(np.log))\n",
    "plt.xlabel('in-degree')\n",
    "plt.ylabel('influence')\n",
    "\n",
    "print(spearmanr(df['influence'], df['in_degree']))"
   ]
  },
  {
   "cell_type": "code",
   "execution_count": 4,
   "metadata": {},
   "outputs": [
    {
     "name": "stdout",
     "output_type": "stream",
     "text": [
      "SpearmanrResult(correlation=-0.16409793193355918, pvalue=0.006384067576465413)\n"
     ]
    },
    {
     "data": {
      "image/png": "[encoded data removed]",
      "text/plain": [
       "<Figure size 432x288 with 1 Axes>"
      ]
     },
     "metadata": {
      "needs_background": "light"
     },
     "output_type": "display_data"
    }
   ],
   "source": [
    "data = list()\n",
    "for node in G.nodes():\n",
    "    if node in influence:\n",
    "        data.append((influence[node], G.out_degree(node)))\n",
    "\n",
    "df = pd.DataFrame(data, columns=['influence', 'out_degree'])\n",
    "df = df.groupby('out_degree').mean().reset_index()\n",
    "plt.scatter(df['out_degree'], df['influence'].apply(np.log))\n",
    "plt.xlabel('out-degree')\n",
    "plt.ylabel('influence')\n",
    "\n",
    "print(spearmanr(df['influence'], df['out_degree']))"
   ]
  },
  {
   "cell_type": "markdown",
   "metadata": {},
   "source": [
    "We will next investigate how much the core number of a node is related to its influence. The $k$-core structure organizes the graph into nested subgraphs. Specifically, a $k$-core is a maximal subgraph that contains nodes of degree $k$ or more than $k$ within the subgraph. The following Figure illustrates this.\n",
    "\n",
    "<img src=\"kcore.png\" width=\"500\"/>\n",
    "\n",
    "This nested partition is easy to compute and many efficient algorithms have been proposed to do this in almost linear time (to the number of edges). The simplest algorithm iterates over the graph repeatedly for each value of $k$ and removes every node that has less than $k$ neighbors. The core number of a node is equal to the highest-order core that this node belongs to. In other words, a node has core number equal to $k$ if it belongs to the $k$-core but not to the $(k+1)$-core.\n",
    "\n",
    "<u>Tasks</u>:\n",
    "- Compute the core number of each node. You can use the [`core_number()`](https://networkx.github.io/documentation/stable/reference/algorithms/generated/networkx.algorithms.core.core_number.html#networkx.algorithms.core.core_number) function of NetworkX.\n",
    "- For each node of the followers graph for which we have ground truth information about its influence, add a tuple (influence of node, core number of node) to the list $data$.\n",
    "- Create a scatter plot which illustrates the relationship between influence and core number.\n",
    "- Compute the relationship between the influence and core number of the nodes using the Spearman correlation."
   ]
  },
  {
   "cell_type": "code",
   "execution_count": 5,
   "metadata": {},
   "outputs": [
    {
     "name": "stdout",
     "output_type": "stream",
     "text": [
      "SpearmanrResult(correlation=0.6394660894660896, pvalue=1.4786086916753327e-07)\n"
     ]
    },
    {
     "data": {
      "image/png": "[encoded data removed]",
      "text/plain": [
       "<Figure size 432x288 with 1 Axes>"
      ]
     },
     "metadata": {
      "needs_background": "light"
     },
     "output_type": "display_data"
    }
   ],
   "source": [
    "core_nums = nx.core_number(G)\n",
    "\n",
    "data = list()\n",
    "for node in G.nodes():\n",
    "    if node in influence:\n",
    "        data.append((influence[node], core_nums[node]))\n",
    "\n",
    "df = pd.DataFrame(data, columns=['influence', 'core_number'])\n",
    "df = df.groupby('core_number').mean().reset_index()\n",
    "plt.scatter(df['core_number'], df['influence'].apply(np.log))\n",
    "plt.xlabel('core number')\n",
    "plt.ylabel('influence')\n",
    "\n",
    "print(spearmanr(df['influence'], df['core_number']))"
   ]
  },
  {
   "cell_type": "markdown",
   "metadata": {},
   "source": [
    "### 3. Community Detection\n",
    "In the second part of the lab, we will focus on the community detection (or clustering) problem in graphs. Typically, a community corresponds to a set of nodes that highly interact among each other, compared to the intensity of interactions (as expressed by the number of edges) with the rest nodes of the graph. The experiments for this part will be performed in the *karate* dataset, a small dataset that has been used as a benchmark in several community detection algorithms. This dataset is a friendship social network between 34 members of a karate club at a US university in the 1970.\n",
    "\n",
    "<u>Tasks</u>:\n",
    "- Load the graph using the NetworkX library.\n",
    "- Print the number of nodes and the number of edges of the network."
   ]
  },
  {
   "cell_type": "code",
   "execution_count": 6,
   "metadata": {},
   "outputs": [
    {
     "name": "stdout",
     "output_type": "stream",
     "text": [
      "Number of nodes: 34\n",
      "Number of edges: 78\n"
     ]
    }
   ],
   "source": [
    "G = nx.read_edgelist('data/karate.edgelist', comments='#', delimiter=' ', create_using=nx.Graph())\n",
    "\n",
    "print(\"Number of nodes:\", G.number_of_nodes())\n",
    "print(\"Number of edges:\", G.number_of_edges())"
   ]
  },
  {
   "cell_type": "markdown",
   "metadata": {},
   "source": [
    "We will first implement and apply a very popular graph clustering algorithm, called Spectral Clustering. The basic idea of the algorithm is to utilize information associated to the spectrum of the graph, in order to identify well-separated clusters. The pseudocode of Spectral Clustering is shown below:\n",
    "\n",
    "1. Let $\\mathbf{A}$ be the adjacency matrix of the graph\n",
    "2. Compute the Laplacian matrix $\\mathbf{L} = \\mathbf{D}−\\mathbf{A}$. Matrix $\\mathbf{D}$ corresponds to the diagonal degree matrix of graph $G$ (i.e., degree of each node $v$ (= number of neighbors) in the main diagonal)\n",
    "3. Apply eigenvalue decomposition to the Laplacian matrix $\\mathbf{L}$ and compute the eigenvectors that correspond to $k$ smallest eigenvalues. Let $\\mathbf{U} = [\\mathbf{u}_1|\\mathbf{u}_2| \\ldots |\\mathbf{u}_k] \\in \\mathbb{R}^{n \\times k}$ be the matrix containing these eigenvectors as columns\n",
    "4. For $i = 1,\\ldots,n$, let $y_i \\in \\mathbb{R}^k$ be the vector corresponding to the $i$-th row of $\\mathbf{U}$. Apply $k$-means to the points $(y_i)_{i=1,\\ldots,n}$ (i.e., the rows of $\\mathbf{U}$) and find clusters $C_1, C_2, \\ldots, C_k$\n",
    "\n",
    "<u>Tasks</u>:\n",
    "- Implement the Spectral Clustering algorithm. To perform k-means, you can use scikit-learn's [implementation](https://scikit-learn.org/stable/modules/generated/sklearn.cluster.KMeans.html) of the algorithm. The Spectral Clustering algorithm must return a dictionary keyed by node to the cluster to which the node belongs.\n",
    "- After implementing the algorithm, apply it to the `karate` dataset, trying to identify 2 clusters."
   ]
  },
  {
   "cell_type": "code",
   "execution_count": 7,
   "metadata": {},
   "outputs": [],
   "source": [
    "from scipy.sparse.linalg import eigs\n",
    "from sklearn.cluster import KMeans\n",
    "\n",
    "def spectral_clustering(G, k):\n",
    "    n = G.number_of_nodes()\n",
    "    A = nx.to_numpy_matrix(G)\n",
    "    D = np.zeros((n,n))\n",
    "    for i in range(n):\n",
    "        D[i,i] = np.sum(A[i,:])\n",
    "        \n",
    "    L = D - A\n",
    "    \n",
    "    eigvals, eigvecs = eigs(L, k=k, which='SR')\n",
    "    eigvecs = eigvecs.real\n",
    "    \n",
    "    km = KMeans(n_clusters=k)\n",
    "    km.fit(eigvecs)\n",
    "    \n",
    "    clustering = dict()\n",
    "    for i,node in enumerate(G.nodes()):\n",
    "        clustering[node] = km.labels_[i]\n",
    "    \n",
    "    return clustering\n",
    "\n",
    "spectral_clustering_result = spectral_clustering(G, 2)"
   ]
  },
  {
   "cell_type": "markdown",
   "metadata": {},
   "source": [
    "We will next visualize the clustering result.\n",
    "\n",
    "<u>Task</u>:\n",
    "- Use the [`draw`](https://networkx.github.io/documentation/stable/reference/generated/networkx.drawing.nx_pylab.draw.html#networkx.drawing.nx_pylab.draw) function of NetworkX to visualize the `karate` network. Use the same color for all the nodes belonging to the same cluster."
   ]
  },
  {
   "cell_type": "code",
   "execution_count": 9,
   "metadata": {},
   "outputs": [
    {
     "data": {
      "image/png": "[encoded data removed]",
      "text/plain": [
       "<Figure size 432x288 with 1 Axes>"
      ]
     },
     "metadata": {},
     "output_type": "display_data"
    }
   ],
   "source": [
    "colors = [spectral_clustering_result[node] for node in G.nodes()]\n",
    "nx.draw(G, node_color=colors)"
   ]
  },
  {
   "cell_type": "markdown",
   "metadata": {},
   "source": [
    "To assess the quality of a clustering algorithm, several metrics have been proposed. Modularity is one of the most popular and widely used metrics to evaluate the quality of a network's partition into communities. Considering a specific partition of the network into clusters, modularity measures the number of edges that lie within a cluster compared to the expected number of edges of a null graph (or configuration model), i.e., a random graph with the same degree distribution. In other words, the measure of modularity is built upon the idea that random graphs are not expected to present inherent community structure; thus, comparing the observed density of a subgraph with the expected density of the same subgraph in case where edges are placed randomly, leads to a community evaluation metric. Modularity is given by the following formula:\n",
    "$$ Q = \\sum^{n_c} \\Bigg[ \\frac{l_c}{m} - \\Big(\\frac{d_c}{2m}\\Big)^2\\Bigg] $$\n",
    "where, $m=|E|$ is the total number of edges in the graph, $n_c$ is the number of communities in the graph, $l_c$ is the number of edges within the community $c$ and $d_c$ is the sum of the degrees of the nodes that belong to community $c$. Modularity takes values in the range $[-1, 1]$, with higher values indicating better community structure.\n",
    "\n",
    "<u>Task</u>:\n",
    "- Implement a function that given a graph and and an assignment of nodes to clusters, computes the modularity of the clustering result."
   ]
  },
  {
   "cell_type": "code",
   "execution_count": 10,
   "metadata": {},
   "outputs": [],
   "source": [
    "def modularity(G, clustering):\n",
    "    modularity = 0\n",
    "    m = G.number_of_edges()\n",
    "    \n",
    "    clusters = set(clustering.values())\n",
    "    \n",
    "    for cluster in clusters:\n",
    "        nodes_in_cluster = [node for node in G.nodes() if clustering[node]==cluster]\n",
    "        \n",
    "        subG = G.subgraph(nodes_in_cluster)\n",
    "        l_c = subG.number_of_edges()\n",
    "        d_c = sum([G.degree(node) for node in nodes_in_cluster])\n",
    "        \n",
    "        modularity += l_c/m - (d_c/(2*m))**2\n",
    "    \n",
    "    return modularity"
   ]
  },
  {
   "cell_type": "markdown",
   "metadata": {},
   "source": [
    "Next, we will use modularity to compare the following two clustering results of the `karate` dataset: (i) the one obtained by the Spectral Clustering algorithm, and (ii) the one obtained if we randomly partition the nodes into 2 clusters.\n",
    "To assign each node to a cluster, use the `randint(a,b)` function which returns a random integer $n$ such that $a \\leq n \\leq b$.\n",
    "\n",
    "<u>Tasks</u>:\n",
    "- Assign the nodes of the `karate` network randomly to 2 clusters to generate a random partitioning of the network.\n",
    "- Compare the two clustering results. What is the performance of the Spectral Clustering algorithm compared to the algorithm that randomly clusters the nodes?"
   ]
  },
  {
   "cell_type": "code",
   "execution_count": 11,
   "metadata": {},
   "outputs": [
    {
     "name": "stdout",
     "output_type": "stream",
     "text": [
      "Modularity of spectral clustering: 0.233974358974359\n",
      "Modularity of random clustering: -0.0032873109796187072\n"
     ]
    }
   ],
   "source": [
    "from random import randint\n",
    "\n",
    "print(\"Modularity of spectral clustering:\", modularity(G, spectral_clustering_result))\n",
    "\n",
    "random_clustering_result = dict()\n",
    "for node in G.nodes():\n",
    "    random_clustering_result[node] = randint(0,1)\n",
    "    \n",
    "print(\"Modularity of random clustering:\", modularity(G, random_clustering_result))"
   ]
  },
  {
   "cell_type": "markdown",
   "metadata": {},
   "source": [
    "# Graph Classification\n",
    "In the last part of the lab, we will focus on the problem of graph classification. Graph classification arises in the context of a number of classical domains such as chemical data, biological data, and the web. In order to perform graph classification, we will employ graph kernels, a powerful framework for graph comparison.\n",
    "\n",
    "Kernels can be intuitively understood as functions measuring the similarity of pairs of objects. More formally, for a function $k(x,x')$ to be a kernel, it has to be (1) symmetric: $k(x,x') = k(x',x)$, and (2) positive semi-definite. If a function satisfies the above two conditions on a set $\\mathcal{X}$, it is known that there exists a map $\\phi : \\mathcal{X} \\to \\mathcal{H}$ into a Hilbert space $\\mathcal{H}$, such that $k(x,x') = \\langle \\phi(x), \\phi(x') \\rangle$ for all $(x, x') \\in \\mathcal{X}^2$ where $\\langle\\cdot, \\cdot\\rangle$ is the inner product in $\\mathcal{H}$. Kernel functions thus compute the inner product between examples that are mapped in a higher-dimensional feature space. However, they do not necessarily explicitly compute the feature map $\\phi$ for each example. One advantage of kernel methods is that they can operate on very general types of data such as images and graphs. Kernels defined on graphs are known as *graph kernels*. Most graph kernels decompose graphs into their substructures and then to measure their similarity, they count the number of common substructures. Graph kernels typically focus on some structural aspect of graphs such as random walks, shortest paths, subtrees, cycles, and graphlets.\n",
    "\n",
    "We will first create a very simple graph classification dataset. The dataset will contain two types of graphs: (1) cycle graphs, and (2) path graphs. A cycle graph $C_n$ is a graph on $n$ nodes containing a single cycle through all nodes, while a path graph $P_n$ is a tree with two nodes of degree 1, and all the remaining $n-2$ nodes of degree 2. Each graph is assigned a class label: label 0 if it is a cycle or label 1 if it is a path. The Figure below illustrates such a dataset consisting of three cycle graphs and three path graphs.\n",
    "\n",
    "<img src=\"synthetic_graphs.png\" width=\"500\"/>\n",
    "    \n",
    "<u>Task</u>:\n",
    "- Use the [`cycle_graph()`](https://networkx.github.io/documentation/stable/reference/generated/networkx.generators.classic.cycle_graph.html#networkx.generators.classic.cycle_graph) and [`path_graph()`](https://networkx.github.io/documentation/stable/reference/generated/networkx.generators.classic.path_graph.html#networkx.generators.classic.path_graph) functions of NetworkX to generate 100 cycle graphs and 100 path graphs of size $n=3,\\ldots,102$, respectively. Store the 200 graphs in a list $Gs$ and their class labels in another list $y$."
   ]
  },
  {
   "cell_type": "code",
   "execution_count": 12,
   "metadata": {},
   "outputs": [
    {
     "data": {
      "image/png": "[encoded data removed]",
      "text/plain": [
       "<Figure size 432x288 with 1 Axes>"
      ]
     },
     "metadata": {},
     "output_type": "display_data"
    }
   ],
   "source": [
    "Gs = list()\n",
    "y = list()\n",
    "\n",
    "for i in range(3, 103):\n",
    "    Gs.append(nx.cycle_graph(i))\n",
    "    y.append(0)\n",
    "    Gs.append(nx.path_graph(i))\n",
    "    y.append(1)\n",
    "    \n",
    "nx.draw(Gs[4])"
   ]
  },
  {
   "cell_type": "markdown",
   "metadata": {},
   "source": [
    "We will next investigate if graph kernels can distinguish cycle graphs from path graphs. To this end, we will make use of the shortest path kernel, a kernel that compares shortest path lengths in two graps. Before computing the kernel, it is necessary to split the dataset into a training and a test set. We can use the [`train_test_split()`](https://scikit-learn.org/stable/modules/generated/sklearn.model_selection.train_test_split.html) function of scikit-learn as follows:\n",
    "    \n",
    "    from sklearn.model_selection import train_test_split\n",
    "\n",
    "    G_train, G_test, y_train, y_test = train_test_split(Gs, y, test_size=0.1)\n",
    "    \n",
    "<u>Task</u>:\n",
    "- Split the dataset into a training and a test set."
   ]
  },
  {
   "cell_type": "code",
   "execution_count": 13,
   "metadata": {},
   "outputs": [],
   "source": [
    "from sklearn.model_selection import train_test_split\n",
    "\n",
    "G_train, G_test, y_train, y_test = train_test_split(Gs, y, test_size=0.1)"
   ]
  },
  {
   "cell_type": "markdown",
   "metadata": {},
   "source": [
    "The shortest path kernel compares the length of shortest paths of two graphs. More specifically, given two graphs $G=(V,E)$ and $G'=(V',E')$, the shortest path kernel is defined as:\n",
    "\n",
    "$$\n",
    "k(G,G') = \\sum_{(v_1,v_2) \\in V \\times V} \\sum_{(v'_1,v'_2) \\in V' \\times V'} k_{length}(sp_{v_1,v_2}, sp_{v'_1,v'_2})\n",
    "$$\n",
    "\n",
    "where $k_{length}$ is a kernel on shortest path lengths, and $sp_{v_i,v_j}$ is the length of the shortest path between vertices $v_i$ and $v_j$. We will use the following kernel for comparing shortest path lengths:\n",
    "\n",
    "$$\n",
    "k_{length}(sp_{v_1,v_2}, sp_{v'_1,v'_2}) = \\left\\{\n",
    "            \\begin{array}{lr}\n",
    "                1 & \\text{if }sp_{v_1,v_2} = sp_{v'_1,v'_2},\\\\\n",
    "                0 & \\text{otherwise}\n",
    "            \\end{array}\n",
    "            \\right.\n",
    "$$\n",
    "\n",
    "Therefore, $k_{length}(sp_{v_1,v_2}, sp_{v'_1,v'_2})$ is equal to 1 if $sp_{v_1,v_2}$ and $sp_{v'_1,v'_2}$ are equal to each other, and $0$ otherwise.\n",
    "\n",
    "Below you are given a function that takes as input two sets of graphs (of sizes $N_1$ and $N_2$), and computes the kernel matrix $K \\in \\mathbb{R}^{N_1\\times N_2}$ which stores the kernel values between the graphs of the first set and those of the second set."
   ]
  },
  {
   "cell_type": "code",
   "execution_count": 14,
   "metadata": {},
   "outputs": [],
   "source": [
    "def sp_kernel(Gs1, Gs2):\n",
    "    N1 = len(Gs1)\n",
    "    N2 = len(Gs2)\n",
    "    \n",
    "    all_paths = dict()\n",
    "    sp_counts = dict()\n",
    "    \n",
    "    for i,G in enumerate(Gs1):\n",
    "        sp_lengths = dict(nx.shortest_path_length(G))\n",
    "        sp_counts[i] = dict()\n",
    "        nodes = G.nodes()\n",
    "        for v1 in nodes:\n",
    "            for v2 in nodes:\n",
    "                if v2 in sp_lengths[v1]:\n",
    "                    length = sp_lengths[v1][v2]\n",
    "                    if length in sp_counts[i]:\n",
    "                        sp_counts[i][length] += 1\n",
    "                    else:\n",
    "                        sp_counts[i][length] = 1\n",
    "\n",
    "                    if length not in all_paths:\n",
    "                        all_paths[length] = len(all_paths)\n",
    "                        \n",
    "    for i,G in enumerate(Gs2):\n",
    "        sp_lengths = dict(nx.shortest_path_length(G))\n",
    "        sp_counts[N1+i] = dict()\n",
    "        nodes = G.nodes()\n",
    "        for v1 in nodes:\n",
    "            for v2 in nodes:\n",
    "                if v2 in sp_lengths[v1]:\n",
    "                    length = sp_lengths[v1][v2]\n",
    "                    if length in sp_counts[N1+i]:\n",
    "                        sp_counts[N1+i][length] += 1\n",
    "                    else:\n",
    "                        sp_counts[N1+i][length] = 1\n",
    "\n",
    "                    if length not in all_paths:\n",
    "                        all_paths[length] = len(all_paths)\n",
    "\n",
    "    phi1 = np.zeros((N1, len(all_paths)))\n",
    "    for i in range(N1):\n",
    "        for length in sp_counts[i]:\n",
    "            phi1[i,all_paths[length]] = sp_counts[i][length]\n",
    "            \n",
    "    phi2 = np.zeros((N2, len(all_paths)))\n",
    "    for i in range(N2):\n",
    "        for length in sp_counts[N1+i]:\n",
    "            phi2[i,all_paths[length]] = sp_counts[N1+i][length]\n",
    "\n",
    "    K = np.dot(phi1,phi2.T)\n",
    "\n",
    "    return K"
   ]
  },
  {
   "cell_type": "markdown",
   "metadata": {},
   "source": [
    "We are interested in generating two matrices. A symmetric matrix $\\mathbf{K}_{train}$ which contains the kernel values for all pairs of training graphs, and a second matrix $\\mathbf{K}_{test}$ which stores the kernel values between the graphs of the test set and those of the training set. We can obtain these two matrices very easily using the function defined above. After generating the two kernel matrices, we can use the SVM classifier to perform graph classification.\n",
    "\n",
    "<u>Tasks</u>:\n",
    "- Use the shortest path kernel to compute the $\\mathbf{K}_{train}$ and $\\mathbf{K}_{test}$ matrices.\n",
    "- Train an [SVM classifier](https://scikit-learn.org/stable/modules/generated/sklearn.svm.SVC.html) and use it to make predictions. Note that we have already pre-computed the kernel matrices (set parameter kernel equal to 'precomputed').  "
   ]
  },
  {
   "cell_type": "code",
   "execution_count": 15,
   "metadata": {},
   "outputs": [
    {
     "name": "stdout",
     "output_type": "stream",
     "text": [
      "(180, 180)\n",
      "(20, 180)\n"
     ]
    }
   ],
   "source": [
    "from sklearn.svm import SVC\n",
    "\n",
    "K_train = sp_kernel(G_train, G_train)\n",
    "print(K_train.shape)\n",
    "\n",
    "K_test = sp_kernel(G_test, G_train)\n",
    "print(K_test.shape)\n",
    "\n",
    "clf = SVC(kernel='precomputed')\n",
    "clf.fit(K_train, y_train)\n",
    "y_pred = clf.predict(K_test)"
   ]
  },
  {
   "cell_type": "markdown",
   "metadata": {},
   "source": [
    "Finally, we will evaluate the shortest path kernel. More specifically, we will compute its classification accuracy.\n",
    "\n",
    "<u>Tasks</u>:\n",
    "- Use the [`accuracy_score()`](https://scikit-learn.org/stable/modules/generated/sklearn.metrics.accuracy_score.html) function of scikit-learn to compute the classification accuracy of the shortest path kernel. "
   ]
  },
  {
   "cell_type": "code",
   "execution_count": 16,
   "metadata": {},
   "outputs": [
    {
     "name": "stdout",
     "output_type": "stream",
     "text": [
      "Accuracy: 1.0\n"
     ]
    }
   ],
   "source": [
    "from sklearn.metrics import accuracy_score\n",
    "\n",
    "print(\"Accuracy:\", accuracy_score(y_test, y_pred))"
   ]
  }
 ],
 "metadata": {
  "kernelspec": {
   "display_name": "Python 3",
   "language": "python",
   "name": "python3"
  },
  "language_info": {
   "codemirror_mode": {
    "name": "ipython",
    "version": 3
   },
   "file_extension": ".py",
   "mimetype": "text/x-python",
   "name": "python",
   "nbconvert_exporter": "python",
   "pygments_lexer": "ipython3",
   "version": "3.7.4"
  }
 },
 "nbformat": 4,
 "nbformat_minor": 2
}
